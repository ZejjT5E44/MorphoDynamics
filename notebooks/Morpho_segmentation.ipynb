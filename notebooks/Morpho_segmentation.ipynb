{
 "cells": [
  {
   "cell_type": "code",
   "execution_count": null,
   "metadata": {},
   "outputs": [],
   "source": [
    "# only for classic notebook\n",
    "%%javascript\n",
    "IPython.OutputArea.prototype._should_scroll = function(lines) {\n",
    "    return false;\n",
    "}"
   ]
  },
  {
   "cell_type": "code",
   "execution_count": null,
   "metadata": {},
   "outputs": [],
   "source": [
    "#%load_ext autoreload\n",
    "#%autoreload 2\n",
    "#import warnings\n",
    "#warnings.filterwarnings(\"ignore\")\n",
    "\n",
    "from morphodynamics.morpho_segmentation import InteractSeg\n",
    "import matplotlib.pyplot as plt\n",
    "%matplotlib widget\n",
    "plt.ioff();"
   ]
  },
  {
   "cell_type": "markdown",
   "metadata": {},
   "source": [
    "## Define a default folder\n",
    "You can define a path to a folder containing your data to avoid repeatedly browsing to it."
   ]
  },
  {
   "cell_type": "code",
   "execution_count": null,
   "metadata": {},
   "outputs": [],
   "source": [
    "default_data_path = '../synthetic/data/'\n",
    "default_segmentation_path = '../synthetic/data/Ilastiksegmentation/'\n",
    "default_analysis_path = '../synthetic/data/Results_ilastik/'"
   ]
  },
  {
   "cell_type": "code",
   "execution_count": null,
   "metadata": {},
   "outputs": [],
   "source": [
    "# create interface\n",
    "interactseg = InteractSeg(data_folder=default_data_path, analysis_folder=default_analysis_path, seg_folder=default_segmentation_path)\n",
    "interactseg.interface"
   ]
  },
  {
   "cell_type": "code",
   "execution_count": null,
   "metadata": {},
   "outputs": [],
   "source": []
  }
 ],
 "metadata": {
  "kernelspec": {
   "display_name": "Python 3 (ipykernel)",
   "language": "python",
   "name": "python3"
  },
  "language_info": {
   "codemirror_mode": {
    "name": "ipython",
    "version": 3
   },
   "file_extension": ".py",
   "mimetype": "text/x-python",
   "name": "python",
   "nbconvert_exporter": "python",
   "pygments_lexer": "ipython3",
   "version": "3.9.7"
  },
  "toc": {
   "base_numbering": 1,
   "nav_menu": {},
   "number_sections": false,
   "sideBar": true,
   "skip_h1_title": false,
   "title_cell": "Table of Contents",
   "title_sidebar": "Contents",
   "toc_cell": false,
   "toc_position": {},
   "toc_section_display": true,
   "toc_window_display": false
  },
  "varInspector": {
   "cols": {
    "lenName": 16,
    "lenType": 16,
    "lenVar": 40
   },
   "kernels_config": {
    "python": {
     "delete_cmd_postfix": "",
     "delete_cmd_prefix": "del ",
     "library": "var_list.py",
     "varRefreshCmd": "print(var_dic_list())"
    },
    "r": {
     "delete_cmd_postfix": ") ",
     "delete_cmd_prefix": "rm(",
     "library": "var_list.r",
     "varRefreshCmd": "cat(var_dic_list()) "
    }
   },
   "types_to_exclude": [
    "module",
    "function",
    "builtin_function_or_method",
    "instance",
    "_Feature"
   ],
   "window_display": false
  },
  "widgets": {
   "application/vnd.jupyter.widget-state+json": {
    "state": {
     "009700177ead40089e773301b9325cfd": {
      "model_module": "@jupyter-widgets/base",
      "model_module_version": "1.2.0",
      "model_name": "LayoutModel",
      "state": {
       "width": "300px"
      }
     },
     "00c639905b1f4ee995dcbc713f7098a8": {
      "model_module": "@jupyter-widgets/controls",
      "model_module_version": "1.5.0",
      "model_name": "SliderStyleModel",
      "state": {
       "description_width": ""
      }
     },
     "01ad7bcad4264b3baadbb500b65d2cab": {
      "model_module": "@jupyter-widgets/output",
      "model_module_version": "1.0.0",
      "model_name": "OutputModel",
      "state": {
       "layout": "IPY_MODEL_1c0a165412454a74a6d92053d0d37120",
       "outputs": [
        {
         "data": {
          "application/vnd.jupyter.widget-view+json": {
           "model_id": "",
           "version_major": 2,
           "version_minor": 0
          },
          "text/plain": "HBox(children=(Output(), VBox(children=(IntSlider(value=0, description='Time', max=39), IntRangeSlider(value=(…"
         },
         "metadata": {},
         "output_type": "display_data"
        }
       ]
      }
     },
     "01d2806560ca4b0c9001b401577a0397": {
      "model_module": "@jupyter-widgets/controls",
      "model_module_version": "1.5.0",
      "model_name": "HTMLModel",
      "state": {
       "layout": "IPY_MODEL_d43e9fb13e1e4c75a7660d0f1b9278df",
       "style": "IPY_MODEL_801e453c553142308d295d4807a8841e",
       "value": "<br><font size=\"5\"><b>1. Are you running a new analysis or loading one?<b></font>"
      }
     },
     "024be71823a548668fb263b92879266f": {
      "model_module": "@jupyter-widgets/controls",
      "model_module_version": "1.5.0",
      "model_name": "HTMLModel",
      "state": {
       "layout": "IPY_MODEL_0ec7dbc51ba34552b878bfe682fd9670",
       "style": "IPY_MODEL_db7f135d49214aaaa251af41e2c453d1",
       "value": "<br><font size=\"5\"><b>2. Select locations<b></font>                    <br><font size=\"3\"><b>Choose the location of the analysis that you want to import. That folder should                        contain e.g. a Parameters.yml file.                            <p style=\"color:lightgreen;\">Once you are done, hit the \"Load analysis\" button.</p>. .<b></font>"
      }
     },
     "028ce7608eaa4a4bbe8c67a7d85b724c": {
      "model_module": "@jupyter-widgets/base",
      "model_module_version": "1.2.0",
      "model_name": "LayoutModel",
      "state": {
       "width": "300px"
      }
     },
     "02939b8d05f340c5bc64ac999fea267d": {
      "model_module": "@jupyter-widgets/controls",
      "model_module_version": "1.5.0",
      "model_name": "FloatTextModel",
      "state": {
       "description": "Diameter:",
       "layout": "IPY_MODEL_b00e52d506074a1abf1663c4c9622b6e",
       "step": null,
       "style": "IPY_MODEL_2860b21ef864490f8d2fcc3d78095d5e",
       "value": 100
      }
     },
     "02fd0037fd48490c8f8cc278723b11fc": {
      "model_module": "@jupyter-widgets/controls",
      "model_module_version": "1.5.0",
      "model_name": "HBoxModel",
      "state": {
       "children": [
        "IPY_MODEL_a5852cbe85614c7880ba6f892fbaf3f4",
        "IPY_MODEL_280e41a54db44ccebb16467524eb3eb5"
       ],
       "layout": "IPY_MODEL_99c683afdcf842ca83c2f4da039a237d"
      }
     },
     "04a4ea4419c04d0fac781148cc5d7168": {
      "model_module": "@jupyter-widgets/base",
      "model_module_version": "1.2.0",
      "model_name": "LayoutModel",
      "state": {}
     },
     "04ab704c463049ca93c9391a40b9fd6d": {
      "model_module": "@jupyter-widgets/controls",
      "model_module_version": "1.5.0",
      "model_name": "IntSliderModel",
      "state": {
       "description": "Time",
       "layout": "IPY_MODEL_0c775fe7035c4297bf57c03368385ac2",
       "max": 39,
       "style": "IPY_MODEL_00c639905b1f4ee995dcbc713f7098a8"
      }
     },
     "06d0044b50c946048bf3b0bfa40abf65": {
      "model_module": "@jupyter-widgets/controls",
      "model_module_version": "1.5.0",
      "model_name": "FloatTextModel",
      "state": {
       "description": "Location Y",
       "layout": "IPY_MODEL_d1a26d13182141aa8b67b6cb771837d4",
       "step": null,
       "style": "IPY_MODEL_b471c31ecd23469ab83a0e111fdd4089",
       "value": 100
      }
     },
     "06de73fb167b4de3a2991bcf31efcaf2": {
      "model_module": "@jupyter-widgets/controls",
      "model_module_version": "1.5.0",
      "model_name": "IntTextModel",
      "state": {
       "description": "Window width",
       "layout": "IPY_MODEL_484d133c7d8d49f09879eb8e0780df7b",
       "step": 1,
       "style": "IPY_MODEL_79fcbe8e0a5e43d59ba68bbe068a37e5",
       "value": 5
      }
     },
     "07336537dcb14ec1b18602b7164a2430": {
      "model_module": "@jupyter-widgets/base",
      "model_module_version": "1.2.0",
      "model_name": "LayoutModel",
      "state": {}
     },
     "073bbca45bb140dab73f85e4a94301dc": {
      "model_module": "@jupyter-widgets/controls",
      "model_module_version": "1.5.0",
      "model_name": "DescriptionStyleModel",
      "state": {
       "description_width": "initial"
      }
     },
     "08b98969875e45adbc446f14bb8c3c21": {
      "model_module": "@jupyter-widgets/controls",
      "model_module_version": "1.5.0",
      "model_name": "DescriptionStyleModel",
      "state": {
       "description_width": ""
      }
     },
     "08c2ae0c0bfd437a94f0efe2d507d1aa": {
      "model_module": "@jupyter-widgets/base",
      "model_module_version": "1.2.0",
      "model_name": "LayoutModel",
      "state": {}
     },
     "09e4790a546443db98ec5d3b0f25dac5": {
      "model_module": "@jupyter-widgets/base",
      "model_module_version": "1.2.0",
      "model_name": "LayoutModel",
      "state": {}
     },
     "0a035c0d618f46c0b20ec2012d84cafd": {
      "model_module": "@jupyter-widgets/controls",
      "model_module_version": "1.5.0",
      "model_name": "SliderStyleModel",
      "state": {
       "description_width": ""
      }
     },
     "0a21f27da9b34380b2644303767a7b99": {
      "model_module": "@jupyter-widgets/output",
      "model_module_version": "1.0.0",
      "model_name": "OutputModel",
      "state": {
       "layout": "IPY_MODEL_d1025c1a71c9437596810d75779d9298"
      }
     },
     "0b81ecdaf611493dafb5488c579ae8af": {
      "model_module": "@jupyter-widgets/controls",
      "model_module_version": "1.5.0",
      "model_name": "SelectModel",
      "state": {
       "_options_labels": [
        "Ilastiksegmentation",
        "Result_test",
        "Results_cellpose",
        "Results_ilastik",
        "Results_step",
        "Parameters.yml",
        "Results.pkl",
        "synth.ilp",
        "synth_ch1.h5",
        "synth_ch2.h5",
        "synth_ch3.h5"
       ],
       "index": 8,
       "layout": "IPY_MODEL_ae80575d55b3414a97b76c1d5ca45367",
       "style": "IPY_MODEL_44bb18d679fd4ab384dac47d7950282c"
      }
     },
     "0c157ee97f5c4e5ca57f51eb2ccdf356": {
      "model_module": "@jupyter-widgets/controls",
      "model_module_version": "1.5.0",
      "model_name": "DescriptionStyleModel",
      "state": {
       "description_width": ""
      }
     },
     "0c2204eaed564aff894076512f31b149": {
      "model_module": "@jupyter-widgets/controls",
      "model_module_version": "1.5.0",
      "model_name": "TextModel",
      "state": {
       "description": "Bad frames (e.g. 1,2,5-8,12)",
       "layout": "IPY_MODEL_1bb7dafb188f46509c0715a5ee4fe1c8",
       "style": "IPY_MODEL_a76da147c0b94b7f9e1f31cfe4e7f17b"
      }
     },
     "0c775fe7035c4297bf57c03368385ac2": {
      "model_module": "@jupyter-widgets/base",
      "model_module_version": "1.2.0",
      "model_name": "LayoutModel",
      "state": {}
     },
     "0cab6b0770e64534a489a5274baaa2f3": {
      "model_module": "@jupyter-widgets/base",
      "model_module_version": "1.2.0",
      "model_name": "LayoutModel",
      "state": {}
     },
     "0daa2c357b4f4ff7a0af1032a02b7449": {
      "model_module": "@jupyter-widgets/controls",
      "model_module_version": "1.5.0",
      "model_name": "DescriptionStyleModel",
      "state": {
       "description_width": ""
      }
     },
     "0db10a00200a4110bb5e39df678fcd77": {
      "model_module": "@jupyter-widgets/base",
      "model_module_version": "1.2.0",
      "model_name": "LayoutModel",
      "state": {}
     },
     "0e3d8ebe68f244edb4cb36941c03be16": {
      "model_module": "@jupyter-widgets/controls",
      "model_module_version": "1.5.0",
      "model_name": "VBoxModel",
      "state": {
       "children": [
        "IPY_MODEL_85878f6dec4447b1a3bf688a97f87f99",
        "IPY_MODEL_f81d246f88434fb199cc971a88fcb601"
       ],
       "layout": "IPY_MODEL_2fafcf9a85764812bd56bf7b80a5725d"
      }
     },
     "0e8ba01750f14ab39a64846caf70c314": {
      "model_module": "@jupyter-widgets/base",
      "model_module_version": "1.2.0",
      "model_name": "LayoutModel",
      "state": {}
     },
     "0e93b8f087ae4c6ca4be516b630da061": {
      "model_module": "@jupyter-widgets/controls",
      "model_module_version": "1.5.0",
      "model_name": "HTMLModel",
      "state": {
       "layout": "IPY_MODEL_e746245690494f2287a1e38c7b764f94",
       "style": "IPY_MODEL_0daa2c357b4f4ff7a0af1032a02b7449",
       "value": "<br><font size=\"5\"><b>1. Are you running a new analysis or loading one?<b></font>"
      }
     },
     "0ec7dbc51ba34552b878bfe682fd9670": {
      "model_module": "@jupyter-widgets/base",
      "model_module_version": "1.2.0",
      "model_name": "LayoutModel",
      "state": {}
     },
     "101dad308afc4f08a258135d11ae0bcf": {
      "model_module": "@jupyter-widgets/controls",
      "model_module_version": "1.5.0",
      "model_name": "RadioButtonsModel",
      "state": {
       "_options_labels": [
        "farid",
        "cellpose",
        "ilastik"
       ],
       "description": "Segmentation:",
       "index": 2,
       "layout": "IPY_MODEL_53313798313b4bfe9a88e8105fe9fd9d",
       "style": "IPY_MODEL_3e174eae817b4c44a8a646457b8f910e"
      }
     },
     "10798a2f89554560aae6329100733852": {
      "model_module": "@jupyter-widgets/controls",
      "model_module_version": "1.5.0",
      "model_name": "SelectMultipleModel",
      "state": {
       "_options_labels": [
        "Ilastiksegmentation",
        "Result_test",
        "Results_cellpose",
        "Results_ilastik",
        "Results_step",
        "Parameters.yml",
        "Results.pkl",
        "synth.ilp",
        "synth_ch1.h5",
        "synth_ch2.h5",
        "synth_ch3.h5"
       ],
       "index": [
        9,
        10
       ],
       "layout": "IPY_MODEL_a9d5cf8b420e4b35b312d323c80e29ba",
       "rows": 5,
       "style": "IPY_MODEL_e4d63c0601ae4363b1671919bb77660f"
      }
     },
     "11114982b340472eb99efd255b06fbdb": {
      "model_module": "@jupyter-widgets/base",
      "model_module_version": "1.2.0",
      "model_name": "LayoutModel",
      "state": {
       "width": "300px"
      }
     },
     "11c0b02c91cd438da192730f2b6fa6eb": {
      "model_module": "@jupyter-widgets/controls",
      "model_module_version": "1.5.0",
      "model_name": "VBoxModel",
      "state": {
       "children": [
        "IPY_MODEL_7c1da3dbc28c420882d156c56e6b459a",
        "IPY_MODEL_60e2f54e82134b2889dc3f1854ebc1ce",
        "IPY_MODEL_cfbbd76f039c4154955106f47486870d",
        "IPY_MODEL_6e6ccd007c184328bc832e74a109c113",
        "IPY_MODEL_95878b6676df4679afa6a634649b0576"
       ],
       "layout": "IPY_MODEL_46f0fcd0dd4e4451ab08a79168aa15ca"
      }
     },
     "14e922d6355b4578aa74d788a5d94102": {
      "model_module": "@jupyter-widgets/base",
      "model_module_version": "1.2.0",
      "model_name": "LayoutModel",
      "state": {}
     },
     "15b9d6222fd942c0bc4c2f7746b90a25": {
      "model_module": "@jupyter-widgets/base",
      "model_module_version": "1.2.0",
      "model_name": "LayoutModel",
      "state": {}
     },
     "166e4e5852244bc6b6faca7a4458ce48": {
      "model_module": "@jupyter-widgets/controls",
      "model_module_version": "1.5.0",
      "model_name": "IntTextModel",
      "state": {
       "description": "Window width",
       "layout": "IPY_MODEL_7cb3e077a215466bb3c6f021d88e6929",
       "step": 1,
       "style": "IPY_MODEL_b5b168387b844fdeaf1f3c413524aa7d",
       "value": 5
      }
     },
     "16d377ffec334e908d5029541771334d": {
      "model_module": "@jupyter-widgets/base",
      "model_module_version": "1.2.0",
      "model_name": "LayoutModel",
      "state": {}
     },
     "1786c226efe44f2597f3b966ba62d6c6": {
      "model_module": "@jupyter-widgets/base",
      "model_module_version": "1.2.0",
      "model_name": "LayoutModel",
      "state": {}
     },
     "195e1333eb32466f906755fe9f7cb229": {
      "model_module": "@jupyter-widgets/base",
      "model_module_version": "1.2.0",
      "model_name": "LayoutModel",
      "state": {}
     },
     "1a3834477dc342a5b717f36697304af6": {
      "model_module": "@jupyter-widgets/controls",
      "model_module_version": "1.5.0",
      "model_name": "HTMLModel",
      "state": {
       "layout": "IPY_MODEL_38d41d9bedc4446eb7342dbe5a72aaf6",
       "style": "IPY_MODEL_2bf0efdabbac43d7b79582c9f8e506e2",
       "value": "<font size=\"3\"><b>(a) Data folder<b></font>"
      }
     },
     "1b410e1bffc04d0a95778ce9f007a385": {
      "model_module": "@jupyter-widgets/controls",
      "model_module_version": "1.5.0",
      "model_name": "VBoxModel",
      "state": {
       "children": [
        "IPY_MODEL_04ab704c463049ca93c9391a40b9fd6d",
        "IPY_MODEL_872b22a3b9d74429b7e595f5582544f3",
        "IPY_MODEL_d3685c2d579545348b333f886f42b6e6",
        "IPY_MODEL_b758fe737b834f08b1d78fa3afd8866d",
        "IPY_MODEL_d6c2173d3f214519b93e511d583e95b5"
       ],
       "layout": "IPY_MODEL_0cab6b0770e64534a489a5274baaa2f3"
      }
     },
     "1bb7dafb188f46509c0715a5ee4fe1c8": {
      "model_module": "@jupyter-widgets/base",
      "model_module_version": "1.2.0",
      "model_name": "LayoutModel",
      "state": {}
     },
     "1c0a165412454a74a6d92053d0d37120": {
      "model_module": "@jupyter-widgets/base",
      "model_module_version": "1.2.0",
      "model_name": "LayoutModel",
      "state": {}
     },
     "1c6b888c66054949b3fb15b02126e184": {
      "model_module": "@jupyter-widgets/controls",
      "model_module_version": "1.5.0",
      "model_name": "HTMLModel",
      "state": {
       "layout": "IPY_MODEL_1d12a92a4c98489cb65bb723363df25e",
       "style": "IPY_MODEL_38f74cb59c884d4ba4b85f4ebfc67442",
       "value": "<br><font size=\"5\"><b>Run or visualize segmentation<b></font>"
      }
     },
     "1d12a92a4c98489cb65bb723363df25e": {
      "model_module": "@jupyter-widgets/base",
      "model_module_version": "1.2.0",
      "model_name": "LayoutModel",
      "state": {}
     },
     "1d85ffdfb4ce451c8477e606d82d4e69": {
      "model_module": "@jupyter-widgets/base",
      "model_module_version": "1.2.0",
      "model_name": "LayoutModel",
      "state": {}
     },
     "1e34bbd2548c4351a59fd6da41039d0a": {
      "model_module": "@jupyter-widgets/base",
      "model_module_version": "1.2.0",
      "model_name": "LayoutModel",
      "state": {}
     },
     "1e7d91e0b74a498c9fe7c5aa24ca75e5": {
      "model_module": "@jupyter-widgets/base",
      "model_module_version": "1.2.0",
      "model_name": "LayoutModel",
      "state": {}
     },
     "1f88da35b7924967b0ba24340b695084": {
      "model_module": "@jupyter-widgets/output",
      "model_module_version": "1.0.0",
      "model_name": "OutputModel",
      "state": {
       "layout": "IPY_MODEL_af176c5948d74aa791443dd5c8a70ea4",
       "outputs": [
        {
         "data": {
          "application/vnd.jupyter.widget-view+json": {
           "model_id": "",
           "version_major": 2,
           "version_minor": 0
          },
          "text/plain": "VBox(children=(HTML(value='<br><font size=\"5\"><b>1. Are you running a new analysis or loading one?<b></font>')…"
         },
         "metadata": {},
         "output_type": "display_data"
        }
       ]
      }
     },
     "1fbcf447891e40d4a0c4a75b0e693e05": {
      "model_module": "@jupyter-widgets/base",
      "model_module_version": "1.2.0",
      "model_name": "LayoutModel",
      "state": {}
     },
     "2001b5cdc60248a8ab3c3c915be190e7": {
      "model_module": "@jupyter-widgets/controls",
      "model_module_version": "1.5.0",
      "model_name": "DescriptionStyleModel",
      "state": {
       "description_width": ""
      }
     },
     "200d62f498394ce29ce1d03e7040e7aa": {
      "model_module": "@jupyter-widgets/base",
      "model_module_version": "1.2.0",
      "model_name": "LayoutModel",
      "state": {}
     },
     "204f2aef06514c00a92befd689467d14": {
      "model_module": "@jupyter-widgets/controls",
      "model_module_version": "1.5.0",
      "model_name": "HBoxModel",
      "state": {
       "children": [
        "IPY_MODEL_b40cb0a45f2f4d19acec866663ea8a57",
        "IPY_MODEL_8ae8ae000bf243468f2a768284ef56fc"
       ],
       "layout": "IPY_MODEL_200d62f498394ce29ce1d03e7040e7aa"
      }
     },
     "209a201d3aaa4800934374accd9f9b6e": {
      "model_module": "@jupyter-widgets/controls",
      "model_module_version": "1.5.0",
      "model_name": "DescriptionStyleModel",
      "state": {
       "description_width": ""
      }
     },
     "209e76f923de46abb0710c55f309b1c4": {
      "model_module": "@jupyter-widgets/base",
      "model_module_version": "1.2.0",
      "model_name": "LayoutModel",
      "state": {}
     },
     "216e640e818e430d9cc17dc95bd0beaa": {
      "model_module": "@jupyter-widgets/base",
      "model_module_version": "1.2.0",
      "model_name": "LayoutModel",
      "state": {}
     },
     "21718da1e86548ba8d42476a050d8bae": {
      "model_module": "@jupyter-widgets/base",
      "model_module_version": "1.2.0",
      "model_name": "LayoutModel",
      "state": {}
     },
     "2278ca80d32d42e289f03b0738d8ef7d": {
      "model_module": "@jupyter-widgets/base",
      "model_module_version": "1.2.0",
      "model_name": "LayoutModel",
      "state": {}
     },
     "237de6de560e468f8cc5e594b33e58e6": {
      "model_module": "@jupyter-widgets/controls",
      "model_module_version": "1.5.0",
      "model_name": "DescriptionStyleModel",
      "state": {
       "description_width": ""
      }
     },
     "23e1a5d0066e47b5908be12486aefb89": {
      "model_module": "@jupyter-widgets/base",
      "model_module_version": "1.2.0",
      "model_name": "LayoutModel",
      "state": {}
     },
     "24ead49f33ee450486d4233fab1a9cfc": {
      "model_module": "@jupyter-widgets/controls",
      "model_module_version": "1.5.0",
      "model_name": "DescriptionStyleModel",
      "state": {
       "description_width": ""
      }
     },
     "251da2234aa84de0af3e15aaeff9e7b0": {
      "model_module": "@jupyter-widgets/controls",
      "model_module_version": "1.5.0",
      "model_name": "VBoxModel",
      "state": {
       "children": [
        "IPY_MODEL_3710a4a970534486b203c399782d83b8",
        "IPY_MODEL_7867bb036d174184b133e048e8b5ab9d",
        "IPY_MODEL_3580fd269e4c4777b1103097bf207975",
        "IPY_MODEL_204f2aef06514c00a92befd689467d14",
        "IPY_MODEL_9252d2d0467e4097bebb170f84ef7da7",
        "IPY_MODEL_ec8c7dbc1b4d47568a2a946d418ff0cd",
        "IPY_MODEL_40c015a7fafb49728ae9ba3c71b85932",
        "IPY_MODEL_61bd05d55046482a9042280afab5e930"
       ],
       "layout": "IPY_MODEL_b3ad69f3636a4451ab31c7f7ecf9bf8e"
      }
     },
     "25c10cf5a334454eb605d3e22f4b755c": {
      "model_module": "@jupyter-widgets/controls",
      "model_module_version": "1.5.0",
      "model_name": "FloatTextModel",
      "state": {
       "description": "Diameter:",
       "layout": "IPY_MODEL_66f16b183c5a4576ab31ba891d1fb322",
       "step": null,
       "style": "IPY_MODEL_47260182e1ab467da738b6f2aefaf24a",
       "value": 100
      }
     },
     "26a7e11f8184413c9100c10128e2a7fd": {
      "model_module": "@jupyter-widgets/base",
      "model_module_version": "1.2.0",
      "model_name": "LayoutModel",
      "state": {}
     },
     "26ad896208d4489eb7d2152070ba2650": {
      "model_module": "@jupyter-widgets/controls",
      "model_module_version": "1.5.0",
      "model_name": "HTMLModel",
      "state": {
       "layout": "IPY_MODEL_98ddfbdbe32c41339b12d39a0906b3dc",
       "style": "IPY_MODEL_24ead49f33ee450486d4233fab1a9cfc",
       "value": "<font size=\"3\"><b>(b) Signal<b></font>"
      }
     },
     "280e41a54db44ccebb16467524eb3eb5": {
      "model_module": "@jupyter-widgets/output",
      "model_module_version": "1.0.0",
      "model_name": "OutputModel",
      "state": {
       "layout": "IPY_MODEL_1e7d91e0b74a498c9fe7c5aa24ca75e5",
       "outputs": [
        {
         "data": {
          "application/vnd.jupyter.widget-view+json": {
           "model_id": "",
           "version_major": 2,
           "version_minor": 0
          },
          "text/plain": "HBox(children=(Output(), VBox(children=(IntSlider(value=0, description='Time', max=39), IntRangeSlider(value=(…"
         },
         "metadata": {},
         "output_type": "display_data"
        }
       ]
      }
     },
     "2860b21ef864490f8d2fcc3d78095d5e": {
      "model_module": "@jupyter-widgets/controls",
      "model_module_version": "1.5.0",
      "model_name": "DescriptionStyleModel",
      "state": {
       "description_width": ""
      }
     },
     "2b6cc6cc10894bffa88f1a267bac7f39": {
      "model_module": "@jupyter-widgets/base",
      "model_module_version": "1.2.0",
      "model_name": "LayoutModel",
      "state": {}
     },
     "2ba96afd8f334b09b8d089b07bf6f142": {
      "model_module": "@jupyter-widgets/base",
      "model_module_version": "1.2.0",
      "model_name": "LayoutModel",
      "state": {}
     },
     "2bf0efdabbac43d7b79582c9f8e506e2": {
      "model_module": "@jupyter-widgets/controls",
      "model_module_version": "1.5.0",
      "model_name": "DescriptionStyleModel",
      "state": {
       "description_width": ""
      }
     },
     "2c38100f6107445687778cd03206b321": {
      "model_module": "@jupyter-widgets/controls",
      "model_module_version": "1.5.0",
      "model_name": "DescriptionStyleModel",
      "state": {
       "description_width": ""
      }
     },
     "2c8b485c56bf4ec5849e39df4290e3a9": {
      "model_module": "@jupyter-widgets/controls",
      "model_module_version": "1.5.0",
      "model_name": "ButtonStyleModel",
      "state": {}
     },
     "2c971051a39a42cd81dde8c7c43c6fc4": {
      "model_module": "@jupyter-widgets/base",
      "model_module_version": "1.2.0",
      "model_name": "LayoutModel",
      "state": {}
     },
     "2e0a502f0dc647e8bf3de0990ef836a0": {
      "model_module": "@jupyter-widgets/controls",
      "model_module_version": "1.5.0",
      "model_name": "ButtonModel",
      "state": {
       "description": "Refresh folder content",
       "layout": "IPY_MODEL_2ebee623d5ac45ab92405a9328be086f",
       "style": "IPY_MODEL_c49a6c481a0346d3a146f1916017aa71"
      }
     },
     "2ebee623d5ac45ab92405a9328be086f": {
      "model_module": "@jupyter-widgets/base",
      "model_module_version": "1.2.0",
      "model_name": "LayoutModel",
      "state": {
       "width": "300px"
      }
     },
     "2f27c1c97b4042968d45c6ec1352b53c": {
      "model_module": "@jupyter-widgets/controls",
      "model_module_version": "1.5.0",
      "model_name": "DescriptionStyleModel",
      "state": {
       "description_width": ""
      }
     },
     "2fafcf9a85764812bd56bf7b80a5725d": {
      "model_module": "@jupyter-widgets/base",
      "model_module_version": "1.2.0",
      "model_name": "LayoutModel",
      "state": {}
     },
     "317dabb9bd414944af71079886770a19": {
      "model_module": "@jupyter-widgets/controls",
      "model_module_version": "1.5.0",
      "model_name": "ButtonStyleModel",
      "state": {
       "button_color": "lightgreen"
      }
     },
     "328981d9393d445c96f79ce8263f1745": {
      "model_module": "@jupyter-widgets/controls",
      "model_module_version": "1.5.0",
      "model_name": "ButtonStyleModel",
      "state": {}
     },
     "3373c0358c9743219bcffeba3183fad6": {
      "model_module": "@jupyter-widgets/base",
      "model_module_version": "1.2.0",
      "model_name": "LayoutModel",
      "state": {
       "width": "300px"
      }
     },
     "33bbddfffdb642018b3705899d71de38": {
      "model_module": "@jupyter-widgets/controls",
      "model_module_version": "1.5.0",
      "model_name": "VBoxModel",
      "state": {
       "children": [
        "IPY_MODEL_0e93b8f087ae4c6ca4be516b630da061",
        "IPY_MODEL_cd78a4c50eae4707adfa60965b10105b",
        "IPY_MODEL_c3169953ed414452a6014630fc1b75db",
        "IPY_MODEL_5ddcfcba3fe6412b91bcf4d123d0ca68",
        "IPY_MODEL_d473cbbe18b942cb8d1124df5efaa3b5",
        "IPY_MODEL_452bf2aa5bfb422fad486c0056e7094b"
       ],
       "layout": "IPY_MODEL_a6b89933afb34a09a0c4ec822fe108fb"
      }
     },
     "33bcefa732bc4226b272b95e74fac51b": {
      "model_module": "@jupyter-widgets/controls",
      "model_module_version": "1.5.0",
      "model_name": "SelectMultipleModel",
      "state": {
       "_options_labels": [
        "..",
        "segmented",
        ".DS_Store",
        "Curvature.pdf",
        "Parameters.yml",
        "Results.pkl"
       ],
       "index": [],
       "layout": "IPY_MODEL_11114982b340472eb99efd255b06fbdb",
       "rows": 10,
       "style": "IPY_MODEL_f9c1730c63e34dba9181bd59965b898a"
      }
     },
     "350c52c9ffaa4885b46a4072a18b4762": {
      "model_module": "@jupyter-widgets/output",
      "model_module_version": "1.0.0",
      "model_name": "OutputModel",
      "state": {
       "layout": "IPY_MODEL_79ea06a2c2e841edb880f8751fd0aeab",
       "outputs": [
        {
         "data": {
          "application/vnd.jupyter.widget-view+json": {
           "model_id": "",
           "version_major": 2,
           "version_minor": 0
          },
          "text/html": "\n            <div style=\"display: inline-block;\">\n                <div class=\"jupyter-widgets widget-label\" style=\"text-align: center;\">\n                    Figure\n                </div>\n                <img src='data:image/png;base64,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' width=500.0/>\n            </div>\n        ",
          "text/plain": "Canvas(toolbar=Toolbar(toolitems=[('Home', 'Reset original view', 'home', 'home'), ('Back', 'Back to previous …"
         },
         "metadata": {},
         "output_type": "display_data"
        }
       ]
      }
     },
     "3580fd269e4c4777b1103097bf207975": {
      "model_module": "@jupyter-widgets/controls",
      "model_module_version": "1.5.0",
      "model_name": "HTMLModel",
      "state": {
       "layout": "IPY_MODEL_5858a8e5c96a41c79148658bc1625d7d",
       "style": "IPY_MODEL_d3b7424629fc4cf59362cf884a2ffc80",
       "value": "<br><font size=\"5\"><b>3. Choose channels<b></font>                        <br><font size=\"3\"><b>Select the channel that you want to use for (a) Segmentation                             and the channel(s) from which you want to extract (b) Signal.                                <br>Even if you use a pre-computed segmentation, specify a segmentation channel.                                    <p style=\"color:lightgreen;\">Once you are done, hit the Initialize button.</p><b></font>"
      }
     },
     "35aa6998e59441ab8af50ff79857d11c": {
      "model_module": "@jupyter-widgets/controls",
      "model_module_version": "1.5.0",
      "model_name": "ButtonStyleModel",
      "state": {}
     },
     "3710a4a970534486b203c399782d83b8": {
      "model_module": "@jupyter-widgets/controls",
      "model_module_version": "1.5.0",
      "model_name": "HTMLModel",
      "state": {
       "layout": "IPY_MODEL_40af2571b86a471599d4086fdb85c8e7",
       "style": "IPY_MODEL_ff0d6ea6a46b407ba735236da171e742",
       "value": "<br><font size=\"5\"><b>2. Select locations.<b></font>                        <br><font size=\"3\"><b>Select the folders (a) containing your data, (b) where your results                     should be saved, and (c) where the segmentation either is already available or should be saved.<b></font>"
      }
     },
     "372351650e4b4f77907bb82abe4d6634": {
      "model_module": "@jupyter-widgets/base",
      "model_module_version": "1.2.0",
      "model_name": "LayoutModel",
      "state": {}
     },
     "3772d8b4b6f44cf697cb288b96980b90": {
      "model_module": "@jupyter-widgets/base",
      "model_module_version": "1.2.0",
      "model_name": "LayoutModel",
      "state": {}
     },
     "37b6bcef57694395a65a315103921305": {
      "model_module": "@jupyter-widgets/base",
      "model_module_version": "1.2.0",
      "model_name": "LayoutModel",
      "state": {}
     },
     "38561834801e42038365b0c2a80b5a40": {
      "model_module": "@jupyter-widgets/controls",
      "model_module_version": "1.5.0",
      "model_name": "RadioButtonsModel",
      "state": {
       "_options_labels": [
        "New segmentation",
        "Re-use segmentation"
       ],
       "description": "Segmentation computation:",
       "index": 0,
       "layout": "IPY_MODEL_947b5b0abede4dbab2133ce43be088e5",
       "style": "IPY_MODEL_ed60d3b7ff5048269454be1d0ad82e96"
      }
     },
     "388eea4faa8e461f9901f32386d41187": {
      "model_module": "@jupyter-widgets/base",
      "model_module_version": "1.2.0",
      "model_name": "LayoutModel",
      "state": {}
     },
     "388fa6c1d0ea4bf6ac6fc6dcb060618b": {
      "model_module": "@jupyter-widgets/controls",
      "model_module_version": "1.5.0",
      "model_name": "SelectModel",
      "state": {
       "_options_labels": [
        "local",
        "cluster"
       ],
       "index": null,
       "layout": "IPY_MODEL_c3463b409a7444fbabc7984c1ad0b497",
       "style": "IPY_MODEL_0c157ee97f5c4e5ca57f51eb2ccdf356"
      }
     },
     "38d221f4063a45f3b5ab54641c301cec": {
      "model_module": "@jupyter-widgets/controls",
      "model_module_version": "1.5.0",
      "model_name": "HTMLModel",
      "state": {
       "layout": "IPY_MODEL_1d85ffdfb4ce451c8477e606d82d4e69",
       "style": "IPY_MODEL_7a0740b2020d48ad97eec218c8169653",
       "value": "<br><font size=\"5\"><b>Run or visualize segmentation<b></font>"
      }
     },
     "38d41d9bedc4446eb7342dbe5a72aaf6": {
      "model_module": "@jupyter-widgets/base",
      "model_module_version": "1.2.0",
      "model_name": "LayoutModel",
      "state": {}
     },
     "38f74cb59c884d4ba4b85f4ebfc67442": {
      "model_module": "@jupyter-widgets/controls",
      "model_module_version": "1.5.0",
      "model_name": "DescriptionStyleModel",
      "state": {
       "description_width": ""
      }
     },
     "39816539a3544103850d67c7688b4ff7": {
      "model_module": "@jupyter-widgets/controls",
      "model_module_version": "1.5.0",
      "model_name": "FloatTextModel",
      "state": {
       "description": "Location X",
       "layout": "IPY_MODEL_acdf8f7c14394f27beed150b82ef1241",
       "step": null,
       "style": "IPY_MODEL_c5a2f31d22704d9fa6e0adc69d290d77",
       "value": 100
      }
     },
     "398757ebb8e74c078e73252b27fdb45c": {
      "model_module": "@jupyter-widgets/base",
      "model_module_version": "1.2.0",
      "model_name": "LayoutModel",
      "state": {}
     },
     "3bdb5ab027a04546be4f3afb9c69b88a": {
      "model_module": "@jupyter-widgets/controls",
      "model_module_version": "1.5.0",
      "model_name": "RadioButtonsModel",
      "state": {
       "_options_labels": [
        "New segmentation",
        "Re-use segmentation"
       ],
       "description": "Segmentation computation:",
       "index": 0,
       "layout": "IPY_MODEL_88642b09e19b4e6494e06656fc8458d1",
       "style": "IPY_MODEL_de9f29816bc5401d82d1feaef970072e"
      }
     },
     "3c8b28f01453412f872a6cb5088aaa54": {
      "model_module": "@jupyter-widgets/controls",
      "model_module_version": "1.5.0",
      "model_name": "IntRangeSliderModel",
      "state": {
       "_model_name": "IntRangeSliderModel",
       "_view_name": "IntRangeSliderView",
       "description": "Intensity range",
       "layout": "IPY_MODEL_e8ac122f3aea4a92a7919c882db97cc9",
       "max": 0,
       "style": "IPY_MODEL_e72104ac36e5449f9c87ebcaebc29506",
       "value": [
        0,
        0
       ]
      }
     },
     "3cda97b482824ce9b6aa088c7bc4d960": {
      "model_module": "jupyter-matplotlib",
      "model_module_version": "^0.10.2",
      "model_name": "ToolbarModel",
      "state": {
       "layout": "IPY_MODEL_3f1312df76e44eb0b58d03c9e37dac26",
       "toolitems": [
        [
         "Home",
         "Reset original view",
         "home",
         "home"
        ],
        [
         "Back",
         "Back to previous view",
         "arrow-left",
         "back"
        ],
        [
         "Forward",
         "Forward to next view",
         "arrow-right",
         "forward"
        ],
        [
         "Pan",
         "Left button pans, Right button zooms\nx/y fixes axis, CTRL fixes aspect",
         "arrows",
         "pan"
        ],
        [
         "Zoom",
         "Zoom to rectangle\nx/y fixes axis",
         "square-o",
         "zoom"
        ],
        [
         "Download",
         "Download plot",
         "floppy-o",
         "save_figure"
        ]
       ]
      }
     },
     "3e174eae817b4c44a8a646457b8f910e": {
      "model_module": "@jupyter-widgets/controls",
      "model_module_version": "1.5.0",
      "model_name": "DescriptionStyleModel",
      "state": {
       "description_width": ""
      }
     },
     "3e23066a36724028b97fe9a353745c40": {
      "model_module": "@jupyter-widgets/controls",
      "model_module_version": "1.5.0",
      "model_name": "ButtonStyleModel",
      "state": {}
     },
     "3f1312df76e44eb0b58d03c9e37dac26": {
      "model_module": "@jupyter-widgets/base",
      "model_module_version": "1.2.0",
      "model_name": "LayoutModel",
      "state": {}
     },
     "3ff0c2a8c030434192663fe2c7d841de": {
      "model_module": "@jupyter-widgets/controls",
      "model_module_version": "1.5.0",
      "model_name": "ButtonStyleModel",
      "state": {}
     },
     "40049f6c6a444049b6476183fe31e42c": {
      "model_module": "@jupyter-widgets/base",
      "model_module_version": "1.2.0",
      "model_name": "LayoutModel",
      "state": {}
     },
     "404a24e9e9cb4ccd90f6d946d1586d44": {
      "model_module": "@jupyter-widgets/controls",
      "model_module_version": "1.5.0",
      "model_name": "HBoxModel",
      "state": {
       "children": [
        "IPY_MODEL_a88d78eaa2014daebe7eae1444adb8df",
        "IPY_MODEL_11c0b02c91cd438da192730f2b6fa6eb"
       ],
       "layout": "IPY_MODEL_2ba96afd8f334b09b8d089b07bf6f142"
      }
     },
     "408660854c0844b8b880829cb4509f5e": {
      "model_module": "@jupyter-widgets/base",
      "model_module_version": "1.2.0",
      "model_name": "LayoutModel",
      "state": {}
     },
     "40af2571b86a471599d4086fdb85c8e7": {
      "model_module": "@jupyter-widgets/base",
      "model_module_version": "1.2.0",
      "model_name": "LayoutModel",
      "state": {}
     },
     "40c015a7fafb49728ae9ba3c71b85932": {
      "model_module": "@jupyter-widgets/controls",
      "model_module_version": "1.5.0",
      "model_name": "SelectModel",
      "state": {
       "_options_labels": [
        "local",
        "cluster"
       ],
       "index": null,
       "layout": "IPY_MODEL_4b5a384012234b21a62cee2e57da7216",
       "style": "IPY_MODEL_6b3a0d2033e1421cb37b28982021b67e"
      }
     },
     "40db0208014c43f280bd0d0fa7f27665": {
      "model_module": "@jupyter-widgets/controls",
      "model_module_version": "1.5.0",
      "model_name": "DescriptionStyleModel",
      "state": {
       "description_width": ""
      }
     },
     "40eb113b83804378914e60c3602dc869": {
      "model_module": "@jupyter-widgets/controls",
      "model_module_version": "1.5.0",
      "model_name": "VBoxModel",
      "state": {
       "children": [
        "IPY_MODEL_bd37e97658d6471fae94441e4a4e031d",
        "IPY_MODEL_582bc95797cc4e9f90bb5cff0e4bf1d4"
       ],
       "layout": "IPY_MODEL_4d283b67853549ffb4cc47ed235d39fd"
      }
     },
     "4121654d52724abeb5782a5fbae27961": {
      "model_module": "@jupyter-widgets/controls",
      "model_module_version": "1.5.0",
      "model_name": "SliderStyleModel",
      "state": {
       "description_width": ""
      }
     },
     "414c64b3c1164668ba2107736c7b9d21": {
      "model_module": "@jupyter-widgets/base",
      "model_module_version": "1.2.0",
      "model_name": "LayoutModel",
      "state": {}
     },
     "4222f6079c294959adece11926ec07d8": {
      "model_module": "@jupyter-widgets/base",
      "model_module_version": "1.2.0",
      "model_name": "LayoutModel",
      "state": {}
     },
     "4247b254ade34f31b8ad0bbd7bf535cb": {
      "model_module": "@jupyter-widgets/controls",
      "model_module_version": "1.5.0",
      "model_name": "HTMLModel",
      "state": {
       "layout": "IPY_MODEL_98225289475c49db8a15e592d7df933b",
       "style": "IPY_MODEL_b55d2b75b0004881ae63a3b863ccdd31",
       "value": "<br><font size=\"5\"><b>1. Are you running a new analysis or loading one?<b></font>"
      }
     },
     "42ba2554bca34faf934668bfd356e981": {
      "model_module": "@jupyter-widgets/base",
      "model_module_version": "1.2.0",
      "model_name": "LayoutModel",
      "state": {}
     },
     "432e98e968c644f18003fcd7ddda06b6": {
      "model_module": "@jupyter-widgets/controls",
      "model_module_version": "1.5.0",
      "model_name": "DescriptionStyleModel",
      "state": {
       "description_width": ""
      }
     },
     "437e0fb1e0f7431f94be87074c511603": {
      "model_module": "@jupyter-widgets/controls",
      "model_module_version": "1.5.0",
      "model_name": "DescriptionStyleModel",
      "state": {
       "description_width": ""
      }
     },
     "439b45a2003a4a3d9f882de4984bcd49": {
      "model_module": "@jupyter-widgets/controls",
      "model_module_version": "1.5.0",
      "model_name": "BoundedIntTextModel",
      "state": {
       "description": "Max time",
       "layout": "IPY_MODEL_820e0c9320d9430cab552c4fbd851666",
       "style": "IPY_MODEL_c07e5e5c17cb406f81ba0cfc2252bfd6",
       "value": 40
      }
     },
     "44303bb38b8d4a1fbaf70d0e506c5dbb": {
      "model_module": "@jupyter-widgets/controls",
      "model_module_version": "1.5.0",
      "model_name": "DescriptionStyleModel",
      "state": {
       "description_width": ""
      }
     },
     "4434d2b988d542e7b55f8814efd1e808": {
      "model_module": "@jupyter-widgets/base",
      "model_module_version": "1.2.0",
      "model_name": "LayoutModel",
      "state": {}
     },
     "4467da3ed69649adbe25e277b66825da": {
      "model_module": "@jupyter-widgets/controls",
      "model_module_version": "1.5.0",
      "model_name": "VBoxModel",
      "state": {
       "children": [
        "IPY_MODEL_de1f0c9fc4bd4221b4e417a03f2e01ba",
        "IPY_MODEL_eb4e5c0575544114b18ce3ac0e0710b9"
       ],
       "layout": "IPY_MODEL_a3ea2d5135264941af0fd57ffe788f07"
      }
     },
     "44bb18d679fd4ab384dac47d7950282c": {
      "model_module": "@jupyter-widgets/controls",
      "model_module_version": "1.5.0",
      "model_name": "DescriptionStyleModel",
      "state": {
       "description_width": ""
      }
     },
     "44c291543589469aaa324586cc4503de": {
      "model_module": "@jupyter-widgets/controls",
      "model_module_version": "1.5.0",
      "model_name": "VBoxModel",
      "state": {
       "children": [
        "IPY_MODEL_01d2806560ca4b0c9001b401577a0397",
        "IPY_MODEL_a659b331e1104e929a7abef2a35b18b4",
        "IPY_MODEL_251da2234aa84de0af3e15aaeff9e7b0",
        "IPY_MODEL_1c6b888c66054949b3fb15b02126e184",
        "IPY_MODEL_95bd24b961a64230bd845d3d3e4ce486",
        "IPY_MODEL_a5c528bb11f7493b8b6b27b3292d4e84"
       ],
       "layout": "IPY_MODEL_9d0455d69fff4c7693b5d798d7064b1e"
      }
     },
     "452bf2aa5bfb422fad486c0056e7094b": {
      "model_module": "@jupyter-widgets/controls",
      "model_module_version": "1.5.0",
      "model_name": "ButtonModel",
      "state": {
       "description": "Save analysis",
       "layout": "IPY_MODEL_7092debcc9044587b98ac0f863926577",
       "style": "IPY_MODEL_a61f449d00644266b1036469501a0137"
      }
     },
     "45ca9c5dbacf4e6a8de8d4ecaf002c2a": {
      "model_module": "jupyter-matplotlib",
      "model_module_version": "^0.10.2",
      "model_name": "ToolbarModel",
      "state": {
       "layout": "IPY_MODEL_e09c8102b31f49dc91682ed484c3658d",
       "toolitems": [
        [
         "Home",
         "Reset original view",
         "home",
         "home"
        ],
        [
         "Back",
         "Back to previous view",
         "arrow-left",
         "back"
        ],
        [
         "Forward",
         "Forward to next view",
         "arrow-right",
         "forward"
        ],
        [
         "Pan",
         "Left button pans, Right button zooms\nx/y fixes axis, CTRL fixes aspect",
         "arrows",
         "pan"
        ],
        [
         "Zoom",
         "Zoom to rectangle\nx/y fixes axis",
         "square-o",
         "zoom"
        ],
        [
         "Download",
         "Download plot",
         "floppy-o",
         "save_figure"
        ]
       ]
      }
     },
     "46751c83bd0c46259c86115348707dd3": {
      "model_module": "@jupyter-widgets/base",
      "model_module_version": "1.2.0",
      "model_name": "LayoutModel",
      "state": {}
     },
     "467a7324f120435a9c701d039a5c8fa1": {
      "model_module": "@jupyter-widgets/controls",
      "model_module_version": "1.5.0",
      "model_name": "ButtonStyleModel",
      "state": {
       "button_color": "lightgreen"
      }
     },
     "46a740af426e459baac08a3791f99f73": {
      "model_module": "@jupyter-widgets/base",
      "model_module_version": "1.2.0",
      "model_name": "LayoutModel",
      "state": {}
     },
     "46f0fcd0dd4e4451ab08a79168aa15ca": {
      "model_module": "@jupyter-widgets/base",
      "model_module_version": "1.2.0",
      "model_name": "LayoutModel",
      "state": {}
     },
     "47260182e1ab467da738b6f2aefaf24a": {
      "model_module": "@jupyter-widgets/controls",
      "model_module_version": "1.5.0",
      "model_name": "DescriptionStyleModel",
      "state": {
       "description_width": ""
      }
     },
     "478e3ae0df034303a004d33cdc99fe66": {
      "model_module": "@jupyter-widgets/base",
      "model_module_version": "1.2.0",
      "model_name": "LayoutModel",
      "state": {}
     },
     "484d133c7d8d49f09879eb8e0780df7b": {
      "model_module": "@jupyter-widgets/base",
      "model_module_version": "1.2.0",
      "model_name": "LayoutModel",
      "state": {
       "width": "300px"
      }
     },
     "4979db934410438eb4b1f20bcc919dfe": {
      "model_module": "@jupyter-widgets/controls",
      "model_module_version": "1.5.0",
      "model_name": "DescriptionStyleModel",
      "state": {
       "description_width": ""
      }
     },
     "4af6d1b586064fada2763df9115797ca": {
      "model_module": "@jupyter-widgets/base",
      "model_module_version": "1.2.0",
      "model_name": "LayoutModel",
      "state": {}
     },
     "4b5a384012234b21a62cee2e57da7216": {
      "model_module": "@jupyter-widgets/base",
      "model_module_version": "1.2.0",
      "model_name": "LayoutModel",
      "state": {}
     },
     "4b832c99073340b093b61b3c551e6c89": {
      "model_module": "@jupyter-widgets/base",
      "model_module_version": "1.2.0",
      "model_name": "LayoutModel",
      "state": {}
     },
     "4ba5c4b575d64708b6046fe3c9ca3865": {
      "model_module": "@jupyter-widgets/controls",
      "model_module_version": "1.5.0",
      "model_name": "FloatTextModel",
      "state": {
       "description": "Location X",
       "layout": "IPY_MODEL_c320758386394cd9bbc4b95a3d9116f2",
       "step": null,
       "style": "IPY_MODEL_ae9d58ca7b8e45cdbe5c83992fddaca9",
       "value": 100
      }
     },
     "4c2bde87343b43c4b115da4be4841936": {
      "model_module": "@jupyter-widgets/controls",
      "model_module_version": "1.5.0",
      "model_name": "DescriptionStyleModel",
      "state": {
       "description_width": ""
      }
     },
     "4c8eded3f9474f1aa5b988df1ccdfc02": {
      "model_module": "@jupyter-widgets/base",
      "model_module_version": "1.2.0",
      "model_name": "LayoutModel",
      "state": {}
     },
     "4cbabe28d7364da0b8bf374e124c82a9": {
      "model_module": "@jupyter-widgets/controls",
      "model_module_version": "1.5.0",
      "model_name": "VBoxModel",
      "state": {
       "children": [
        "IPY_MODEL_95ce28d28b7e443a8148ff0ee633adfd",
        "IPY_MODEL_33bcefa732bc4226b272b95e74fac51b"
       ],
       "layout": "IPY_MODEL_08c2ae0c0bfd437a94f0efe2d507d1aa"
      }
     },
     "4cc99e6cbd3a4a3b964d8af0e97ea733": {
      "model_module": "@jupyter-widgets/base",
      "model_module_version": "1.2.0",
      "model_name": "LayoutModel",
      "state": {}
     },
     "4cfdd8ece3e240a3a9e125f6acd65b9d": {
      "model_module": "@jupyter-widgets/controls",
      "model_module_version": "1.5.0",
      "model_name": "VBoxModel",
      "state": {
       "children": [
        "IPY_MODEL_88f8814747eb45a985f68ef6409da655",
        "IPY_MODEL_64ff415024d144a98da351d130c53794"
       ],
       "layout": "IPY_MODEL_4f161ef3bf4b4f59a7785ae090b08338"
      }
     },
     "4d283b67853549ffb4cc47ed235d39fd": {
      "model_module": "@jupyter-widgets/base",
      "model_module_version": "1.2.0",
      "model_name": "LayoutModel",
      "state": {}
     },
     "4dd72df7cf4040ce95f110d83ab73d50": {
      "model_module": "@jupyter-widgets/base",
      "model_module_version": "1.2.0",
      "model_name": "LayoutModel",
      "state": {
       "width": "300px"
      }
     },
     "4e0a7be227ce4ae9a7b129a648701ef0": {
      "model_module": "@jupyter-widgets/controls",
      "model_module_version": "1.5.0",
      "model_name": "IntSliderModel",
      "state": {
       "description": "Time",
       "layout": "IPY_MODEL_4c8eded3f9474f1aa5b988df1ccdfc02",
       "max": 0,
       "style": "IPY_MODEL_9fdf8e47394f4db884cf1e80ff0018bc"
      }
     },
     "4e20e665253c45ed9ae62747f4fddb04": {
      "model_module": "@jupyter-widgets/controls",
      "model_module_version": "1.5.0",
      "model_name": "DescriptionStyleModel",
      "state": {
       "description_width": ""
      }
     },
     "4e69617d52df465fa0205c70a1dc80e4": {
      "model_module": "@jupyter-widgets/controls",
      "model_module_version": "1.5.0",
      "model_name": "DescriptionStyleModel",
      "state": {
       "description_width": ""
      }
     },
     "4ec1fb7ef32e4955976c1fd0d9ea8442": {
      "model_module": "@jupyter-widgets/controls",
      "model_module_version": "1.5.0",
      "model_name": "DescriptionStyleModel",
      "state": {
       "description_width": ""
      }
     },
     "4ed4e58f4d874715a6bea178bf4670a8": {
      "model_module": "jupyter-matplotlib",
      "model_module_version": "^0.10.2",
      "model_name": "MPLCanvasModel",
      "state": {
       "_data_url": "data:image/png;base64,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",
       "_figure_label": "Figure 1",
       "_height": 500,
       "_width": 500,
       "layout": "IPY_MODEL_e65be66477bd4279a4417460cc2e2d84",
       "toolbar": "IPY_MODEL_45ca9c5dbacf4e6a8de8d4ecaf002c2a",
       "toolbar_position": "left"
      }
     },
     "4ee49d6658584344bd1c287c1e13ccb9": {
      "model_module": "@jupyter-widgets/base",
      "model_module_version": "1.2.0",
      "model_name": "LayoutModel",
      "state": {}
     },
     "4f161ef3bf4b4f59a7785ae090b08338": {
      "model_module": "@jupyter-widgets/base",
      "model_module_version": "1.2.0",
      "model_name": "LayoutModel",
      "state": {}
     },
     "4ff35d7664d0488782ed9bb102631816": {
      "model_module": "@jupyter-widgets/controls",
      "model_module_version": "1.5.0",
      "model_name": "SelectModel",
      "state": {
       "index": null,
       "layout": "IPY_MODEL_66547cb3ce114519a97321ee41065148",
       "style": "IPY_MODEL_8c32bac4d977437c8f47a12d151b8c46"
      }
     },
     "51f2777405e74424ae0f159105cedc9d": {
      "model_module": "@jupyter-widgets/base",
      "model_module_version": "1.2.0",
      "model_name": "LayoutModel",
      "state": {}
     },
     "52fc725d9dd5493395fa9eb97d5a0cca": {
      "model_module": "@jupyter-widgets/controls",
      "model_module_version": "1.5.0",
      "model_name": "DescriptionStyleModel",
      "state": {
       "description_width": ""
      }
     },
     "53313798313b4bfe9a88e8105fe9fd9d": {
      "model_module": "@jupyter-widgets/base",
      "model_module_version": "1.2.0",
      "model_name": "LayoutModel",
      "state": {}
     },
     "536888ded2bc47a7ab8df985264e3fc1": {
      "model_module": "@jupyter-widgets/base",
      "model_module_version": "1.2.0",
      "model_name": "LayoutModel",
      "state": {}
     },
     "537e70392f1c48459e31de0dda6aac00": {
      "model_module": "@jupyter-widgets/output",
      "model_module_version": "1.0.0",
      "model_name": "OutputModel",
      "state": {
       "layout": "IPY_MODEL_9697d3404a344e11a3e986475a7f1de1"
      }
     },
     "545dbaec59de45ffae9b237e81455c39": {
      "model_module": "@jupyter-widgets/controls",
      "model_module_version": "1.5.0",
      "model_name": "BoundedIntTextModel",
      "state": {
       "description": "Max time",
       "layout": "IPY_MODEL_feee0235ec3b4b3cafd9864b5bf39fe9",
       "style": "IPY_MODEL_ed99fbd268e94402948e1e21cfeb79cb",
       "value": 40
      }
     },
     "56b262c46d3047998795186886719fe4": {
      "model_module": "@jupyter-widgets/output",
      "model_module_version": "1.0.0",
      "model_name": "OutputModel",
      "state": {
       "layout": "IPY_MODEL_0e8ba01750f14ab39a64846caf70c314"
      }
     },
     "56c85ceb757e4e3784bba1348f9bd668": {
      "model_module": "@jupyter-widgets/controls",
      "model_module_version": "1.5.0",
      "model_name": "VBoxModel",
      "state": {
       "children": [
        "IPY_MODEL_26ad896208d4489eb7d2152070ba2650",
        "IPY_MODEL_10798a2f89554560aae6329100733852"
       ],
       "layout": "IPY_MODEL_51f2777405e74424ae0f159105cedc9d"
      }
     },
     "573e3942658242d7b4da4458a701dc2b": {
      "model_module": "@jupyter-widgets/controls",
      "model_module_version": "1.5.0",
      "model_name": "CheckboxModel",
      "state": {
       "description": "Show labels",
       "disabled": false,
       "layout": "IPY_MODEL_a743668a5ed148c4bf0bd13fc92557bb",
       "style": "IPY_MODEL_c7313fb007464a8f9585635d61f10d4f",
       "value": true
      }
     },
     "57ac1adcb3a84554af166c7fc9893a12": {
      "model_module": "@jupyter-widgets/controls",
      "model_module_version": "1.5.0",
      "model_name": "DescriptionStyleModel",
      "state": {
       "description_width": ""
      }
     },
     "57f4c9e8d206430a98ad70311086cced": {
      "model_module": "@jupyter-widgets/controls",
      "model_module_version": "1.5.0",
      "model_name": "HTMLModel",
      "state": {
       "layout": "IPY_MODEL_15b9d6222fd942c0bc4c2f7746b90a25",
       "style": "IPY_MODEL_ba6309a3397a48bcbdad5eec589b22bf",
       "value": "<br><font size=\"5\"><b>4. Computing type<b></font>                            <br><font size=\"3\"><b>If you run the software on a local computer, you can specify                                how many cores you want to use. If you run on a SLURM cluster, you can                                     specifiy how many parallel jobs you want to use.<b></font>"
      }
     },
     "582bc95797cc4e9f90bb5cff0e4bf1d4": {
      "model_module": "@jupyter-widgets/controls",
      "model_module_version": "1.5.0",
      "model_name": "SelectModel",
      "state": {
       "_options_labels": [
        "Ilastiksegmentation",
        "Result_test",
        "Results_cellpose",
        "Results_ilastik",
        "Results_step",
        "Parameters.yml",
        "Results.pkl",
        "synth.ilp",
        "synth_ch1.h5",
        "synth_ch2.h5",
        "synth_ch3.h5"
       ],
       "index": 8,
       "layout": "IPY_MODEL_4b832c99073340b093b61b3c551e6c89",
       "style": "IPY_MODEL_5a709b2098504fe49fca166a5a9280d2"
      }
     },
     "5858a8e5c96a41c79148658bc1625d7d": {
      "model_module": "@jupyter-widgets/base",
      "model_module_version": "1.2.0",
      "model_name": "LayoutModel",
      "state": {}
     },
     "5a709b2098504fe49fca166a5a9280d2": {
      "model_module": "@jupyter-widgets/controls",
      "model_module_version": "1.5.0",
      "model_name": "DescriptionStyleModel",
      "state": {
       "description_width": ""
      }
     },
     "5bc139eed3984243ac1be603bfc81910": {
      "model_module": "@jupyter-widgets/controls",
      "model_module_version": "1.5.0",
      "model_name": "ButtonModel",
      "state": {
       "description": "Initialize data",
       "layout": "IPY_MODEL_f046f1331fec4660a601d296b4de21f1",
       "style": "IPY_MODEL_317dabb9bd414944af71079886770a19"
      }
     },
     "5cafe80aec2a4abca6db9bb01c18e62f": {
      "model_module": "jupyter-matplotlib",
      "model_module_version": "^0.10.2",
      "model_name": "ToolbarModel",
      "state": {
       "layout": "IPY_MODEL_195e1333eb32466f906755fe9f7cb229",
       "toolitems": [
        [
         "Home",
         "Reset original view",
         "home",
         "home"
        ],
        [
         "Back",
         "Back to previous view",
         "arrow-left",
         "back"
        ],
        [
         "Forward",
         "Forward to next view",
         "arrow-right",
         "forward"
        ],
        [
         "Pan",
         "Left button pans, Right button zooms\nx/y fixes axis, CTRL fixes aspect",
         "arrows",
         "pan"
        ],
        [
         "Zoom",
         "Zoom to rectangle\nx/y fixes axis",
         "square-o",
         "zoom"
        ],
        [
         "Download",
         "Download plot",
         "floppy-o",
         "save_figure"
        ]
       ]
      }
     },
     "5d2ae2ec560b4e1d94749f660ba53629": {
      "model_module": "@jupyter-widgets/controls",
      "model_module_version": "1.5.0",
      "model_name": "ButtonModel",
      "state": {
       "description": "Click to segment",
       "layout": "IPY_MODEL_9deffa25fec34d4ab7468d5e710f4a33",
       "style": "IPY_MODEL_fbeadfc6a2e54cdda8390dc67d316aea"
      }
     },
     "5ddcfcba3fe6412b91bcf4d123d0ca68": {
      "model_module": "@jupyter-widgets/controls",
      "model_module_version": "1.5.0",
      "model_name": "HTMLModel",
      "state": {
       "layout": "IPY_MODEL_f22bfcd4c88d455aa24bf7a6664187bf",
       "style": "IPY_MODEL_84f6ae994f0345c7bf13da0831b4d178",
       "value": "<br><font size=\"5\"><b>Run or visualize segmentation<b></font>"
      }
     },
     "5e06dc9996cd4aed86925fb3d3fba500": {
      "model_module": "@jupyter-widgets/controls",
      "model_module_version": "1.5.0",
      "model_name": "HBoxModel",
      "state": {
       "children": [
        "IPY_MODEL_fbf7f65eda0d4f2889b8ee099cc2dd41",
        "IPY_MODEL_8d329416918f4223bf6d80b57b9a244f"
       ],
       "layout": "IPY_MODEL_3772d8b4b6f44cf697cb288b96980b90"
      }
     },
     "5e7818aba66146e3af84b2006ac11533": {
      "model_module": "@jupyter-widgets/base",
      "model_module_version": "1.2.0",
      "model_name": "LayoutModel",
      "state": {
       "width": "300px"
      }
     },
     "5ebe057361494788a59034e51d59285c": {
      "model_module": "@jupyter-widgets/base",
      "model_module_version": "1.2.0",
      "model_name": "LayoutModel",
      "state": {}
     },
     "604db0e0f90f4c858cae0cc008c081b1": {
      "model_module": "@jupyter-widgets/controls",
      "model_module_version": "1.5.0",
      "model_name": "ButtonModel",
      "state": {
       "description": "Refresh folder content",
       "layout": "IPY_MODEL_eeb3b913c77c4ea387d86848e1f6c263",
       "style": "IPY_MODEL_e62d1e2860fa4192bed777bcede9235d"
      }
     },
     "60564ffed2ab497f8ea035ec84b77661": {
      "model_module": "@jupyter-widgets/base",
      "model_module_version": "1.2.0",
      "model_name": "LayoutModel",
      "state": {}
     },
     "60e2f54e82134b2889dc3f1854ebc1ce": {
      "model_module": "@jupyter-widgets/controls",
      "model_module_version": "1.5.0",
      "model_name": "IntRangeSliderModel",
      "state": {
       "_model_name": "IntRangeSliderModel",
       "_view_name": "IntRangeSliderView",
       "description": "Intensity range",
       "layout": "IPY_MODEL_c8d05d5ddcfb487c982bb0c8534ee542",
       "max": 255,
       "style": "IPY_MODEL_0a035c0d618f46c0b20ec2012d84cafd",
       "value": [
        0,
        255
       ]
      }
     },
     "61bd05d55046482a9042280afab5e930": {
      "model_module": "@jupyter-widgets/output",
      "model_module_version": "1.0.0",
      "model_name": "OutputModel",
      "state": {
       "layout": "IPY_MODEL_ca1bf14839fe4c8a8d9cf7425826edcf"
      }
     },
     "630c465ef79f461b8e9e1820e3124b50": {
      "model_module": "@jupyter-widgets/base",
      "model_module_version": "1.2.0",
      "model_name": "LayoutModel",
      "state": {}
     },
     "6444687c597b4737939ad189b4506035": {
      "model_module": "@jupyter-widgets/controls",
      "model_module_version": "1.5.0",
      "model_name": "HBoxModel",
      "state": {
       "children": [
        "IPY_MODEL_78efae43d1694376b06a2f38faf3d357",
        "IPY_MODEL_01ad7bcad4264b3baadbb500b65d2cab"
       ],
       "layout": "IPY_MODEL_c4eaa9661a26438a822c455128d4d23c"
      }
     },
     "6477bb27fe0e47f3a506b464e198ed9c": {
      "model_module": "@jupyter-widgets/controls",
      "model_module_version": "1.5.0",
      "model_name": "SelectMultipleModel",
      "state": {
       "_options_labels": [
        "..",
        "Ilastiksegmentation",
        "Result_test",
        "Results_cellpose",
        "Results_ilastik",
        "Results_step",
        ".DS_Store",
        "Parameters.yml",
        "Results.pkl",
        "synth.ilp",
        "synth_ch1.h5",
        "synth_ch2.h5",
        "synth_ch3.h5"
       ],
       "index": [],
       "layout": "IPY_MODEL_fa316593c103426a9e086011782d1be5",
       "rows": 10,
       "style": "IPY_MODEL_993424b3656a4af1b3c3f341181007ed"
      }
     },
     "64ff415024d144a98da351d130c53794": {
      "model_module": "@jupyter-widgets/controls",
      "model_module_version": "1.5.0",
      "model_name": "SelectMultipleModel",
      "state": {
       "_options_labels": [
        "..",
        "segmented_k_00.tif",
        "segmented_k_01.tif",
        "segmented_k_02.tif",
        "segmented_k_03.tif",
        "segmented_k_04.tif",
        "segmented_k_05.tif",
        "segmented_k_06.tif",
        "segmented_k_07.tif",
        "segmented_k_08.tif",
        "segmented_k_09.tif",
        "segmented_k_10.tif",
        "segmented_k_11.tif",
        "segmented_k_12.tif",
        "segmented_k_13.tif",
        "segmented_k_14.tif",
        "segmented_k_15.tif",
        "segmented_k_16.tif",
        "segmented_k_17.tif",
        "segmented_k_18.tif",
        "segmented_k_19.tif",
        "segmented_k_20.tif",
        "segmented_k_21.tif",
        "segmented_k_22.tif",
        "segmented_k_23.tif",
        "segmented_k_24.tif",
        "segmented_k_25.tif",
        "segmented_k_26.tif",
        "segmented_k_27.tif",
        "segmented_k_28.tif",
        "segmented_k_29.tif",
        "segmented_k_30.tif",
        "segmented_k_31.tif",
        "segmented_k_32.tif",
        "segmented_k_33.tif",
        "segmented_k_34.tif",
        "segmented_k_35.tif",
        "segmented_k_36.tif",
        "segmented_k_37.tif",
        "segmented_k_38.tif",
        "segmented_k_39.tif"
       ],
       "index": [],
       "layout": "IPY_MODEL_f4d084be8e9d4aeb957ec403118116c7",
       "rows": 10,
       "style": "IPY_MODEL_efee0766156548fb966023454cdeefcb"
      }
     },
     "6588872a8a35454aba2c7c7ffcdaf229": {
      "model_module": "@jupyter-widgets/base",
      "model_module_version": "1.2.0",
      "model_name": "LayoutModel",
      "state": {}
     },
     "66547cb3ce114519a97321ee41065148": {
      "model_module": "@jupyter-widgets/base",
      "model_module_version": "1.2.0",
      "model_name": "LayoutModel",
      "state": {}
     },
     "66f16b183c5a4576ab31ba891d1fb322": {
      "model_module": "@jupyter-widgets/base",
      "model_module_version": "1.2.0",
      "model_name": "LayoutModel",
      "state": {}
     },
     "67092063a97341d39a1bdf86a8d09743": {
      "model_module": "@jupyter-widgets/controls",
      "model_module_version": "1.5.0",
      "model_name": "VBoxModel",
      "state": {
       "children": [
        "IPY_MODEL_4247b254ade34f31b8ad0bbd7bf535cb",
        "IPY_MODEL_cd78a4c50eae4707adfa60965b10105b",
        "IPY_MODEL_dc00419cdc3740b6bc67353b1afdb7c2",
        "IPY_MODEL_9b562db5cc694dccb56b4544b2bce6c0",
        "IPY_MODEL_02fd0037fd48490c8f8cc278723b11fc",
        "IPY_MODEL_452bf2aa5bfb422fad486c0056e7094b"
       ],
       "layout": "IPY_MODEL_26a7e11f8184413c9100c10128e2a7fd"
      }
     },
     "6779649f048240e58c333ba67bc7f1a1": {
      "model_module": "@jupyter-widgets/controls",
      "model_module_version": "1.5.0",
      "model_name": "IntTextModel",
      "state": {
       "description": "Window depth",
       "layout": "IPY_MODEL_028ce7608eaa4a4bbe8c67a7d85b724c",
       "step": 1,
       "style": "IPY_MODEL_073bbca45bb140dab73f85e4a94301dc",
       "value": 5
      }
     },
     "6897ce7b9f3d4dca8b0db604a43274a0": {
      "model_module": "@jupyter-widgets/controls",
      "model_module_version": "1.5.0",
      "model_name": "VBoxModel",
      "state": {
       "layout": "IPY_MODEL_0db10a00200a4110bb5e39df678fcd77"
      }
     },
     "68eb12a6e8804dffa98ce78c804651a2": {
      "model_module": "@jupyter-widgets/base",
      "model_module_version": "1.2.0",
      "model_name": "LayoutModel",
      "state": {}
     },
     "69aed8bfd6c849a793f244dcca578bf5": {
      "model_module": "@jupyter-widgets/controls",
      "model_module_version": "1.5.0",
      "model_name": "VBoxModel",
      "state": {
       "children": [
        "IPY_MODEL_024be71823a548668fb263b92879266f",
        "IPY_MODEL_eb4e5c0575544114b18ce3ac0e0710b9",
        "IPY_MODEL_fd040c6bece349c092dda027338e92e5"
       ],
       "layout": "IPY_MODEL_4af6d1b586064fada2763df9115797ca"
      }
     },
     "69c7b230429e4e378dbe72b6e004cbf5": {
      "model_module": "@jupyter-widgets/output",
      "model_module_version": "1.0.0",
      "model_name": "OutputModel",
      "state": {
       "layout": "IPY_MODEL_1786c226efe44f2597f3b966ba62d6c6",
       "outputs": [
        {
         "data": {
          "application/vnd.jupyter.widget-view+json": {
           "model_id": "4ed4e58f4d874715a6bea178bf4670a8",
           "version_major": 2,
           "version_minor": 0
          },
          "text/html": "\n            <div style=\"display: inline-block;\">\n                <div class=\"jupyter-widgets widget-label\" style=\"text-align: center;\">\n                    Figure\n                </div>\n                <img src='data:image/png;base64,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' width=500.0/>\n            </div>\n        ",
          "text/plain": "Canvas(toolbar=Toolbar(toolitems=[('Home', 'Reset original view', 'home', 'home'), ('Back', 'Back to previous …"
         },
         "metadata": {},
         "output_type": "display_data"
        }
       ]
      }
     },
     "6b358b4a9af749299238d0ff288131e4": {
      "model_module": "@jupyter-widgets/controls",
      "model_module_version": "1.5.0",
      "model_name": "DescriptionStyleModel",
      "state": {
       "description_width": ""
      }
     },
     "6b3a0d2033e1421cb37b28982021b67e": {
      "model_module": "@jupyter-widgets/controls",
      "model_module_version": "1.5.0",
      "model_name": "DescriptionStyleModel",
      "state": {
       "description_width": ""
      }
     },
     "6b84aa2c41f94305b14a6ff4887c4da8": {
      "model_module": "@jupyter-widgets/controls",
      "model_module_version": "1.5.0",
      "model_name": "DescriptionStyleModel",
      "state": {
       "description_width": ""
      }
     },
     "6b9cd84d7c84479b9c9a177b8e7b5845": {
      "model_module": "@jupyter-widgets/base",
      "model_module_version": "1.2.0",
      "model_name": "LayoutModel",
      "state": {}
     },
     "6c2d50ab5c704696b9a368afdfeea538": {
      "model_module": "@jupyter-widgets/controls",
      "model_module_version": "1.5.0",
      "model_name": "HTMLModel",
      "state": {
       "layout": "IPY_MODEL_4434d2b988d542e7b55f8814efd1e808",
       "style": "IPY_MODEL_52fc725d9dd5493395fa9eb97d5a0cca",
       "value": "<font size=\"3\"><b>(b) Signal<b></font>"
      }
     },
     "6cd2e3444e51440db57b9f1578810a85": {
      "model_module": "@jupyter-widgets/controls",
      "model_module_version": "1.5.0",
      "model_name": "DescriptionStyleModel",
      "state": {
       "description_width": ""
      }
     },
     "6d5b20c6116142d18bbbca4ef3d793cc": {
      "model_module": "@jupyter-widgets/base",
      "model_module_version": "1.2.0",
      "model_name": "LayoutModel",
      "state": {
       "width": "300px"
      }
     },
     "6e68797c1c2c486ea1802433de4615ce": {
      "model_module": "@jupyter-widgets/base",
      "model_module_version": "1.2.0",
      "model_name": "LayoutModel",
      "state": {}
     },
     "6e6ccd007c184328bc832e74a109c113": {
      "model_module": "@jupyter-widgets/controls",
      "model_module_version": "1.5.0",
      "model_name": "CheckboxModel",
      "state": {
       "description": "Show windows",
       "disabled": false,
       "layout": "IPY_MODEL_630c465ef79f461b8e9e1820e3124b50",
       "style": "IPY_MODEL_cbb7c076fede473280233eefb5f7d064",
       "value": true
      }
     },
     "6e9122b710d4498096c9d202f63a0c19": {
      "model_module": "@jupyter-widgets/base",
      "model_module_version": "1.2.0",
      "model_name": "LayoutModel",
      "state": {}
     },
     "706660b4cee34287b880292f5973ce22": {
      "model_module": "@jupyter-widgets/base",
      "model_module_version": "1.2.0",
      "model_name": "LayoutModel",
      "state": {}
     },
     "7092debcc9044587b98ac0f863926577": {
      "model_module": "@jupyter-widgets/base",
      "model_module_version": "1.2.0",
      "model_name": "LayoutModel",
      "state": {}
     },
     "7452ebc298344c58a530301038b01bfe": {
      "model_module": "jupyter-matplotlib",
      "model_module_version": "^0.10.2",
      "model_name": "MPLCanvasModel",
      "state": {
       "_cursor": "default",
       "_data_url": "data:image/png;base64,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",
       "_figure_label": "Figure 2",
       "_height": 500,
       "_image_mode": "diff",
       "_width": 500,
       "layout": "IPY_MODEL_a97222a1f2a74508897c49dd7c1b8dc3",
       "toolbar": "IPY_MODEL_5cafe80aec2a4abca6db9bb01c18e62f",
       "toolbar_position": "left"
      }
     },
     "759a15967c93483ab20ea04743e32155": {
      "model_module": "@jupyter-widgets/controls",
      "model_module_version": "1.5.0",
      "model_name": "SliderStyleModel",
      "state": {
       "description_width": ""
      }
     },
     "75d7a15f31f54da6ad3a75b8f6ebd0b8": {
      "model_module": "@jupyter-widgets/base",
      "model_module_version": "1.2.0",
      "model_name": "LayoutModel",
      "state": {}
     },
     "779b000717ad4b9cb31b7d5a233b47eb": {
      "model_module": "@jupyter-widgets/base",
      "model_module_version": "1.2.0",
      "model_name": "LayoutModel",
      "state": {}
     },
     "77b45f5defb4467ba96bac509fedc8b9": {
      "model_module": "@jupyter-widgets/controls",
      "model_module_version": "1.5.0",
      "model_name": "IntSliderModel",
      "state": {
       "description": "Time",
       "layout": "IPY_MODEL_f099a768ca444fe79203fbb1bd57fa07",
       "max": 0,
       "style": "IPY_MODEL_4121654d52724abeb5782a5fbae27961"
      }
     },
     "7867bb036d174184b133e048e8b5ab9d": {
      "model_module": "@jupyter-widgets/controls",
      "model_module_version": "1.5.0",
      "model_name": "HBoxModel",
      "state": {
       "children": [
        "IPY_MODEL_f2662e8836b14bf0b0de7a257c73ac5d",
        "IPY_MODEL_4467da3ed69649adbe25e277b66825da",
        "IPY_MODEL_0e3d8ebe68f244edb4cb36941c03be16"
       ],
       "layout": "IPY_MODEL_eb77cb16cb7345758705f28055ecc7c7"
      }
     },
     "78efae43d1694376b06a2f38faf3d357": {
      "model_module": "@jupyter-widgets/controls",
      "model_module_version": "1.5.0",
      "model_name": "VBoxModel",
      "state": {
       "children": [
        "IPY_MODEL_439b45a2003a4a3d9f882de4984bcd49",
        "IPY_MODEL_c822643e52a6443893d2d19936271b7f",
        "IPY_MODEL_0c2204eaed564aff894076512f31b149",
        "IPY_MODEL_101dad308afc4f08a258135d11ae0bcf",
        "IPY_MODEL_f349576b18404b40bc50aee529e56a87",
        "IPY_MODEL_4ba5c4b575d64708b6046fe3c9ca3865",
        "IPY_MODEL_06d0044b50c946048bf3b0bfa40abf65",
        "IPY_MODEL_6779649f048240e58c333ba67bc7f1a1",
        "IPY_MODEL_06de73fb167b4de3a2991bcf31efcaf2",
        "IPY_MODEL_5d2ae2ec560b4e1d94749f660ba53629"
       ],
       "layout": "IPY_MODEL_8c3e625787b2468895b8edfeaffd1991"
      }
     },
     "79ea06a2c2e841edb880f8751fd0aeab": {
      "model_module": "@jupyter-widgets/base",
      "model_module_version": "1.2.0",
      "model_name": "LayoutModel",
      "state": {}
     },
     "79fcbe8e0a5e43d59ba68bbe068a37e5": {
      "model_module": "@jupyter-widgets/controls",
      "model_module_version": "1.5.0",
      "model_name": "DescriptionStyleModel",
      "state": {
       "description_width": "initial"
      }
     },
     "7a0740b2020d48ad97eec218c8169653": {
      "model_module": "@jupyter-widgets/controls",
      "model_module_version": "1.5.0",
      "model_name": "DescriptionStyleModel",
      "state": {
       "description_width": ""
      }
     },
     "7a57c5fbbefc460aa5a22d935b9eec8f": {
      "model_module": "@jupyter-widgets/controls",
      "model_module_version": "1.5.0",
      "model_name": "ButtonModel",
      "state": {
       "description": "Load parameters",
       "layout": "IPY_MODEL_a522740c790d4d249a3eed8ee6dd412d",
       "style": "IPY_MODEL_35aa6998e59441ab8af50ff79857d11c"
      }
     },
     "7ad4ea6943c04e17a4e8f54a17c18901": {
      "model_module": "@jupyter-widgets/base",
      "model_module_version": "1.2.0",
      "model_name": "LayoutModel",
      "state": {}
     },
     "7c1da3dbc28c420882d156c56e6b459a": {
      "model_module": "@jupyter-widgets/controls",
      "model_module_version": "1.5.0",
      "model_name": "IntSliderModel",
      "state": {
       "description": "Time",
       "layout": "IPY_MODEL_a6d891cfa9014ab5adc8313946787b17",
       "max": 39,
       "style": "IPY_MODEL_ec42ccaafcbf4133b79758b092e088b9"
      }
     },
     "7c7140e901164bf48f24df8f6ae56107": {
      "model_module": "@jupyter-widgets/base",
      "model_module_version": "1.2.0",
      "model_name": "LayoutModel",
      "state": {}
     },
     "7cb3e077a215466bb3c6f021d88e6929": {
      "model_module": "@jupyter-widgets/base",
      "model_module_version": "1.2.0",
      "model_name": "LayoutModel",
      "state": {
       "width": "300px"
      }
     },
     "7f32a78e2a4d4fe8a02a6eb52e22aae1": {
      "model_module": "@jupyter-widgets/controls",
      "model_module_version": "1.5.0",
      "model_name": "HBoxModel",
      "state": {
       "children": [
        "IPY_MODEL_a3d918f996f84bd6820971999535094d",
        "IPY_MODEL_4cbabe28d7364da0b8bf374e124c82a9",
        "IPY_MODEL_4cfdd8ece3e240a3a9e125f6acd65b9d"
       ],
       "layout": "IPY_MODEL_6e9122b710d4498096c9d202f63a0c19"
      }
     },
     "801e453c553142308d295d4807a8841e": {
      "model_module": "@jupyter-widgets/controls",
      "model_module_version": "1.5.0",
      "model_name": "DescriptionStyleModel",
      "state": {
       "description_width": ""
      }
     },
     "806c33e7020a412aae9d2c0d284609d2": {
      "model_module": "@jupyter-widgets/base",
      "model_module_version": "1.2.0",
      "model_name": "LayoutModel",
      "state": {}
     },
     "811c96ca0f5e4be5b7bfe167412e6f52": {
      "model_module": "@jupyter-widgets/base",
      "model_module_version": "1.2.0",
      "model_name": "LayoutModel",
      "state": {}
     },
     "820e0c9320d9430cab552c4fbd851666": {
      "model_module": "@jupyter-widgets/base",
      "model_module_version": "1.2.0",
      "model_name": "LayoutModel",
      "state": {}
     },
     "8412c0a79cfa4c8d9fad139e4b880ab1": {
      "model_module": "@jupyter-widgets/base",
      "model_module_version": "1.2.0",
      "model_name": "LayoutModel",
      "state": {}
     },
     "8475fdc8dff549a6bf7f7f2fd98bb3a2": {
      "model_module": "@jupyter-widgets/base",
      "model_module_version": "1.2.0",
      "model_name": "LayoutModel",
      "state": {}
     },
     "84a47d446f194d8fbead7d6c42a71c76": {
      "model_module": "@jupyter-widgets/controls",
      "model_module_version": "1.5.0",
      "model_name": "TextModel",
      "state": {
       "description": "Bad frames (e.g. 1,2,5-8,12)",
       "layout": "IPY_MODEL_14e922d6355b4578aa74d788a5d94102",
       "style": "IPY_MODEL_e0ae21350c87481fa2cce4d994c02868"
      }
     },
     "84f6ae994f0345c7bf13da0831b4d178": {
      "model_module": "@jupyter-widgets/controls",
      "model_module_version": "1.5.0",
      "model_name": "DescriptionStyleModel",
      "state": {
       "description_width": ""
      }
     },
     "85878f6dec4447b1a3bf688a97f87f99": {
      "model_module": "@jupyter-widgets/controls",
      "model_module_version": "1.5.0",
      "model_name": "HTMLModel",
      "state": {
       "layout": "IPY_MODEL_40049f6c6a444049b6476183fe31e42c",
       "style": "IPY_MODEL_6cd2e3444e51440db57b9f1578810a85",
       "value": "<font size=\"3\"><b>(c) Segmentation folder<b></font>"
      }
     },
     "872b22a3b9d74429b7e595f5582544f3": {
      "model_module": "@jupyter-widgets/controls",
      "model_module_version": "1.5.0",
      "model_name": "IntRangeSliderModel",
      "state": {
       "_model_name": "IntRangeSliderModel",
       "_view_name": "IntRangeSliderView",
       "description": "Intensity range",
       "layout": "IPY_MODEL_d9c61e1f47e24b928321a27ac4f5c4eb",
       "max": 255,
       "style": "IPY_MODEL_e9ca06d0464e4ab7bffead442c775d2a",
       "value": [
        0,
        255
       ]
      }
     },
     "87ab247faea449f5beb4dcd3dedba479": {
      "model_module": "@jupyter-widgets/controls",
      "model_module_version": "1.5.0",
      "model_name": "DescriptionStyleModel",
      "state": {
       "description_width": ""
      }
     },
     "883d69c3bad749c9bd91fab92ac03646": {
      "model_module": "@jupyter-widgets/output",
      "model_module_version": "1.0.0",
      "model_name": "OutputModel",
      "state": {
       "layout": "IPY_MODEL_414c64b3c1164668ba2107736c7b9d21"
      }
     },
     "88642b09e19b4e6494e06656fc8458d1": {
      "model_module": "@jupyter-widgets/base",
      "model_module_version": "1.2.0",
      "model_name": "LayoutModel",
      "state": {}
     },
     "88682621b24a4248b49e0d05880bab18": {
      "model_module": "@jupyter-widgets/controls",
      "model_module_version": "1.5.0",
      "model_name": "SelectModel",
      "state": {
       "index": null,
       "layout": "IPY_MODEL_7ad4ea6943c04e17a4e8f54a17c18901",
       "style": "IPY_MODEL_237de6de560e468f8cc5e594b33e58e6"
      }
     },
     "88724f150dbc475f813ca6cde8f28b14": {
      "model_module": "@jupyter-widgets/output",
      "model_module_version": "1.0.0",
      "model_name": "OutputModel",
      "state": {
       "layout": "IPY_MODEL_8475fdc8dff549a6bf7f7f2fd98bb3a2"
      }
     },
     "88f8814747eb45a985f68ef6409da655": {
      "model_module": "@jupyter-widgets/controls",
      "model_module_version": "1.5.0",
      "model_name": "HTMLModel",
      "state": {
       "layout": "IPY_MODEL_42ba2554bca34faf934668bfd356e981",
       "style": "IPY_MODEL_57ac1adcb3a84554af166c7fc9893a12",
       "value": "<font size=\"3\"><b>(c) Segmentation folder<b></font>"
      }
     },
     "890949f4032045ca9f40f4f250e2a5e1": {
      "model_module": "@jupyter-widgets/controls",
      "model_module_version": "1.5.0",
      "model_name": "ButtonStyleModel",
      "state": {
       "button_color": "lightgreen"
      }
     },
     "8a82b0131a2048108bbd1a01e2bfdcee": {
      "model_module": "@jupyter-widgets/controls",
      "model_module_version": "1.5.0",
      "model_name": "SelectMultipleModel",
      "state": {
       "_options_labels": [
        "..",
        "Ilastiksegmentation",
        "Result_test",
        "Results_cellpose",
        "Results_ilastik",
        "Results_step",
        ".DS_Store",
        "Parameters.yml",
        "Results.pkl",
        "synth.ilp",
        "synth_ch1.h5",
        "synth_ch2.h5",
        "synth_ch3.h5"
       ],
       "index": [],
       "layout": "IPY_MODEL_a7429fe04a91401097cc255b0db1368a",
       "rows": 10,
       "style": "IPY_MODEL_dd901a6c5e6c40e38e276cbca4a7d90b"
      }
     },
     "8ae8ae000bf243468f2a768284ef56fc": {
      "model_module": "@jupyter-widgets/controls",
      "model_module_version": "1.5.0",
      "model_name": "VBoxModel",
      "state": {
       "children": [
        "IPY_MODEL_6c2d50ab5c704696b9a368afdfeea538",
        "IPY_MODEL_ea989efdc1084cf9b284176d1ef1030c"
       ],
       "layout": "IPY_MODEL_16d377ffec334e908d5029541771334d"
      }
     },
     "8c250957be3b4e1b873ccac64ba87eb2": {
      "model_module": "@jupyter-widgets/base",
      "model_module_version": "1.2.0",
      "model_name": "LayoutModel",
      "state": {}
     },
     "8c32bac4d977437c8f47a12d151b8c46": {
      "model_module": "@jupyter-widgets/controls",
      "model_module_version": "1.5.0",
      "model_name": "DescriptionStyleModel",
      "state": {
       "description_width": ""
      }
     },
     "8c3e625787b2468895b8edfeaffd1991": {
      "model_module": "@jupyter-widgets/base",
      "model_module_version": "1.2.0",
      "model_name": "LayoutModel",
      "state": {}
     },
     "8d329416918f4223bf6d80b57b9a244f": {
      "model_module": "@jupyter-widgets/controls",
      "model_module_version": "1.5.0",
      "model_name": "VBoxModel",
      "state": {
       "children": [
        "IPY_MODEL_77b45f5defb4467ba96bac509fedc8b9",
        "IPY_MODEL_ebbb6f04da7f4623b842993eb3b251b3",
        "IPY_MODEL_4ff35d7664d0488782ed9bb102631816",
        "IPY_MODEL_a3cfc4ace8874a8f9ee0dba183858188",
        "IPY_MODEL_573e3942658242d7b4da4458a701dc2b"
       ],
       "layout": "IPY_MODEL_d34d101aa5094dd88bdf51a8ff43b5fc"
      }
     },
     "8e907bd9b29a40d2bdcf27ba32a50774": {
      "model_module": "@jupyter-widgets/base",
      "model_module_version": "1.2.0",
      "model_name": "LayoutModel",
      "state": {}
     },
     "8fa35c27ffea463da878c23dd19f9096": {
      "model_module": "@jupyter-widgets/base",
      "model_module_version": "1.2.0",
      "model_name": "LayoutModel",
      "state": {}
     },
     "8fb872355a9d4a14ab36f8d2cc3bbf93": {
      "model_module": "@jupyter-widgets/base",
      "model_module_version": "1.2.0",
      "model_name": "LayoutModel",
      "state": {}
     },
     "9143c83a37534b8ab731d8e74cfbde5f": {
      "model_module": "@jupyter-widgets/controls",
      "model_module_version": "1.5.0",
      "model_name": "HTMLModel",
      "state": {
       "layout": "IPY_MODEL_fc38676dc5d84b58bbde6a17ed87946c",
       "style": "IPY_MODEL_b7ed5b9485844f91a60cf76e799cbebd",
       "value": "<br><font size=\"5\"><b>3. Choose channels<b></font>                        <br><font size=\"3\"><b>Select the channel that you want to use for (a) Segmentation                             and the channel(s) from which you want to extract (b) Signal.                                <br>Even if you use a pre-computed segmentation, specify a segmentation channel.                                    <p style=\"color:lightgreen;\">Once you are done, hit the Initialize button.</p><b></font>"
      }
     },
     "9252d2d0467e4097bebb170f84ef7da7": {
      "model_module": "@jupyter-widgets/controls",
      "model_module_version": "1.5.0",
      "model_name": "ButtonModel",
      "state": {
       "description": "Initialize data",
       "layout": "IPY_MODEL_cdfcdcf12bea4de18226ee826a3ef9f8",
       "style": "IPY_MODEL_467a7324f120435a9c701d039a5c8fa1"
      }
     },
     "947b5b0abede4dbab2133ce43be088e5": {
      "model_module": "@jupyter-widgets/base",
      "model_module_version": "1.2.0",
      "model_name": "LayoutModel",
      "state": {}
     },
     "95878b6676df4679afa6a634649b0576": {
      "model_module": "@jupyter-widgets/controls",
      "model_module_version": "1.5.0",
      "model_name": "CheckboxModel",
      "state": {
       "description": "Show labels",
       "disabled": false,
       "layout": "IPY_MODEL_b253a28a2b2542c983775c83cd3184cb",
       "style": "IPY_MODEL_b31fd43aa0b7478799c16c1730db680c",
       "value": true
      }
     },
     "9587d77849f24c9caea443c437159ed7": {
      "model_module": "@jupyter-widgets/controls",
      "model_module_version": "1.5.0",
      "model_name": "IntTextModel",
      "state": {
       "description": "Step",
       "layout": "IPY_MODEL_a8a2243515364bb9a627f0e2838be72b",
       "step": 1,
       "style": "IPY_MODEL_a3a5fabe9ab94ecbbb26d74ed561513a",
       "value": 1
      }
     },
     "95bd24b961a64230bd845d3d3e4ce486": {
      "model_module": "@jupyter-widgets/controls",
      "model_module_version": "1.5.0",
      "model_name": "HBoxModel",
      "state": {
       "children": [
        "IPY_MODEL_b8f9f1bd23f549eead5463f3381d1fdd",
        "IPY_MODEL_01ad7bcad4264b3baadbb500b65d2cab"
       ],
       "layout": "IPY_MODEL_ec4dad4a33114c6ba1e245ae5f6b1c3e"
      }
     },
     "95c3adea13b74460bef28f4a18b6a184": {
      "model_module": "@jupyter-widgets/controls",
      "model_module_version": "1.5.0",
      "model_name": "ButtonModel",
      "state": {
       "description": "Load analysis",
       "layout": "IPY_MODEL_e19a224720cd415b89f2f7efcd47e557",
       "style": "IPY_MODEL_890949f4032045ca9f40f4f250e2a5e1"
      }
     },
     "95ce28d28b7e443a8148ff0ee633adfd": {
      "model_module": "@jupyter-widgets/controls",
      "model_module_version": "1.5.0",
      "model_name": "HTMLModel",
      "state": {
       "layout": "IPY_MODEL_478e3ae0df034303a004d33cdc99fe66",
       "style": "IPY_MODEL_6b358b4a9af749299238d0ff288131e4",
       "value": "<font size=\"3\"><b>(b) Results folder<b></font>"
      }
     },
     "966478d3ef0a4aaa85accc24071e56b9": {
      "model_module": "@jupyter-widgets/controls",
      "model_module_version": "1.5.0",
      "model_name": "HTMLModel",
      "state": {
       "layout": "IPY_MODEL_04a4ea4419c04d0fac781148cc5d7168",
       "style": "IPY_MODEL_432e98e968c644f18003fcd7ddda06b6",
       "value": "<font size=\"3\"><b>(a) Segmentation<b></font>"
      }
     },
     "9697d3404a344e11a3e986475a7f1de1": {
      "model_module": "@jupyter-widgets/base",
      "model_module_version": "1.2.0",
      "model_name": "LayoutModel",
      "state": {}
     },
     "977a2da7b01242bab27277edc4ff3194": {
      "model_module": "@jupyter-widgets/base",
      "model_module_version": "1.2.0",
      "model_name": "LayoutModel",
      "state": {}
     },
     "98225289475c49db8a15e592d7df933b": {
      "model_module": "@jupyter-widgets/base",
      "model_module_version": "1.2.0",
      "model_name": "LayoutModel",
      "state": {}
     },
     "98ddfbdbe32c41339b12d39a0906b3dc": {
      "model_module": "@jupyter-widgets/base",
      "model_module_version": "1.2.0",
      "model_name": "LayoutModel",
      "state": {}
     },
     "993424b3656a4af1b3c3f341181007ed": {
      "model_module": "@jupyter-widgets/controls",
      "model_module_version": "1.5.0",
      "model_name": "DescriptionStyleModel",
      "state": {
       "description_width": ""
      }
     },
     "99c683afdcf842ca83c2f4da039a237d": {
      "model_module": "@jupyter-widgets/base",
      "model_module_version": "1.2.0",
      "model_name": "LayoutModel",
      "state": {}
     },
     "9a1a261817c14266a6c8157863bc262f": {
      "model_module": "@jupyter-widgets/controls",
      "model_module_version": "1.5.0",
      "model_name": "ButtonStyleModel",
      "state": {}
     },
     "9b0c72cd0d3341ce8d1eabeb0cdf429f": {
      "model_module": "@jupyter-widgets/output",
      "model_module_version": "1.0.0",
      "model_name": "OutputModel",
      "state": {
       "layout": "IPY_MODEL_75d7a15f31f54da6ad3a75b8f6ebd0b8"
      }
     },
     "9b2815f53aa74fc2a9a5fe3f7e92f728": {
      "model_module": "@jupyter-widgets/controls",
      "model_module_version": "1.5.0",
      "model_name": "HBoxModel",
      "state": {
       "children": [
        "IPY_MODEL_69c7b230429e4e378dbe72b6e004cbf5",
        "IPY_MODEL_d57b65c58c4d4f2895b39a947895e443"
       ],
       "layout": "IPY_MODEL_216e640e818e430d9cc17dc95bd0beaa"
      }
     },
     "9b562db5cc694dccb56b4544b2bce6c0": {
      "model_module": "@jupyter-widgets/controls",
      "model_module_version": "1.5.0",
      "model_name": "HTMLModel",
      "state": {
       "layout": "IPY_MODEL_d0927a3d95d3471ea4d69a17c1145c39",
       "style": "IPY_MODEL_4e69617d52df465fa0205c70a1dc80e4",
       "value": "<br><font size=\"5\"><b>Run or visualize segmentation<b></font>"
      }
     },
     "9d0455d69fff4c7693b5d798d7064b1e": {
      "model_module": "@jupyter-widgets/base",
      "model_module_version": "1.2.0",
      "model_name": "LayoutModel",
      "state": {}
     },
     "9d0814226d66401ca6442a9807910287": {
      "model_module": "@jupyter-widgets/base",
      "model_module_version": "1.2.0",
      "model_name": "LayoutModel",
      "state": {}
     },
     "9deffa25fec34d4ab7468d5e710f4a33": {
      "model_module": "@jupyter-widgets/base",
      "model_module_version": "1.2.0",
      "model_name": "LayoutModel",
      "state": {}
     },
     "9f224816d5ee4f22b10fc07f69fb7b1a": {
      "model_module": "@jupyter-widgets/base",
      "model_module_version": "1.2.0",
      "model_name": "LayoutModel",
      "state": {
       "width": "300px"
      }
     },
     "9f6e1370610a4ffe89692e907aaf8213": {
      "model_module": "@jupyter-widgets/controls",
      "model_module_version": "1.5.0",
      "model_name": "DescriptionStyleModel",
      "state": {
       "description_width": ""
      }
     },
     "9faa6527c45a4b63b3baba14f5a32060": {
      "model_module": "@jupyter-widgets/controls",
      "model_module_version": "1.5.0",
      "model_name": "ButtonModel",
      "state": {
       "description": "Click to segment",
       "layout": "IPY_MODEL_806c33e7020a412aae9d2c0d284609d2",
       "style": "IPY_MODEL_ec8873fe7c0d4b01b0d15eb454f6ade1"
      }
     },
     "9fdf8e47394f4db884cf1e80ff0018bc": {
      "model_module": "@jupyter-widgets/controls",
      "model_module_version": "1.5.0",
      "model_name": "SliderStyleModel",
      "state": {
       "description_width": ""
      }
     },
     "a3a5fabe9ab94ecbbb26d74ed561513a": {
      "model_module": "@jupyter-widgets/controls",
      "model_module_version": "1.5.0",
      "model_name": "DescriptionStyleModel",
      "state": {
       "description_width": ""
      }
     },
     "a3cfc4ace8874a8f9ee0dba183858188": {
      "model_module": "@jupyter-widgets/controls",
      "model_module_version": "1.5.0",
      "model_name": "CheckboxModel",
      "state": {
       "description": "Show windows",
       "disabled": false,
       "layout": "IPY_MODEL_2c971051a39a42cd81dde8c7c43c6fc4",
       "style": "IPY_MODEL_44303bb38b8d4a1fbaf70d0e506c5dbb",
       "value": true
      }
     },
     "a3d918f996f84bd6820971999535094d": {
      "model_module": "@jupyter-widgets/controls",
      "model_module_version": "1.5.0",
      "model_name": "VBoxModel",
      "state": {
       "children": [
        "IPY_MODEL_a5ae6eb205514bdda2c7e6595584c61a",
        "IPY_MODEL_8a82b0131a2048108bbd1a01e2bfdcee"
       ],
       "layout": "IPY_MODEL_4222f6079c294959adece11926ec07d8"
      }
     },
     "a3ea2d5135264941af0fd57ffe788f07": {
      "model_module": "@jupyter-widgets/base",
      "model_module_version": "1.2.0",
      "model_name": "LayoutModel",
      "state": {}
     },
     "a49491d1e5b9403682b6e9937fdeb95f": {
      "model_module": "@jupyter-widgets/controls",
      "model_module_version": "1.5.0",
      "model_name": "DescriptionStyleModel",
      "state": {
       "description_width": ""
      }
     },
     "a522740c790d4d249a3eed8ee6dd412d": {
      "model_module": "@jupyter-widgets/base",
      "model_module_version": "1.2.0",
      "model_name": "LayoutModel",
      "state": {}
     },
     "a5668c20015c4f22b7e3fb838408913b": {
      "model_module": "@jupyter-widgets/controls",
      "model_module_version": "1.5.0",
      "model_name": "RadioButtonsModel",
      "state": {
       "_options_labels": [
        "farid",
        "cellpose",
        "ilastik"
       ],
       "description": "Segmentation:",
       "index": 2,
       "layout": "IPY_MODEL_9d0814226d66401ca6442a9807910287",
       "style": "IPY_MODEL_2001b5cdc60248a8ab3c3c915be190e7"
      }
     },
     "a5852cbe85614c7880ba6f892fbaf3f4": {
      "model_module": "@jupyter-widgets/controls",
      "model_module_version": "1.5.0",
      "model_name": "VBoxModel",
      "state": {
       "children": [
        "IPY_MODEL_545dbaec59de45ffae9b237e81455c39",
        "IPY_MODEL_9587d77849f24c9caea443c437159ed7",
        "IPY_MODEL_84a47d446f194d8fbead7d6c42a71c76",
        "IPY_MODEL_a5668c20015c4f22b7e3fb838408913b",
        "IPY_MODEL_6897ce7b9f3d4dca8b0db604a43274a0",
        "IPY_MODEL_39816539a3544103850d67c7688b4ff7",
        "IPY_MODEL_f4f8377be73c47969ac5739501e1cc05",
        "IPY_MODEL_c608e7dab6c741408f124296467c7fb9",
        "IPY_MODEL_166e4e5852244bc6b6faca7a4458ce48",
        "IPY_MODEL_9faa6527c45a4b63b3baba14f5a32060"
       ],
       "layout": "IPY_MODEL_1e34bbd2548c4351a59fd6da41039d0a"
      }
     },
     "a5ae6eb205514bdda2c7e6595584c61a": {
      "model_module": "@jupyter-widgets/controls",
      "model_module_version": "1.5.0",
      "model_name": "HTMLModel",
      "state": {
       "layout": "IPY_MODEL_6e68797c1c2c486ea1802433de4615ce",
       "style": "IPY_MODEL_4c2bde87343b43c4b115da4be4841936",
       "value": "<font size=\"3\"><b>(a) Data folder<b></font>"
      }
     },
     "a5c528bb11f7493b8b6b27b3292d4e84": {
      "model_module": "@jupyter-widgets/controls",
      "model_module_version": "1.5.0",
      "model_name": "ButtonModel",
      "state": {
       "description": "Save analysis",
       "layout": "IPY_MODEL_8412c0a79cfa4c8d9fad139e4b880ab1",
       "style": "IPY_MODEL_3ff0c2a8c030434192663fe2c7d841de"
      }
     },
     "a61f449d00644266b1036469501a0137": {
      "model_module": "@jupyter-widgets/controls",
      "model_module_version": "1.5.0",
      "model_name": "ButtonStyleModel",
      "state": {}
     },
     "a659b331e1104e929a7abef2a35b18b4": {
      "model_module": "@jupyter-widgets/controls",
      "model_module_version": "1.5.0",
      "model_name": "RadioButtonsModel",
      "state": {
       "_options_labels": [
        "New analysis",
        "Load analysis"
       ],
       "description": "Usage type:",
       "index": 1,
       "layout": "IPY_MODEL_fcb4ac0dad154a988993e276f843534c",
       "style": "IPY_MODEL_4ec1fb7ef32e4955976c1fd0d9ea8442"
      }
     },
     "a6b89933afb34a09a0c4ec822fe108fb": {
      "model_module": "@jupyter-widgets/base",
      "model_module_version": "1.2.0",
      "model_name": "LayoutModel",
      "state": {}
     },
     "a6d891cfa9014ab5adc8313946787b17": {
      "model_module": "@jupyter-widgets/base",
      "model_module_version": "1.2.0",
      "model_name": "LayoutModel",
      "state": {}
     },
     "a7429fe04a91401097cc255b0db1368a": {
      "model_module": "@jupyter-widgets/base",
      "model_module_version": "1.2.0",
      "model_name": "LayoutModel",
      "state": {
       "width": "300px"
      }
     },
     "a743668a5ed148c4bf0bd13fc92557bb": {
      "model_module": "@jupyter-widgets/base",
      "model_module_version": "1.2.0",
      "model_name": "LayoutModel",
      "state": {}
     },
     "a76da147c0b94b7f9e1f31cfe4e7f17b": {
      "model_module": "@jupyter-widgets/controls",
      "model_module_version": "1.5.0",
      "model_name": "DescriptionStyleModel",
      "state": {
       "description_width": ""
      }
     },
     "a88d78eaa2014daebe7eae1444adb8df": {
      "model_module": "@jupyter-widgets/output",
      "model_module_version": "1.0.0",
      "model_name": "OutputModel",
      "state": {
       "layout": "IPY_MODEL_c47ccdd97b1f49b68f4196b02cbdeb8f",
       "outputs": [
        {
         "data": {
          "application/vnd.jupyter.widget-view+json": {
           "model_id": "",
           "version_major": 2,
           "version_minor": 0
          },
          "text/html": "\n            <div style=\"display: inline-block;\">\n                <div class=\"jupyter-widgets widget-label\" style=\"text-align: center;\">\n                    Figure\n                </div>\n                <img src='data:image/png;base64,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' width=500.0/>\n            </div>\n        ",
          "text/plain": "Canvas(toolbar=Toolbar(toolitems=[('Home', 'Reset original view', 'home', 'home'), ('Back', 'Back to previous …"
         },
         "metadata": {},
         "output_type": "display_data"
        }
       ]
      }
     },
     "a8a2243515364bb9a627f0e2838be72b": {
      "model_module": "@jupyter-widgets/base",
      "model_module_version": "1.2.0",
      "model_name": "LayoutModel",
      "state": {}
     },
     "a97222a1f2a74508897c49dd7c1b8dc3": {
      "model_module": "@jupyter-widgets/base",
      "model_module_version": "1.2.0",
      "model_name": "LayoutModel",
      "state": {}
     },
     "a9d5cf8b420e4b35b312d323c80e29ba": {
      "model_module": "@jupyter-widgets/base",
      "model_module_version": "1.2.0",
      "model_name": "LayoutModel",
      "state": {}
     },
     "a9de965be22345a380eaeb5add451519": {
      "model_module": "@jupyter-widgets/controls",
      "model_module_version": "1.5.0",
      "model_name": "DescriptionStyleModel",
      "state": {
       "description_width": ""
      }
     },
     "aa209c59f93b4cfd92ecd0146161ac75": {
      "model_module": "@jupyter-widgets/controls",
      "model_module_version": "1.5.0",
      "model_name": "HTMLModel",
      "state": {
       "layout": "IPY_MODEL_706660b4cee34287b880292f5973ce22",
       "style": "IPY_MODEL_a49491d1e5b9403682b6e9937fdeb95f",
       "value": "<br><font size=\"5\"><b>2. Select locations<b></font>                    <br><font size=\"3\"><b>Choose the location of the analysis that you want to import. That folder should                        contain e.g. a Parameters.yml file.                            <p style=\"color:lightgreen;\">Once you are done, hit the \"Load analysis\" button.</p>. .<b></font>"
      }
     },
     "ab06303c6ab24945bb89eca1bc17a1f2": {
      "model_module": "@jupyter-widgets/controls",
      "model_module_version": "1.5.0",
      "model_name": "VBoxModel",
      "state": {
       "children": [
        "IPY_MODEL_545dbaec59de45ffae9b237e81455c39",
        "IPY_MODEL_9587d77849f24c9caea443c437159ed7",
        "IPY_MODEL_84a47d446f194d8fbead7d6c42a71c76",
        "IPY_MODEL_a5668c20015c4f22b7e3fb838408913b",
        "IPY_MODEL_6897ce7b9f3d4dca8b0db604a43274a0",
        "IPY_MODEL_39816539a3544103850d67c7688b4ff7",
        "IPY_MODEL_f4f8377be73c47969ac5739501e1cc05",
        "IPY_MODEL_c608e7dab6c741408f124296467c7fb9",
        "IPY_MODEL_166e4e5852244bc6b6faca7a4458ce48",
        "IPY_MODEL_9faa6527c45a4b63b3baba14f5a32060"
       ],
       "layout": "IPY_MODEL_60564ffed2ab497f8ea035ec84b77661"
      }
     },
     "acdf8f7c14394f27beed150b82ef1241": {
      "model_module": "@jupyter-widgets/base",
      "model_module_version": "1.2.0",
      "model_name": "LayoutModel",
      "state": {}
     },
     "ad5ef6794b6b45988321f67ffd52a48f": {
      "model_module": "@jupyter-widgets/controls",
      "model_module_version": "1.5.0",
      "model_name": "DescriptionStyleModel",
      "state": {
       "description_width": ""
      }
     },
     "ae80575d55b3414a97b76c1d5ca45367": {
      "model_module": "@jupyter-widgets/base",
      "model_module_version": "1.2.0",
      "model_name": "LayoutModel",
      "state": {}
     },
     "ae99d7a2b19a45ceaae4baa531c97873": {
      "model_module": "@jupyter-widgets/base",
      "model_module_version": "1.2.0",
      "model_name": "LayoutModel",
      "state": {}
     },
     "ae9d58ca7b8e45cdbe5c83992fddaca9": {
      "model_module": "@jupyter-widgets/controls",
      "model_module_version": "1.5.0",
      "model_name": "DescriptionStyleModel",
      "state": {
       "description_width": ""
      }
     },
     "af176c5948d74aa791443dd5c8a70ea4": {
      "model_module": "@jupyter-widgets/base",
      "model_module_version": "1.2.0",
      "model_name": "LayoutModel",
      "state": {}
     },
     "b00e52d506074a1abf1663c4c9622b6e": {
      "model_module": "@jupyter-widgets/base",
      "model_module_version": "1.2.0",
      "model_name": "LayoutModel",
      "state": {}
     },
     "b03b1dd07e0d4d70bcce7c550324fcaf": {
      "model_module": "@jupyter-widgets/base",
      "model_module_version": "1.2.0",
      "model_name": "LayoutModel",
      "state": {}
     },
     "b253a28a2b2542c983775c83cd3184cb": {
      "model_module": "@jupyter-widgets/base",
      "model_module_version": "1.2.0",
      "model_name": "LayoutModel",
      "state": {}
     },
     "b31fd43aa0b7478799c16c1730db680c": {
      "model_module": "@jupyter-widgets/controls",
      "model_module_version": "1.5.0",
      "model_name": "DescriptionStyleModel",
      "state": {
       "description_width": ""
      }
     },
     "b3ad69f3636a4451ab31c7f7ecf9bf8e": {
      "model_module": "@jupyter-widgets/base",
      "model_module_version": "1.2.0",
      "model_name": "LayoutModel",
      "state": {}
     },
     "b3d56df17a464488bae5bdcb641711b5": {
      "model_module": "@jupyter-widgets/controls",
      "model_module_version": "1.5.0",
      "model_name": "CheckboxModel",
      "state": {
       "description": "Show labels",
       "disabled": false,
       "layout": "IPY_MODEL_6588872a8a35454aba2c7c7ffcdaf229",
       "style": "IPY_MODEL_437e0fb1e0f7431f94be87074c511603",
       "value": true
      }
     },
     "b40cb0a45f2f4d19acec866663ea8a57": {
      "model_module": "@jupyter-widgets/controls",
      "model_module_version": "1.5.0",
      "model_name": "VBoxModel",
      "state": {
       "children": [
        "IPY_MODEL_966478d3ef0a4aaa85accc24071e56b9",
        "IPY_MODEL_0b81ecdaf611493dafb5488c579ae8af"
       ],
       "layout": "IPY_MODEL_b933175e295540d28e4c600c9527ec01"
      }
     },
     "b471c31ecd23469ab83a0e111fdd4089": {
      "model_module": "@jupyter-widgets/controls",
      "model_module_version": "1.5.0",
      "model_name": "DescriptionStyleModel",
      "state": {
       "description_width": ""
      }
     },
     "b51a58497ac1489184581578aa7e6b53": {
      "model_module": "@jupyter-widgets/base",
      "model_module_version": "1.2.0",
      "model_name": "LayoutModel",
      "state": {}
     },
     "b55d2b75b0004881ae63a3b863ccdd31": {
      "model_module": "@jupyter-widgets/controls",
      "model_module_version": "1.5.0",
      "model_name": "DescriptionStyleModel",
      "state": {
       "description_width": ""
      }
     },
     "b5b168387b844fdeaf1f3c413524aa7d": {
      "model_module": "@jupyter-widgets/controls",
      "model_module_version": "1.5.0",
      "model_name": "DescriptionStyleModel",
      "state": {
       "description_width": "initial"
      }
     },
     "b758fe737b834f08b1d78fa3afd8866d": {
      "model_module": "@jupyter-widgets/controls",
      "model_module_version": "1.5.0",
      "model_name": "CheckboxModel",
      "state": {
       "description": "Show windows",
       "disabled": false,
       "layout": "IPY_MODEL_c96b41821916454bae563439ae8b6c91",
       "style": "IPY_MODEL_209a201d3aaa4800934374accd9f9b6e",
       "value": true
      }
     },
     "b7ed5b9485844f91a60cf76e799cbebd": {
      "model_module": "@jupyter-widgets/controls",
      "model_module_version": "1.5.0",
      "model_name": "DescriptionStyleModel",
      "state": {
       "description_width": ""
      }
     },
     "b89a0957684242269e0c53a209f377bc": {
      "model_module": "@jupyter-widgets/controls",
      "model_module_version": "1.5.0",
      "model_name": "VBoxModel",
      "state": {
       "children": [
        "IPY_MODEL_b96d277b78be4a7c9b38129526424b04",
        "IPY_MODEL_a659b331e1104e929a7abef2a35b18b4",
        "IPY_MODEL_69aed8bfd6c849a793f244dcca578bf5",
        "IPY_MODEL_38d221f4063a45f3b5ab54641c301cec",
        "IPY_MODEL_6444687c597b4737939ad189b4506035",
        "IPY_MODEL_a5c528bb11f7493b8b6b27b3292d4e84"
       ],
       "layout": "IPY_MODEL_209e76f923de46abb0710c55f309b1c4"
      }
     },
     "b8f9f1bd23f549eead5463f3381d1fdd": {
      "model_module": "@jupyter-widgets/controls",
      "model_module_version": "1.5.0",
      "model_name": "VBoxModel",
      "state": {
       "children": [
        "IPY_MODEL_439b45a2003a4a3d9f882de4984bcd49",
        "IPY_MODEL_c822643e52a6443893d2d19936271b7f",
        "IPY_MODEL_0c2204eaed564aff894076512f31b149",
        "IPY_MODEL_101dad308afc4f08a258135d11ae0bcf",
        "IPY_MODEL_f349576b18404b40bc50aee529e56a87",
        "IPY_MODEL_4ba5c4b575d64708b6046fe3c9ca3865",
        "IPY_MODEL_06d0044b50c946048bf3b0bfa40abf65",
        "IPY_MODEL_6779649f048240e58c333ba67bc7f1a1",
        "IPY_MODEL_06de73fb167b4de3a2991bcf31efcaf2",
        "IPY_MODEL_5d2ae2ec560b4e1d94749f660ba53629"
       ],
       "layout": "IPY_MODEL_1fbcf447891e40d4a0c4a75b0e693e05"
      }
     },
     "b933175e295540d28e4c600c9527ec01": {
      "model_module": "@jupyter-widgets/base",
      "model_module_version": "1.2.0",
      "model_name": "LayoutModel",
      "state": {}
     },
     "b96d277b78be4a7c9b38129526424b04": {
      "model_module": "@jupyter-widgets/controls",
      "model_module_version": "1.5.0",
      "model_name": "HTMLModel",
      "state": {
       "layout": "IPY_MODEL_398757ebb8e74c078e73252b27fdb45c",
       "style": "IPY_MODEL_be3fe56cd7f74966b167615e988ad322",
       "value": "<br><font size=\"5\"><b>1. Are you running a new analysis or loading one?<b></font>"
      }
     },
     "ba6309a3397a48bcbdad5eec589b22bf": {
      "model_module": "@jupyter-widgets/controls",
      "model_module_version": "1.5.0",
      "model_name": "DescriptionStyleModel",
      "state": {
       "description_width": ""
      }
     },
     "bd166d3f6dec4b3098ced15cbf3fa0cb": {
      "model_module": "@jupyter-widgets/output",
      "model_module_version": "1.0.0",
      "model_name": "OutputModel",
      "state": {
       "layout": "IPY_MODEL_68eb12a6e8804dffa98ce78c804651a2",
       "outputs": [
        {
         "data": {
          "application/vnd.jupyter.widget-view+json": {
           "model_id": "",
           "version_major": 2,
           "version_minor": 0
          },
          "text/plain": "VBox(children=(HTML(value='<br><font size=\"5\"><b>1. Are you running a new analysis or loading one?<b></font>')…"
         },
         "metadata": {},
         "output_type": "display_data"
        }
       ]
      }
     },
     "bd37e97658d6471fae94441e4a4e031d": {
      "model_module": "@jupyter-widgets/controls",
      "model_module_version": "1.5.0",
      "model_name": "HTMLModel",
      "state": {
       "layout": "IPY_MODEL_ea4769e4c7c14b0b90cfbd3f67cac03a",
       "style": "IPY_MODEL_a9de965be22345a380eaeb5add451519",
       "value": "<font size=\"3\"><b>(a) Segmentation<b></font>"
      }
     },
     "bda07a398eea4b53919abf9dc1743e77": {
      "model_module": "@jupyter-widgets/controls",
      "model_module_version": "1.5.0",
      "model_name": "DescriptionStyleModel",
      "state": {
       "description_width": ""
      }
     },
     "be3fe56cd7f74966b167615e988ad322": {
      "model_module": "@jupyter-widgets/controls",
      "model_module_version": "1.5.0",
      "model_name": "DescriptionStyleModel",
      "state": {
       "description_width": ""
      }
     },
     "c07e5e5c17cb406f81ba0cfc2252bfd6": {
      "model_module": "@jupyter-widgets/controls",
      "model_module_version": "1.5.0",
      "model_name": "DescriptionStyleModel",
      "state": {
       "description_width": ""
      }
     },
     "c149ced4470746918e11cf2da37da47b": {
      "model_module": "@jupyter-widgets/output",
      "model_module_version": "1.0.0",
      "model_name": "OutputModel",
      "state": {
       "layout": "IPY_MODEL_2278ca80d32d42e289f03b0738d8ef7d"
      }
     },
     "c3169953ed414452a6014630fc1b75db": {
      "model_module": "@jupyter-widgets/controls",
      "model_module_version": "1.5.0",
      "model_name": "VBoxModel",
      "state": {
       "children": [
        "IPY_MODEL_fc887e5db37f4645844ac3e50a06ee30",
        "IPY_MODEL_7f32a78e2a4d4fe8a02a6eb52e22aae1",
        "IPY_MODEL_9143c83a37534b8ab731d8e74cfbde5f",
        "IPY_MODEL_c665a9d60fc84bcdbdc99099d4c6792a",
        "IPY_MODEL_5bc139eed3984243ac1be603bfc81910",
        "IPY_MODEL_57f4c9e8d206430a98ad70311086cced",
        "IPY_MODEL_388fa6c1d0ea4bf6ac6fc6dcb060618b",
        "IPY_MODEL_0a21f27da9b34380b2644303767a7b99"
       ],
       "layout": "IPY_MODEL_8c250957be3b4e1b873ccac64ba87eb2"
      }
     },
     "c320758386394cd9bbc4b95a3d9116f2": {
      "model_module": "@jupyter-widgets/base",
      "model_module_version": "1.2.0",
      "model_name": "LayoutModel",
      "state": {}
     },
     "c3463b409a7444fbabc7984c1ad0b497": {
      "model_module": "@jupyter-widgets/base",
      "model_module_version": "1.2.0",
      "model_name": "LayoutModel",
      "state": {}
     },
     "c4455603366c4c2da75e987b30739d41": {
      "model_module": "@jupyter-widgets/output",
      "model_module_version": "1.0.0",
      "model_name": "OutputModel",
      "state": {
       "layout": "IPY_MODEL_b03b1dd07e0d4d70bcce7c550324fcaf"
      }
     },
     "c47ccdd97b1f49b68f4196b02cbdeb8f": {
      "model_module": "@jupyter-widgets/base",
      "model_module_version": "1.2.0",
      "model_name": "LayoutModel",
      "state": {}
     },
     "c49a6c481a0346d3a146f1916017aa71": {
      "model_module": "@jupyter-widgets/controls",
      "model_module_version": "1.5.0",
      "model_name": "ButtonStyleModel",
      "state": {}
     },
     "c4eaa9661a26438a822c455128d4d23c": {
      "model_module": "@jupyter-widgets/base",
      "model_module_version": "1.2.0",
      "model_name": "LayoutModel",
      "state": {}
     },
     "c50a1b429ad04defa92d31c17c80553b": {
      "model_module": "@jupyter-widgets/output",
      "model_module_version": "1.0.0",
      "model_name": "OutputModel",
      "state": {
       "layout": "IPY_MODEL_536888ded2bc47a7ab8df985264e3fc1"
      }
     },
     "c5a2f31d22704d9fa6e0adc69d290d77": {
      "model_module": "@jupyter-widgets/controls",
      "model_module_version": "1.5.0",
      "model_name": "DescriptionStyleModel",
      "state": {
       "description_width": ""
      }
     },
     "c5c19f5eda4f4ebda8cde962b05073d6": {
      "model_module": "@jupyter-widgets/controls",
      "model_module_version": "1.5.0",
      "model_name": "ButtonModel",
      "state": {
       "description": "Refresh folder content",
       "layout": "IPY_MODEL_e1ac2f6422cb4247980c9831f0b4a828",
       "style": "IPY_MODEL_328981d9393d445c96f79ce8263f1745"
      }
     },
     "c608e7dab6c741408f124296467c7fb9": {
      "model_module": "@jupyter-widgets/controls",
      "model_module_version": "1.5.0",
      "model_name": "IntTextModel",
      "state": {
       "description": "Window depth",
       "layout": "IPY_MODEL_9f224816d5ee4f22b10fc07f69fb7b1a",
       "step": 1,
       "style": "IPY_MODEL_e330fff7d8b24634b903ff40d1415401",
       "value": 5
      }
     },
     "c665a9d60fc84bcdbdc99099d4c6792a": {
      "model_module": "@jupyter-widgets/controls",
      "model_module_version": "1.5.0",
      "model_name": "HBoxModel",
      "state": {
       "children": [
        "IPY_MODEL_40eb113b83804378914e60c3602dc869",
        "IPY_MODEL_56c85ceb757e4e3784bba1348f9bd668"
       ],
       "layout": "IPY_MODEL_811c96ca0f5e4be5b7bfe167412e6f52"
      }
     },
     "c6d8fbeb951f4b0da9d1a37daf36ebd9": {
      "model_module": "@jupyter-widgets/controls",
      "model_module_version": "1.5.0",
      "model_name": "DescriptionStyleModel",
      "state": {
       "description_width": ""
      }
     },
     "c71c464bc5514e93bdfee4338dd2137a": {
      "model_module": "@jupyter-widgets/controls",
      "model_module_version": "1.5.0",
      "model_name": "FloatTextModel",
      "state": {
       "description": "Threshold:",
       "layout": "IPY_MODEL_408660854c0844b8b880829cb4509f5e",
       "step": null,
       "style": "IPY_MODEL_87ab247faea449f5beb4dcd3dedba479",
       "value": 100
      }
     },
     "c7313fb007464a8f9585635d61f10d4f": {
      "model_module": "@jupyter-widgets/controls",
      "model_module_version": "1.5.0",
      "model_name": "DescriptionStyleModel",
      "state": {
       "description_width": ""
      }
     },
     "c7875f3d98d34b429ebfa62a0cc6a7cb": {
      "model_module": "@jupyter-widgets/controls",
      "model_module_version": "1.5.0",
      "model_name": "HBoxModel",
      "state": {
       "children": [
        "IPY_MODEL_350c52c9ffaa4885b46a4072a18b4762",
        "IPY_MODEL_1b410e1bffc04d0a95778ce9f007a385"
       ],
       "layout": "IPY_MODEL_8fb872355a9d4a14ab36f8d2cc3bbf93"
      }
     },
     "c822643e52a6443893d2d19936271b7f": {
      "model_module": "@jupyter-widgets/controls",
      "model_module_version": "1.5.0",
      "model_name": "IntTextModel",
      "state": {
       "description": "Step",
       "layout": "IPY_MODEL_f1092dd36c8344059c80cf50d1fd1192",
       "step": 1,
       "style": "IPY_MODEL_f32b16608d1a4030b2b930b60cafea92",
       "value": 1
      }
     },
     "c8d05d5ddcfb487c982bb0c8534ee542": {
      "model_module": "@jupyter-widgets/base",
      "model_module_version": "1.2.0",
      "model_name": "LayoutModel",
      "state": {}
     },
     "c96b41821916454bae563439ae8b6c91": {
      "model_module": "@jupyter-widgets/base",
      "model_module_version": "1.2.0",
      "model_name": "LayoutModel",
      "state": {}
     },
     "ca1bf14839fe4c8a8d9cf7425826edcf": {
      "model_module": "@jupyter-widgets/base",
      "model_module_version": "1.2.0",
      "model_name": "LayoutModel",
      "state": {}
     },
     "cbb7c076fede473280233eefb5f7d064": {
      "model_module": "@jupyter-widgets/controls",
      "model_module_version": "1.5.0",
      "model_name": "DescriptionStyleModel",
      "state": {
       "description_width": ""
      }
     },
     "ccaaae6cc7ab41358b44228955a71a17": {
      "model_module": "@jupyter-widgets/controls",
      "model_module_version": "1.5.0",
      "model_name": "DescriptionStyleModel",
      "state": {
       "description_width": ""
      }
     },
     "cd78a4c50eae4707adfa60965b10105b": {
      "model_module": "@jupyter-widgets/controls",
      "model_module_version": "1.5.0",
      "model_name": "RadioButtonsModel",
      "state": {
       "_options_labels": [
        "New analysis",
        "Load analysis"
       ],
       "description": "Usage type:",
       "index": 1,
       "layout": "IPY_MODEL_f691dd8808074676a8e55c0ba25454a2",
       "style": "IPY_MODEL_ccaaae6cc7ab41358b44228955a71a17"
      }
     },
     "cdfcdcf12bea4de18226ee826a3ef9f8": {
      "model_module": "@jupyter-widgets/base",
      "model_module_version": "1.2.0",
      "model_name": "LayoutModel",
      "state": {}
     },
     "ce89b3db7af9425b96ccd528cca39dcf": {
      "model_module": "@jupyter-widgets/controls",
      "model_module_version": "1.5.0",
      "model_name": "ButtonModel",
      "state": {
       "description": "Refresh folder content",
       "layout": "IPY_MODEL_5e7818aba66146e3af84b2006ac11533",
       "style": "IPY_MODEL_3e23066a36724028b97fe9a353745c40"
      }
     },
     "cfbbd76f039c4154955106f47486870d": {
      "model_module": "@jupyter-widgets/controls",
      "model_module_version": "1.5.0",
      "model_name": "SelectModel",
      "state": {
       "_options_labels": [
        "synth_ch1.h5",
        "synth_ch2.h5",
        "synth_ch3.h5"
       ],
       "index": 0,
       "layout": "IPY_MODEL_b51a58497ac1489184581578aa7e6b53",
       "style": "IPY_MODEL_6b84aa2c41f94305b14a6ff4887c4da8"
      }
     },
     "d0927a3d95d3471ea4d69a17c1145c39": {
      "model_module": "@jupyter-widgets/base",
      "model_module_version": "1.2.0",
      "model_name": "LayoutModel",
      "state": {}
     },
     "d1025c1a71c9437596810d75779d9298": {
      "model_module": "@jupyter-widgets/base",
      "model_module_version": "1.2.0",
      "model_name": "LayoutModel",
      "state": {}
     },
     "d12880827aaf46b99855f2b8266b02dd": {
      "model_module": "jupyter-matplotlib",
      "model_module_version": "^0.10.2",
      "model_name": "ToolbarModel",
      "state": {
       "layout": "IPY_MODEL_8fa35c27ffea463da878c23dd19f9096",
       "toolitems": [
        [
         "Home",
         "Reset original view",
         "home",
         "home"
        ],
        [
         "Back",
         "Back to previous view",
         "arrow-left",
         "back"
        ],
        [
         "Forward",
         "Forward to next view",
         "arrow-right",
         "forward"
        ],
        [
         "Pan",
         "Left button pans, Right button zooms\nx/y fixes axis, CTRL fixes aspect",
         "arrows",
         "pan"
        ],
        [
         "Zoom",
         "Zoom to rectangle\nx/y fixes axis",
         "square-o",
         "zoom"
        ],
        [
         "Download",
         "Download plot",
         "floppy-o",
         "save_figure"
        ]
       ]
      }
     },
     "d1a26d13182141aa8b67b6cb771837d4": {
      "model_module": "@jupyter-widgets/base",
      "model_module_version": "1.2.0",
      "model_name": "LayoutModel",
      "state": {}
     },
     "d34d101aa5094dd88bdf51a8ff43b5fc": {
      "model_module": "@jupyter-widgets/base",
      "model_module_version": "1.2.0",
      "model_name": "LayoutModel",
      "state": {}
     },
     "d3685c2d579545348b333f886f42b6e6": {
      "model_module": "@jupyter-widgets/controls",
      "model_module_version": "1.5.0",
      "model_name": "SelectModel",
      "state": {
       "_options_labels": [
        "synth_ch1.h5",
        "synth_ch2.h5",
        "synth_ch3.h5"
       ],
       "index": 0,
       "layout": "IPY_MODEL_23e1a5d0066e47b5908be12486aefb89",
       "style": "IPY_MODEL_9f6e1370610a4ffe89692e907aaf8213"
      }
     },
     "d3b7424629fc4cf59362cf884a2ffc80": {
      "model_module": "@jupyter-widgets/controls",
      "model_module_version": "1.5.0",
      "model_name": "DescriptionStyleModel",
      "state": {
       "description_width": ""
      }
     },
     "d43e9fb13e1e4c75a7660d0f1b9278df": {
      "model_module": "@jupyter-widgets/base",
      "model_module_version": "1.2.0",
      "model_name": "LayoutModel",
      "state": {}
     },
     "d473cbbe18b942cb8d1124df5efaa3b5": {
      "model_module": "@jupyter-widgets/controls",
      "model_module_version": "1.5.0",
      "model_name": "HBoxModel",
      "state": {
       "children": [
        "IPY_MODEL_ab06303c6ab24945bb89eca1bc17a1f2",
        "IPY_MODEL_280e41a54db44ccebb16467524eb3eb5"
       ],
       "layout": "IPY_MODEL_07336537dcb14ec1b18602b7164a2430"
      }
     },
     "d57b65c58c4d4f2895b39a947895e443": {
      "model_module": "@jupyter-widgets/controls",
      "model_module_version": "1.5.0",
      "model_name": "VBoxModel",
      "state": {
       "children": [
        "IPY_MODEL_4e0a7be227ce4ae9a7b129a648701ef0",
        "IPY_MODEL_3c8b28f01453412f872a6cb5088aaa54",
        "IPY_MODEL_88682621b24a4248b49e0d05880bab18",
        "IPY_MODEL_fb6bee01a88842539133c0f8d050bbdc",
        "IPY_MODEL_b3d56df17a464488bae5bdcb641711b5"
       ],
       "layout": "IPY_MODEL_977a2da7b01242bab27277edc4ff3194"
      }
     },
     "d6c2173d3f214519b93e511d583e95b5": {
      "model_module": "@jupyter-widgets/controls",
      "model_module_version": "1.5.0",
      "model_name": "CheckboxModel",
      "state": {
       "description": "Show labels",
       "disabled": false,
       "layout": "IPY_MODEL_37b6bcef57694395a65a315103921305",
       "style": "IPY_MODEL_08b98969875e45adbc446f14bb8c3c21",
       "value": true
      }
     },
     "d8eeee29859d4148ba7f6a2dee068070": {
      "model_module": "@jupyter-widgets/controls",
      "model_module_version": "1.5.0",
      "model_name": "FloatTextModel",
      "state": {
       "description": "Threshold:",
       "layout": "IPY_MODEL_46a740af426e459baac08a3791f99f73",
       "step": null,
       "style": "IPY_MODEL_bda07a398eea4b53919abf9dc1743e77",
       "value": 100
      }
     },
     "d9c61e1f47e24b928321a27ac4f5c4eb": {
      "model_module": "@jupyter-widgets/base",
      "model_module_version": "1.2.0",
      "model_name": "LayoutModel",
      "state": {}
     },
     "da51166c9e35403fb7e07c6487679803": {
      "model_module": "@jupyter-widgets/controls",
      "model_module_version": "1.5.0",
      "model_name": "ButtonStyleModel",
      "state": {
       "button_color": "lightgreen"
      }
     },
     "da6ff462364f4cf5b524cddd4ab4776e": {
      "model_module": "@jupyter-widgets/controls",
      "model_module_version": "1.5.0",
      "model_name": "DescriptionStyleModel",
      "state": {
       "description_width": ""
      }
     },
     "db7f135d49214aaaa251af41e2c453d1": {
      "model_module": "@jupyter-widgets/controls",
      "model_module_version": "1.5.0",
      "model_name": "DescriptionStyleModel",
      "state": {
       "description_width": ""
      }
     },
     "dbccc490c86049d691045d45eb7fb10f": {
      "model_module": "@jupyter-widgets/base",
      "model_module_version": "1.2.0",
      "model_name": "LayoutModel",
      "state": {}
     },
     "dc00419cdc3740b6bc67353b1afdb7c2": {
      "model_module": "@jupyter-widgets/controls",
      "model_module_version": "1.5.0",
      "model_name": "VBoxModel",
      "state": {
       "children": [
        "IPY_MODEL_aa209c59f93b4cfd92ecd0146161ac75",
        "IPY_MODEL_33bcefa732bc4226b272b95e74fac51b",
        "IPY_MODEL_95c3adea13b74460bef28f4a18b6a184"
       ],
       "layout": "IPY_MODEL_8e907bd9b29a40d2bdcf27ba32a50774"
      }
     },
     "dd901a6c5e6c40e38e276cbca4a7d90b": {
      "model_module": "@jupyter-widgets/controls",
      "model_module_version": "1.5.0",
      "model_name": "DescriptionStyleModel",
      "state": {
       "description_width": ""
      }
     },
     "dd98a31c251142f784b872ad131c8d91": {
      "model_module": "@jupyter-widgets/base",
      "model_module_version": "1.2.0",
      "model_name": "LayoutModel",
      "state": {}
     },
     "de1f0c9fc4bd4221b4e417a03f2e01ba": {
      "model_module": "@jupyter-widgets/controls",
      "model_module_version": "1.5.0",
      "model_name": "HTMLModel",
      "state": {
       "layout": "IPY_MODEL_372351650e4b4f77907bb82abe4d6634",
       "style": "IPY_MODEL_4e20e665253c45ed9ae62747f4fddb04",
       "value": "<font size=\"3\"><b>(b) Results folder<b></font>"
      }
     },
     "de9f29816bc5401d82d1feaef970072e": {
      "model_module": "@jupyter-widgets/controls",
      "model_module_version": "1.5.0",
      "model_name": "DescriptionStyleModel",
      "state": {
       "description_width": ""
      }
     },
     "e09c8102b31f49dc91682ed484c3658d": {
      "model_module": "@jupyter-widgets/base",
      "model_module_version": "1.2.0",
      "model_name": "LayoutModel",
      "state": {}
     },
     "e0ae21350c87481fa2cce4d994c02868": {
      "model_module": "@jupyter-widgets/controls",
      "model_module_version": "1.5.0",
      "model_name": "DescriptionStyleModel",
      "state": {
       "description_width": ""
      }
     },
     "e19a224720cd415b89f2f7efcd47e557": {
      "model_module": "@jupyter-widgets/base",
      "model_module_version": "1.2.0",
      "model_name": "LayoutModel",
      "state": {}
     },
     "e1ac2f6422cb4247980c9831f0b4a828": {
      "model_module": "@jupyter-widgets/base",
      "model_module_version": "1.2.0",
      "model_name": "LayoutModel",
      "state": {
       "width": "300px"
      }
     },
     "e330fff7d8b24634b903ff40d1415401": {
      "model_module": "@jupyter-widgets/controls",
      "model_module_version": "1.5.0",
      "model_name": "DescriptionStyleModel",
      "state": {
       "description_width": "initial"
      }
     },
     "e4d63c0601ae4363b1671919bb77660f": {
      "model_module": "@jupyter-widgets/controls",
      "model_module_version": "1.5.0",
      "model_name": "DescriptionStyleModel",
      "state": {
       "description_width": ""
      }
     },
     "e4e3a313c886458eb0dbc9a7e58d6085": {
      "model_module": "@jupyter-widgets/base",
      "model_module_version": "1.2.0",
      "model_name": "LayoutModel",
      "state": {}
     },
     "e62d1e2860fa4192bed777bcede9235d": {
      "model_module": "@jupyter-widgets/controls",
      "model_module_version": "1.5.0",
      "model_name": "ButtonStyleModel",
      "state": {}
     },
     "e65be66477bd4279a4417460cc2e2d84": {
      "model_module": "@jupyter-widgets/base",
      "model_module_version": "1.2.0",
      "model_name": "LayoutModel",
      "state": {}
     },
     "e6f527605df045baa173b1da83c3873e": {
      "model_module": "@jupyter-widgets/controls",
      "model_module_version": "1.5.0",
      "model_name": "ButtonModel",
      "state": {
       "description": "Refresh folder content",
       "layout": "IPY_MODEL_3373c0358c9743219bcffeba3183fad6",
       "style": "IPY_MODEL_f005b07aa1c045b685537e271955fada"
      }
     },
     "e72104ac36e5449f9c87ebcaebc29506": {
      "model_module": "@jupyter-widgets/controls",
      "model_module_version": "1.5.0",
      "model_name": "SliderStyleModel",
      "state": {
       "description_width": ""
      }
     },
     "e746245690494f2287a1e38c7b764f94": {
      "model_module": "@jupyter-widgets/base",
      "model_module_version": "1.2.0",
      "model_name": "LayoutModel",
      "state": {}
     },
     "e8ac122f3aea4a92a7919c882db97cc9": {
      "model_module": "@jupyter-widgets/base",
      "model_module_version": "1.2.0",
      "model_name": "LayoutModel",
      "state": {}
     },
     "e9ca06d0464e4ab7bffead442c775d2a": {
      "model_module": "@jupyter-widgets/controls",
      "model_module_version": "1.5.0",
      "model_name": "SliderStyleModel",
      "state": {
       "description_width": ""
      }
     },
     "ea2d81664ecd4bb7861ddebbcd6ee1d4": {
      "model_module": "@jupyter-widgets/controls",
      "model_module_version": "1.5.0",
      "model_name": "ButtonModel",
      "state": {
       "description": "Refresh folder content",
       "layout": "IPY_MODEL_6d5b20c6116142d18bbbca4ef3d793cc",
       "style": "IPY_MODEL_9a1a261817c14266a6c8157863bc262f"
      }
     },
     "ea4769e4c7c14b0b90cfbd3f67cac03a": {
      "model_module": "@jupyter-widgets/base",
      "model_module_version": "1.2.0",
      "model_name": "LayoutModel",
      "state": {}
     },
     "ea989efdc1084cf9b284176d1ef1030c": {
      "model_module": "@jupyter-widgets/controls",
      "model_module_version": "1.5.0",
      "model_name": "SelectMultipleModel",
      "state": {
       "_options_labels": [
        "Ilastiksegmentation",
        "Result_test",
        "Results_cellpose",
        "Results_ilastik",
        "Results_step",
        "Parameters.yml",
        "Results.pkl",
        "synth.ilp",
        "synth_ch1.h5",
        "synth_ch2.h5",
        "synth_ch3.h5"
       ],
       "index": [
        9,
        10
       ],
       "layout": "IPY_MODEL_2b6cc6cc10894bffa88f1a267bac7f39",
       "rows": 5,
       "style": "IPY_MODEL_40db0208014c43f280bd0d0fa7f27665"
      }
     },
     "eb4e5c0575544114b18ce3ac0e0710b9": {
      "model_module": "@jupyter-widgets/controls",
      "model_module_version": "1.5.0",
      "model_name": "SelectMultipleModel",
      "state": {
       "_options_labels": [
        "..",
        "segmented",
        ".DS_Store",
        "Curvature.pdf",
        "Parameters.yml",
        "Results.pkl"
       ],
       "index": [],
       "layout": "IPY_MODEL_4dd72df7cf4040ce95f110d83ab73d50",
       "rows": 10,
       "style": "IPY_MODEL_2f27c1c97b4042968d45c6ec1352b53c"
      }
     },
     "eb77cb16cb7345758705f28055ecc7c7": {
      "model_module": "@jupyter-widgets/base",
      "model_module_version": "1.2.0",
      "model_name": "LayoutModel",
      "state": {}
     },
     "ebbb6f04da7f4623b842993eb3b251b3": {
      "model_module": "@jupyter-widgets/controls",
      "model_module_version": "1.5.0",
      "model_name": "IntRangeSliderModel",
      "state": {
       "_model_name": "IntRangeSliderModel",
       "_view_name": "IntRangeSliderView",
       "description": "Intensity range",
       "layout": "IPY_MODEL_46751c83bd0c46259c86115348707dd3",
       "max": 0,
       "style": "IPY_MODEL_759a15967c93483ab20ea04743e32155",
       "value": [
        0,
        0
       ]
      }
     },
     "ec42ccaafcbf4133b79758b092e088b9": {
      "model_module": "@jupyter-widgets/controls",
      "model_module_version": "1.5.0",
      "model_name": "SliderStyleModel",
      "state": {
       "description_width": ""
      }
     },
     "ec4dad4a33114c6ba1e245ae5f6b1c3e": {
      "model_module": "@jupyter-widgets/base",
      "model_module_version": "1.2.0",
      "model_name": "LayoutModel",
      "state": {}
     },
     "ec8873fe7c0d4b01b0d15eb454f6ade1": {
      "model_module": "@jupyter-widgets/controls",
      "model_module_version": "1.5.0",
      "model_name": "ButtonStyleModel",
      "state": {}
     },
     "ec8c7dbc1b4d47568a2a946d418ff0cd": {
      "model_module": "@jupyter-widgets/controls",
      "model_module_version": "1.5.0",
      "model_name": "HTMLModel",
      "state": {
       "layout": "IPY_MODEL_ae99d7a2b19a45ceaae4baa531c97873",
       "style": "IPY_MODEL_c6d8fbeb951f4b0da9d1a37daf36ebd9",
       "value": "<br><font size=\"5\"><b>4. Computing type<b></font>                            <br><font size=\"3\"><b>If you run the software on a local computer, you can specify                                how many cores you want to use. If you run on a SLURM cluster, you can                                     specifiy how many parallel jobs you want to use.<b></font>"
      }
     },
     "ed60d3b7ff5048269454be1d0ad82e96": {
      "model_module": "@jupyter-widgets/controls",
      "model_module_version": "1.5.0",
      "model_name": "DescriptionStyleModel",
      "state": {
       "description_width": ""
      }
     },
     "ed99fbd268e94402948e1e21cfeb79cb": {
      "model_module": "@jupyter-widgets/controls",
      "model_module_version": "1.5.0",
      "model_name": "DescriptionStyleModel",
      "state": {
       "description_width": ""
      }
     },
     "eeb3b913c77c4ea387d86848e1f6c263": {
      "model_module": "@jupyter-widgets/base",
      "model_module_version": "1.2.0",
      "model_name": "LayoutModel",
      "state": {
       "width": "300px"
      }
     },
     "efee0766156548fb966023454cdeefcb": {
      "model_module": "@jupyter-widgets/controls",
      "model_module_version": "1.5.0",
      "model_name": "DescriptionStyleModel",
      "state": {
       "description_width": ""
      }
     },
     "f005b07aa1c045b685537e271955fada": {
      "model_module": "@jupyter-widgets/controls",
      "model_module_version": "1.5.0",
      "model_name": "ButtonStyleModel",
      "state": {}
     },
     "f046f1331fec4660a601d296b4de21f1": {
      "model_module": "@jupyter-widgets/base",
      "model_module_version": "1.2.0",
      "model_name": "LayoutModel",
      "state": {}
     },
     "f099a768ca444fe79203fbb1bd57fa07": {
      "model_module": "@jupyter-widgets/base",
      "model_module_version": "1.2.0",
      "model_name": "LayoutModel",
      "state": {}
     },
     "f1092dd36c8344059c80cf50d1fd1192": {
      "model_module": "@jupyter-widgets/base",
      "model_module_version": "1.2.0",
      "model_name": "LayoutModel",
      "state": {}
     },
     "f22bfcd4c88d455aa24bf7a6664187bf": {
      "model_module": "@jupyter-widgets/base",
      "model_module_version": "1.2.0",
      "model_name": "LayoutModel",
      "state": {}
     },
     "f2662e8836b14bf0b0de7a257c73ac5d": {
      "model_module": "@jupyter-widgets/controls",
      "model_module_version": "1.5.0",
      "model_name": "VBoxModel",
      "state": {
       "children": [
        "IPY_MODEL_1a3834477dc342a5b717f36697304af6",
        "IPY_MODEL_6477bb27fe0e47f3a506b464e198ed9c"
       ],
       "layout": "IPY_MODEL_5ebe057361494788a59034e51d59285c"
      }
     },
     "f32b16608d1a4030b2b930b60cafea92": {
      "model_module": "@jupyter-widgets/controls",
      "model_module_version": "1.5.0",
      "model_name": "DescriptionStyleModel",
      "state": {
       "description_width": ""
      }
     },
     "f349576b18404b40bc50aee529e56a87": {
      "model_module": "@jupyter-widgets/controls",
      "model_module_version": "1.5.0",
      "model_name": "VBoxModel",
      "state": {
       "layout": "IPY_MODEL_21718da1e86548ba8d42476a050d8bae"
      }
     },
     "f4d084be8e9d4aeb957ec403118116c7": {
      "model_module": "@jupyter-widgets/base",
      "model_module_version": "1.2.0",
      "model_name": "LayoutModel",
      "state": {
       "width": "300px"
      }
     },
     "f4f8377be73c47969ac5739501e1cc05": {
      "model_module": "@jupyter-widgets/controls",
      "model_module_version": "1.5.0",
      "model_name": "FloatTextModel",
      "state": {
       "description": "Location Y",
       "layout": "IPY_MODEL_4cc99e6cbd3a4a3b964d8af0e97ea733",
       "step": null,
       "style": "IPY_MODEL_2c38100f6107445687778cd03206b321",
       "value": 100
      }
     },
     "f691dd8808074676a8e55c0ba25454a2": {
      "model_module": "@jupyter-widgets/base",
      "model_module_version": "1.2.0",
      "model_name": "LayoutModel",
      "state": {}
     },
     "f81d246f88434fb199cc971a88fcb601": {
      "model_module": "@jupyter-widgets/controls",
      "model_module_version": "1.5.0",
      "model_name": "SelectMultipleModel",
      "state": {
       "_options_labels": [
        "..",
        "segmented_k_00.tif",
        "segmented_k_01.tif",
        "segmented_k_02.tif",
        "segmented_k_03.tif",
        "segmented_k_04.tif",
        "segmented_k_05.tif",
        "segmented_k_06.tif",
        "segmented_k_07.tif",
        "segmented_k_08.tif",
        "segmented_k_09.tif",
        "segmented_k_10.tif",
        "segmented_k_11.tif",
        "segmented_k_12.tif",
        "segmented_k_13.tif",
        "segmented_k_14.tif",
        "segmented_k_15.tif",
        "segmented_k_16.tif",
        "segmented_k_17.tif",
        "segmented_k_18.tif",
        "segmented_k_19.tif",
        "segmented_k_20.tif",
        "segmented_k_21.tif",
        "segmented_k_22.tif",
        "segmented_k_23.tif",
        "segmented_k_24.tif",
        "segmented_k_25.tif",
        "segmented_k_26.tif",
        "segmented_k_27.tif",
        "segmented_k_28.tif",
        "segmented_k_29.tif",
        "segmented_k_30.tif",
        "segmented_k_31.tif",
        "segmented_k_32.tif",
        "segmented_k_33.tif",
        "segmented_k_34.tif",
        "segmented_k_35.tif",
        "segmented_k_36.tif",
        "segmented_k_37.tif",
        "segmented_k_38.tif",
        "segmented_k_39.tif"
       ],
       "index": [],
       "layout": "IPY_MODEL_009700177ead40089e773301b9325cfd",
       "rows": 10,
       "style": "IPY_MODEL_da6ff462364f4cf5b524cddd4ab4776e"
      }
     },
     "f93c7c81408c4ac1b9e5d6631becc18c": {
      "model_module": "@jupyter-widgets/controls",
      "model_module_version": "1.5.0",
      "model_name": "ButtonModel",
      "state": {
       "description": "Load parameters",
       "layout": "IPY_MODEL_dbccc490c86049d691045d45eb7fb10f",
       "style": "IPY_MODEL_2c8b485c56bf4ec5849e39df4290e3a9"
      }
     },
     "f9c1730c63e34dba9181bd59965b898a": {
      "model_module": "@jupyter-widgets/controls",
      "model_module_version": "1.5.0",
      "model_name": "DescriptionStyleModel",
      "state": {
       "description_width": ""
      }
     },
     "f9e8ef365fba4a28a6e89ce8d2d0a4eb": {
      "model_module": "@jupyter-widgets/output",
      "model_module_version": "1.0.0",
      "model_name": "OutputModel",
      "state": {
       "layout": "IPY_MODEL_7c7140e901164bf48f24df8f6ae56107"
      }
     },
     "fa316593c103426a9e086011782d1be5": {
      "model_module": "@jupyter-widgets/base",
      "model_module_version": "1.2.0",
      "model_name": "LayoutModel",
      "state": {
       "width": "300px"
      }
     },
     "fa65e9bcaeac4983846840aba7930df0": {
      "model_module": "@jupyter-widgets/output",
      "model_module_version": "1.0.0",
      "model_name": "OutputModel",
      "state": {
       "layout": "IPY_MODEL_6b9cd84d7c84479b9c9a177b8e7b5845"
      }
     },
     "fb6bee01a88842539133c0f8d050bbdc": {
      "model_module": "@jupyter-widgets/controls",
      "model_module_version": "1.5.0",
      "model_name": "CheckboxModel",
      "state": {
       "description": "Show windows",
       "disabled": false,
       "layout": "IPY_MODEL_388eea4faa8e461f9901f32386d41187",
       "style": "IPY_MODEL_ad5ef6794b6b45988321f67ffd52a48f",
       "value": true
      }
     },
     "fbeadfc6a2e54cdda8390dc67d316aea": {
      "model_module": "@jupyter-widgets/controls",
      "model_module_version": "1.5.0",
      "model_name": "ButtonStyleModel",
      "state": {}
     },
     "fbf7f65eda0d4f2889b8ee099cc2dd41": {
      "model_module": "@jupyter-widgets/output",
      "model_module_version": "1.0.0",
      "model_name": "OutputModel",
      "state": {
       "layout": "IPY_MODEL_e4e3a313c886458eb0dbc9a7e58d6085",
       "outputs": [
        {
         "data": {
          "application/vnd.jupyter.widget-view+json": {
           "model_id": "6e779d90985646faad364a095a4f00d0",
           "version_major": 2,
           "version_minor": 0
          },
          "text/html": "\n            <div style=\"display: inline-block;\">\n                <div class=\"jupyter-widgets widget-label\" style=\"text-align: center;\">\n                    Figure\n                </div>\n                <img src='data:image/png;base64,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' width=500.0/>\n            </div>\n        ",
          "text/plain": "Canvas(toolbar=Toolbar(toolitems=[('Home', 'Reset original view', 'home', 'home'), ('Back', 'Back to previous …"
         },
         "metadata": {},
         "output_type": "display_data"
        }
       ]
      }
     },
     "fc38676dc5d84b58bbde6a17ed87946c": {
      "model_module": "@jupyter-widgets/base",
      "model_module_version": "1.2.0",
      "model_name": "LayoutModel",
      "state": {}
     },
     "fc887e5db37f4645844ac3e50a06ee30": {
      "model_module": "@jupyter-widgets/controls",
      "model_module_version": "1.5.0",
      "model_name": "HTMLModel",
      "state": {
       "layout": "IPY_MODEL_4ee49d6658584344bd1c287c1e13ccb9",
       "style": "IPY_MODEL_4979db934410438eb4b1f20bcc919dfe",
       "value": "<br><font size=\"5\"><b>2. Select locations.<b></font>                        <br><font size=\"3\"><b>Select the folders (a) containing your data, (b) where your results                     should be saved, and (c) where the segmentation either is already available or should be saved.<b></font>"
      }
     },
     "fcb4ac0dad154a988993e276f843534c": {
      "model_module": "@jupyter-widgets/base",
      "model_module_version": "1.2.0",
      "model_name": "LayoutModel",
      "state": {}
     },
     "fd040c6bece349c092dda027338e92e5": {
      "model_module": "@jupyter-widgets/controls",
      "model_module_version": "1.5.0",
      "model_name": "ButtonModel",
      "state": {
       "description": "Load analysis",
       "layout": "IPY_MODEL_779b000717ad4b9cb31b7d5a233b47eb",
       "style": "IPY_MODEL_da51166c9e35403fb7e07c6487679803"
      }
     },
     "feee0235ec3b4b3cafd9864b5bf39fe9": {
      "model_module": "@jupyter-widgets/base",
      "model_module_version": "1.2.0",
      "model_name": "LayoutModel",
      "state": {}
     },
     "ff0d6ea6a46b407ba735236da171e742": {
      "model_module": "@jupyter-widgets/controls",
      "model_module_version": "1.5.0",
      "model_name": "DescriptionStyleModel",
      "state": {
       "description_width": ""
      }
     }
    },
    "version_major": 2,
    "version_minor": 0
   }
  }
 },
 "nbformat": 4,
 "nbformat_minor": 4
}
