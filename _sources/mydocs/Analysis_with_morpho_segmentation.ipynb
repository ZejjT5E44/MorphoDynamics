{
 "cells": [
  {
   "cell_type": "markdown",
   "metadata": {},
   "source": [
    "# Segmentation and windowing\n",
    "\n",
    "Assuming that your data are in the right format (see the [Data chapter](Data.iypnb) for more details), you can now run an analysis. We first demo here the usage of the interface and at the end show how to run an analysis without the UI. If you are interested in the methods you can see more in-depth explanation of what is occurring behind the scenes in a [step by step demo](usage_step_by_step.ipynb).\n",
    "\n",
    "## Creating the interface\n",
    "\n",
    "The interface is generated via the ```InteracSeg``` class contained in the ```morpho_segmentation``` module:\n",
    "\n",
    "```\n",
    "from morphodynamics.morpho_segmentation import InteractSeg\n",
    "myUI = InteracSeg()\n",
    "myUI.interface\n",
    "```"
   ]
  },
  {
   "cell_type": "markdown",
   "metadata": {
    "tags": [
     "hide_input"
    ]
   },
   "source": [
    "```{figure} images/UI.png\n",
    "---\n",
    "height: 500px\n",
    "name: UI-fig\n",
    "---\n",
    "User interface for segmentation and windowing.\n",
    "```"
   ]
  },
  {
   "cell_type": "markdown",
   "metadata": {},
   "source": [
    "The interface is composed of four parts:\n",
    "\n",
    "1. Data handling:\n",
    "    - In the **Choose main folder** you should browse to the folder containing your data.\n",
    "    - In the **Saving** folder you should select to which folder you want to export results.\n",
    "    - The **Load Segmentation** button allows to re-load an existing analysis.\n",
    "\n",
    "\n",
    "2. Selecting channels in the **Chose segmentation and signal channels (folders or tifs)** section:\n",
    "    - You should choose which channel you want to use for **segmentation** (left)\n",
    "    - and from which channels you want to extract **signal** information (right). If you want to analyze the intensity of the segmentation channel, you have to select it as well as a **signal**.\n",
    "    - Once selection is done you can load the data with the **Initialize** button.\n",
    "    \n",
    "\n",
    "3. **Computing type**: select cluster, if you want computations to be submitted via a SLURMCluster job-queue.\n",
    "\n",
    "\n",
    "4. **Set segmentation parameters**:\n",
    "    - **Maxtime**: select the last time point to be analyzed, by default the last available time point\n",
    "    - **Step**: If for example you only want to analyze every second step, enter 2.\n",
    "    - **Bad frame**: If you want to skip certain frames, enter them here, e.g. (e.g. 1,2,5-8,12)\n",
    "    - **Segmentation**: Select your segmentation mode (see [this chapter](segmentation.ipynb) for more details)\n",
    "    - **Location X/Y**: Location of the cell to track can be entered here manually.\n",
    "    - **Window depth/width**: Desired dimensions (in px) of the windows.\n",
    "    - Run the segmentation with the **Click to segment** button.\n",
    "    - Save the results with the **Save the segmentation** button.\n",
    "    \n",
    "\n",
    "5. Plot: The central plot shows an image and its current windowing. One can adjust:\n",
    "    - The **Time** (frame) and the **intensity range** of the current image.\n",
    "    - Whether to **show windows** or **show labels** of windows.\n",
    "    - Which channel should be displayed.\n",
    "    - Finally, you can click on the image to select which cell (if there are multiple ones) to track.\n",
    "    \n",
    "Note that when creating the interface ```myUI = InteractSeg``` you can pass additional arguments to avoid having to select them in the interface. This is particularly useful if you are running tests and have to repeatedly create the interface. For example you can use:\n",
    "```\n",
    "from morphodynamics.morpho_segmentation import InteractSeg\n",
    "myUI = InteracSeg(expdir=\"path/to/my/data\", seg_algo='ilastik')\n",
    "myUI.interface\n",
    "```\n",
    "\n",
    "to specify where your data are and which algorithm to use. In that way you won't have to browse to your data folder or change the algorithm.\n",
    "    "
   ]
  },
  {
   "cell_type": "markdown",
   "metadata": {},
   "source": [
    "## Running a new analysis\n",
    "\n",
    "In general follow these steps:\n",
    "1. Choose the data folder and the place where to save your results in the top two file browsers\n",
    "2. Choose which channels to use for segmentation and signal extraction in the **Chose segmentation and signal channels (folders or tifs)** part\n",
    "3. Now you can **Initialize data**, i.e. load the data set. Now you should see the first frame displayed in the figure.\n",
    "4. Select your computation resource and segmentation parameters.\n",
    "5. Select the cell to track (if necessary) by clicking on the image.\n",
    "6. Run the segmentation by clicking on **Click to segment**.\n",
    "7. Browse through the results.\n",
    "8. Save your data by clicking on **Save segmentation**."
   ]
  },
  {
   "cell_type": "markdown",
   "metadata": {},
   "source": [
    "## Output\n",
    "\n",
    "The results of the analysis are saved in the following way:\n",
    "- Segmentation images are saved in the ```segmented``` folder as ```segmented_k_0.tif```, ```segmented_k_1.tif``` etc. Those images are labelled masks, i.e. each cell gets one label.\n",
    "- Tracking information is saved as binary images where only the selected cell appear. Images are called ```tracked_k_0.tif```, ```tracked_k_1.tif``` etc.\n",
    "- The raasterized cell contours where pixel values correspond to curvilinear distance are stored as 32-bits images ```rasterized_k_0.tif```, ```rasterized_k_1.tif``` etc.\n",
    "- The binary window images with window boundaries are stored as ```window_image_k_0.tif```, ```window_image_k_1.tif``` etc.\n",
    "- The list of pixel indexes indicating to which window each pixel belongs are stored as pickle files ```window_k_0.pkl```, ```window_k_1.pkl``` etc.\n",
    "- Other information such as spline functions are stored in a pickled ```Results.pkl``` file.\n",
    "- Parameters of the experiments are saved in a human readable ```Parameters.yml``` file."
   ]
  },
  {
   "cell_type": "markdown",
   "metadata": {},
   "source": [
    "## Loading an existing analysis\n",
    "\n",
    "In general follow these steps:\n",
    "1. Choose the folder that contains your results (```Results.pkl``` and ```Parameters.yml``` files).\n",
    "2. Cick on **Load segmentation**\n",
    "\n",
    "You should now see a UI updated with all parameters set when analyzing the dataset."
   ]
  },
  {
   "cell_type": "markdown",
   "metadata": {},
   "source": [
    "## Running an analysis without UI\n",
    "\n",
    "In some cases it is preferable to use the code without the interface. This is in particular true if you want to run a batch of analysis. We present here an example of how to do that.\n",
    "\n",
    "Just like before, we use the ```InteractSeg``` class defined in the ```morpho_segmentation``` module as an object that simplifies the handling of all the parts of the code. We need to provide the data location as well as a folder to save the data:"
   ]
  },
  {
   "cell_type": "code",
   "execution_count": null,
   "metadata": {},
   "outputs": [],
   "source": [
    "expdir = '../synthetic/data'\n",
    "result_dir = '../synthetic/data/Results_step'"
   ]
  },
  {
   "cell_type": "markdown",
   "metadata": {},
   "source": [
    "and specify which channels we intend to use. We need to provide the name of the stack used for segmentation:"
   ]
  },
  {
   "cell_type": "code",
   "execution_count": null,
   "metadata": {},
   "outputs": [],
   "source": [
    "morpho_name = 'synth_ch1.h5'"
   ]
  },
  {
   "cell_type": "markdown",
   "metadata": {},
   "source": [
    "as well as a list of stack names whose intensity we want to analyze:"
   ]
  },
  {
   "cell_type": "code",
   "execution_count": null,
   "metadata": {},
   "outputs": [],
   "source": [
    "signal_name = ['synth_ch2.h5','synth_ch3.h5']"
   ]
  },
  {
   "cell_type": "markdown",
   "metadata": {},
   "source": [
    "Now we can create our segmentation object:"
   ]
  },
  {
   "cell_type": "code",
   "execution_count": null,
   "metadata": {},
   "outputs": [],
   "source": [
    "from dask.distributed import Client, LocalCluster\n",
    "\n",
    "cluster  = LocalCluster()\n",
    "\n",
    "cluster.scale(1)\n",
    "client = Client(cluster)"
   ]
  },
  {
   "cell_type": "code",
   "execution_count": null,
   "metadata": {},
   "outputs": [],
   "source": [
    "from morphodynamics.morpho_segmentation import InteractSeg\n",
    "myUI = InteractSeg(expdir=expdir, morpho_name=morpho_name, signal_name=signal_name,\n",
    "             resultdir=result_dir, createUI=False)"
   ]
  },
  {
   "cell_type": "markdown",
   "metadata": {},
   "source": [
    "It is important to know that the ```myUI``` instance of ```InteracSeg``` contains itself the main objects used for the analysis, Parameters, Results and Data as parameters, so there is no need to create them separately.\n",
    "\n",
    "We can now load the data by *initializing* the experiment:"
   ]
  },
  {
   "cell_type": "code",
   "execution_count": null,
   "metadata": {},
   "outputs": [],
   "source": [
    "myUI.initialize()"
   ]
  },
  {
   "cell_type": "code",
   "execution_count": null,
   "metadata": {},
   "outputs": [],
   "source": [
    "myUI.client = client"
   ]
  },
  {
   "cell_type": "markdown",
   "metadata": {},
   "source": [
    "And we can also explicity start Dask and check its status (that's not absolutely necessary, as Dask starts by default when starting the segmentation):"
   ]
  },
  {
   "cell_type": "markdown",
   "metadata": {},
   "source": [
    "Now we can adjust the parameters for the segmentation (```seg_algo```) and windowing (```widht``` and ```depth```)"
   ]
  },
  {
   "cell_type": "code",
   "execution_count": null,
   "metadata": {},
   "outputs": [],
   "source": [
    "#myUI.initialize_dask()\n",
    "#myUI.client.scheduler_info()"
   ]
  },
  {
   "cell_type": "code",
   "execution_count": null,
   "metadata": {},
   "outputs": [],
   "source": [
    "myUI.param.width = 5\n",
    "myUI.param.depth = 5\n",
    "myUI.param.lambda_ = 10\n",
    "myUI.param.seg_algo = 'ilastik'"
   ]
  },
  {
   "cell_type": "markdown",
   "metadata": {},
   "source": [
    "Finally we can run the analysis:"
   ]
  },
  {
   "cell_type": "code",
   "execution_count": null,
   "metadata": {},
   "outputs": [],
   "source": [
    "myUI.run_segmentation()"
   ]
  },
  {
   "cell_type": "markdown",
   "metadata": {},
   "source": [
    "And save the output:"
   ]
  },
  {
   "cell_type": "code",
   "execution_count": null,
   "metadata": {},
   "outputs": [],
   "source": [
    "myUI.export_data()"
   ]
  },
  {
   "cell_type": "code",
   "execution_count": null,
   "metadata": {},
   "outputs": [],
   "source": []
  }
 ],
 "metadata": {
  "kernelspec": {
   "display_name": "Python 3",
   "language": "python",
   "name": "python3"
  },
  "language_info": {
   "codemirror_mode": {
    "name": "ipython",
    "version": 3
   },
   "file_extension": ".py",
   "mimetype": "text/x-python",
   "name": "python",
   "nbconvert_exporter": "python",
   "pygments_lexer": "ipython3",
   "version": "3.8.4"
  },
  "toc": {
   "base_numbering": 1,
   "nav_menu": {},
   "number_sections": false,
   "sideBar": true,
   "skip_h1_title": false,
   "title_cell": "Table of Contents",
   "title_sidebar": "Contents",
   "toc_cell": false,
   "toc_position": {},
   "toc_section_display": true,
   "toc_window_display": false
  },
  "varInspector": {
   "cols": {
    "lenName": 16,
    "lenType": 16,
    "lenVar": 40
   },
   "kernels_config": {
    "python": {
     "delete_cmd_postfix": "",
     "delete_cmd_prefix": "del ",
     "library": "var_list.py",
     "varRefreshCmd": "print(var_dic_list())"
    },
    "r": {
     "delete_cmd_postfix": ") ",
     "delete_cmd_prefix": "rm(",
     "library": "var_list.r",
     "varRefreshCmd": "cat(var_dic_list()) "
    }
   },
   "types_to_exclude": [
    "module",
    "function",
    "builtin_function_or_method",
    "instance",
    "_Feature"
   ],
   "window_display": false
  }
 },
 "nbformat": 4,
 "nbformat_minor": 4
}
