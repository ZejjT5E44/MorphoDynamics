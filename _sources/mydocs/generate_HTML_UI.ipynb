{
 "cells": [
  {
   "cell_type": "markdown",
   "metadata": {},
   "source": [
    "# Generate UI interface as HTML for docs"
   ]
  },
  {
   "cell_type": "code",
   "execution_count": 1,
   "metadata": {},
   "outputs": [
    {
     "data": {
      "text/html": [
       "<style>div.jupyter-widgets.widget-label {display: none;}</style>"
      ],
      "text/plain": [
       "<IPython.core.display.HTML object>"
      ]
     },
     "metadata": {},
     "output_type": "display_data"
    },
    {
     "data": {
      "text/html": [
       "<style>.container { width:100% !important; }</style>"
      ],
      "text/plain": [
       "<IPython.core.display.HTML object>"
      ]
     },
     "metadata": {},
     "output_type": "display_data"
    }
   ],
   "source": [
    "#%load_ext autoreload\n",
    "#%autoreload 2\n",
    "\n",
    "from morphodynamics.morpho_segmentation import InteractSeg\n",
    "from ipywidgets.embed import embed_minimal_html"
   ]
  },
  {
   "cell_type": "code",
   "execution_count": 2,
   "metadata": {},
   "outputs": [],
   "source": [
    "self = InteractSeg(None)\n",
    "self.main_folder.go_to_folder('../synthetic/data/Results_ilastik')\n",
    "self.saving_folder.go_to_folder('../synthetic/data/Results_ilastik')\n",
    "self.load_data(None)\n",
    "self.ui()"
   ]
  },
  {
   "cell_type": "code",
   "execution_count": 3,
   "metadata": {},
   "outputs": [
    {
     "data": {
      "application/vnd.jupyter.widget-view+json": {
       "model_id": "329ccbd327b14bd2b06b1b8b5466a535",
       "version_major": 2,
       "version_minor": 0
      },
      "text/plain": [
       "Output(outputs=({'output_type': 'display_data', 'data': {'text/plain': 'VBox(children=(HBox(children=(VBox(chi…"
      ]
     },
     "metadata": {},
     "output_type": "display_data"
    }
   ],
   "source": [
    "self.interface"
   ]
  },
  {
   "cell_type": "code",
   "execution_count": 9,
   "metadata": {},
   "outputs": [
    {
     "data": {
      "text/plain": [
       "'import pickle\\nimport skimage.io\\n\\nt = 0\\n\\nname = os.path.join(\\n    self.param.resultdir,\\n    \"segmented\",\\n    \"window_k_\" + str(t) + \".pkl\",\\n)\\nwindow = pickle.load(open(name, \"rb\"))\\n\\nname = os.path.join(\\n    self.param.resultdir,\\n    \"segmented\",\\n    \"window_image_k_\" + str(t) + \".tif\",\\n)\\n\\nb0 = skimage.io.imread(name)\\nb0 = b0.astype(float)\\nb0[b0 == 0] = np.nan\\n\\n#self.fig.data[1].z = b0'"
      ]
     },
     "execution_count": 9,
     "metadata": {},
     "output_type": "execute_result"
    }
   ],
   "source": [
    "import os\n",
    "from morphodynamics.dataset import H5\n",
    "\n",
    "expdir = '../synthetic/data'\n",
    "signal_name = ['synth_ch2.h5','synth_ch3.h5']\n",
    "morpho_name = 'synth_ch1.h5'\n",
    "\n",
    "data = H5(\n",
    "    expdir=expdir,\n",
    "    signal_name=signal_name,\n",
    "    morpho_name=morpho_name,\n",
    "    max_time=40\n",
    ") \n",
    "\n",
    "image = data.load_frame_morpho(0)\n",
    "self.fig.data[0].z = image\n",
    "\n",
    "'''import pickle\n",
    "import skimage.io\n",
    "\n",
    "t = 0\n",
    "\n",
    "name = os.path.join(\n",
    "    self.param.resultdir,\n",
    "    \"segmented\",\n",
    "    \"window_k_\" + str(t) + \".pkl\",\n",
    ")\n",
    "window = pickle.load(open(name, \"rb\"))\n",
    "\n",
    "name = os.path.join(\n",
    "    self.param.resultdir,\n",
    "    \"segmented\",\n",
    "    \"window_image_k_\" + str(t) + \".tif\",\n",
    ")\n",
    "\n",
    "b0 = skimage.io.imread(name)\n",
    "b0 = b0.astype(float)\n",
    "b0[b0 == 0] = np.nan\n",
    "\n",
    "#self.fig.data[1].z = b0'''"
   ]
  },
  {
   "cell_type": "code",
   "execution_count": 11,
   "metadata": {},
   "outputs": [],
   "source": [
    "embed_minimal_html('images/UI_html.html', views=[self.interface], title='Widgets export')"
   ]
  },
  {
   "cell_type": "code",
   "execution_count": null,
   "metadata": {},
   "outputs": [],
   "source": []
  }
 ],
 "metadata": {
  "kernelspec": {
   "display_name": "Python 3",
   "language": "python",
   "name": "python3"
  },
  "language_info": {
   "codemirror_mode": {
    "name": "ipython",
    "version": 3
   },
   "file_extension": ".py",
   "mimetype": "text/x-python",
   "name": "python",
   "nbconvert_exporter": "python",
   "pygments_lexer": "ipython3",
   "version": "3.8.4"
  },
  "toc": {
   "base_numbering": 1,
   "nav_menu": {},
   "number_sections": false,
   "sideBar": true,
   "skip_h1_title": false,
   "title_cell": "Table of Contents",
   "title_sidebar": "Contents",
   "toc_cell": false,
   "toc_position": {},
   "toc_section_display": true,
   "toc_window_display": false
  },
  "varInspector": {
   "cols": {
    "lenName": 16,
    "lenType": 16,
    "lenVar": 40
   },
   "kernels_config": {
    "python": {
     "delete_cmd_postfix": "",
     "delete_cmd_prefix": "del ",
     "library": "var_list.py",
     "varRefreshCmd": "print(var_dic_list())"
    },
    "r": {
     "delete_cmd_postfix": ") ",
     "delete_cmd_prefix": "rm(",
     "library": "var_list.r",
     "varRefreshCmd": "cat(var_dic_list()) "
    }
   },
   "types_to_exclude": [
    "module",
    "function",
    "builtin_function_or_method",
    "instance",
    "_Feature"
   ],
   "window_display": false
  }
 },
 "nbformat": 4,
 "nbformat_minor": 4
}
