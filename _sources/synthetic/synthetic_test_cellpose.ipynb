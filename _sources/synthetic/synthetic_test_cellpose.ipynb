{
 "cells": [
  {
   "cell_type": "markdown",
   "metadata": {},
   "source": [
    "# Test segmentation and windowing with cellpose segmentation"
   ]
  },
  {
   "cell_type": "code",
   "execution_count": null,
   "metadata": {},
   "outputs": [],
   "source": [
    "#%load_ext autoreload\n",
    "#%autoreload 2"
   ]
  },
  {
   "cell_type": "code",
   "execution_count": null,
   "metadata": {},
   "outputs": [],
   "source": [
    "import math\n",
    "import numpy as np\n",
    "import matplotlib.pyplot as plt\n",
    "import skimage.io\n",
    "from skimage.measure import find_contours\n",
    "import dask\n",
    "import os\n",
    "import pickle\n",
    "from pathlib import Path\n",
    "\n",
    "from morphodynamics.dataset import H5\n",
    "from morphodynamics.parameters import Param\n",
    "\n",
    "from morphodynamics.morpho_segmentation import InteractSeg\n",
    "\n",
    "%matplotlib widget"
   ]
  },
  {
   "cell_type": "markdown",
   "metadata": {},
   "source": [
    "## With user interface used as an API"
   ]
  },
  {
   "cell_type": "code",
   "execution_count": null,
   "metadata": {},
   "outputs": [],
   "source": [
    "resultdir = Path('../synthetic/data/Results_cellpose')\n",
    "if not resultdir.is_dir():\n",
    "    resultdir.mkdir()"
   ]
  },
  {
   "cell_type": "code",
   "execution_count": null,
   "metadata": {},
   "outputs": [],
   "source": [
    "# set paths and create morpho_segmentation object\n",
    "expdir = Path('../synthetic/data')\n",
    "signal_name = ['synth_ch2.h5', 'synth_ch3.h5']\n",
    "morpho_name = 'synth_ch1.h5'\n",
    "\n",
    "# 1. Either pass arguments at object creation\n",
    "#self = InteractSeg(expdir=expdir, resultdir=resultdir, morpho_name=morpho_name,\n",
    "#                   signal_name=signal_name, createUI=False, cores=1)\n",
    "\n",
    "# 2. Or update them with setters\n",
    "self = InteractSeg(createUI=False)\n",
    "self.set_expdir(expdir)\n",
    "self.set_resultdir(resultdir)\n",
    "self.set_morpho_name(morpho_name)\n",
    "self.set_signal_name(signal_name)"
   ]
  },
  {
   "cell_type": "code",
   "execution_count": null,
   "metadata": {},
   "outputs": [],
   "source": [
    "self.param.seg_algo = \"cellpose\"\n",
    "self.param.width = 5\n",
    "self.param.depth = 5\n",
    "self.param.diameter = 10\n",
    "\n",
    "# adjust max time for speed\n",
    "#self.param.max_time = 4\n",
    "\n",
    "self.initialize()"
   ]
  },
  {
   "cell_type": "code",
   "execution_count": null,
   "metadata": {},
   "outputs": [],
   "source": [
    "# manually start dask to adjust it\n",
    "# self.param.distributed = 'local'#or 'cluster'\n",
    "# self.initialize_dask()\n",
    "# self.client.cluster"
   ]
  },
  {
   "cell_type": "code",
   "execution_count": null,
   "metadata": {},
   "outputs": [],
   "source": [
    "self.run_segmentation()"
   ]
  },
  {
   "cell_type": "code",
   "execution_count": null,
   "metadata": {},
   "outputs": [],
   "source": [
    "self.export_data(b=None)"
   ]
  },
  {
   "cell_type": "code",
   "execution_count": null,
   "metadata": {},
   "outputs": [],
   "source": []
  }
 ],
 "metadata": {
  "kernelspec": {
   "display_name": "Python 3",
   "language": "python",
   "name": "python3"
  },
  "language_info": {
   "codemirror_mode": {
    "name": "ipython",
    "version": 3
   },
   "file_extension": ".py",
   "mimetype": "text/x-python",
   "name": "python",
   "nbconvert_exporter": "python",
   "pygments_lexer": "ipython3",
   "version": "3.8.4"
  },
  "toc": {
   "base_numbering": 1,
   "nav_menu": {},
   "number_sections": false,
   "sideBar": true,
   "skip_h1_title": false,
   "title_cell": "Table of Contents",
   "title_sidebar": "Contents",
   "toc_cell": false,
   "toc_position": {},
   "toc_section_display": true,
   "toc_window_display": true
  },
  "varInspector": {
   "cols": {
    "lenName": 16,
    "lenType": 16,
    "lenVar": 40
   },
   "kernels_config": {
    "python": {
     "delete_cmd_postfix": "",
     "delete_cmd_prefix": "del ",
     "library": "var_list.py",
     "varRefreshCmd": "print(var_dic_list())"
    },
    "r": {
     "delete_cmd_postfix": ") ",
     "delete_cmd_prefix": "rm(",
     "library": "var_list.r",
     "varRefreshCmd": "cat(var_dic_list()) "
    }
   },
   "types_to_exclude": [
    "module",
    "function",
    "builtin_function_or_method",
    "instance",
    "_Feature"
   ],
   "window_display": false
  }
 },
 "nbformat": 4,
 "nbformat_minor": 4
}
