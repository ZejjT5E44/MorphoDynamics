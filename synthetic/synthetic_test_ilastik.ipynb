{
 "cells": [
  {
   "attachments": {},
   "cell_type": "markdown",
   "metadata": {},
   "source": [
    "# Test segmentation and windowing with ilastik segmentation"
   ]
  },
  {
   "cell_type": "code",
   "execution_count": null,
   "metadata": {},
   "outputs": [],
   "source": [
    "#%load_ext autoreload\n",
    "#%autoreload 2"
   ]
  },
  {
   "cell_type": "code",
   "execution_count": null,
   "metadata": {},
   "outputs": [],
   "source": [
    "from pathlib import Path\n",
    "from morphodynamics.morpho_segmentation import InteractSeg\n",
    "%matplotlib widget"
   ]
  },
  {
   "attachments": {},
   "cell_type": "markdown",
   "metadata": {},
   "source": [
    "## With user interface used as an API"
   ]
  },
  {
   "cell_type": "code",
   "execution_count": null,
   "metadata": {},
   "outputs": [],
   "source": [
    "# create directory if missing\n",
    "analysis_folder = Path('../synthetic/data/Results_ilastik')\n",
    "if not analysis_folder.is_dir():\n",
    "    analysis_folder.mkdir()"
   ]
  },
  {
   "cell_type": "code",
   "execution_count": null,
   "metadata": {},
   "outputs": [],
   "source": [
    "# set paths and create morpho_segmentation object\n",
    "expdir = Path('../synthetic/data')\n",
    "signal_name = ['synth_ch2.h5', 'synth_ch3.h5']\n",
    "morpho_name = 'synth_ch1.h5'\n",
    "\n",
    "\n",
    "# create interface\n",
    "interactseg = InteractSeg(\n",
    "    data_folder='../synthetic/data',\n",
    "    analysis_folder=analysis_folder,\n",
    "    seg_folder='../synthetic/data/ilastiksegmentation',\n",
    "    seg_channel_name='synth_ch1.h5',\n",
    "    signal_channel_names=['synth_ch2.h5', 'synth_ch3.h5']\n",
    ")\n",
    "interactseg.interface"
   ]
  },
  {
   "cell_type": "code",
   "execution_count": null,
   "metadata": {},
   "outputs": [],
   "source": [
    "# set paramteres and initialize\n",
    "self.param.seg_algo = \"ilastik\"\n",
    "\n",
    "self.param.width = 5\n",
    "self.param.depth = 5\n",
    "self.param.lambda_ = 10\n",
    "\n",
    "self.initialize()"
   ]
  },
  {
   "cell_type": "code",
   "execution_count": null,
   "metadata": {},
   "outputs": [],
   "source": [
    "# manually start dask to adjust it\n",
    "# self.initialize_dask()\n",
    "# self.client.cluster"
   ]
  },
  {
   "cell_type": "code",
   "execution_count": null,
   "metadata": {},
   "outputs": [],
   "source": [
    "self.run_segmentation()"
   ]
  },
  {
   "cell_type": "code",
   "execution_count": null,
   "metadata": {},
   "outputs": [],
   "source": [
    "self.export_data()"
   ]
  },
  {
   "cell_type": "code",
   "execution_count": null,
   "metadata": {},
   "outputs": [],
   "source": []
  }
 ],
 "metadata": {
  "kernelspec": {
   "display_name": "Python 3 (ipykernel)",
   "language": "python",
   "name": "python3"
  },
  "language_info": {
   "codemirror_mode": {
    "name": "ipython",
    "version": 3
   },
   "file_extension": ".py",
   "mimetype": "text/x-python",
   "name": "python",
   "nbconvert_exporter": "python",
   "pygments_lexer": "ipython3",
   "version": "3.9.7"
  },
  "toc": {
   "base_numbering": 1,
   "nav_menu": {},
   "number_sections": false,
   "sideBar": true,
   "skip_h1_title": false,
   "title_cell": "Table of Contents",
   "title_sidebar": "Contents",
   "toc_cell": false,
   "toc_position": {},
   "toc_section_display": true,
   "toc_window_display": true
  },
  "varInspector": {
   "cols": {
    "lenName": 16,
    "lenType": 16,
    "lenVar": 40
   },
   "kernels_config": {
    "python": {
     "delete_cmd_postfix": "",
     "delete_cmd_prefix": "del ",
     "library": "var_list.py",
     "varRefreshCmd": "print(var_dic_list())"
    },
    "r": {
     "delete_cmd_postfix": ") ",
     "delete_cmd_prefix": "rm(",
     "library": "var_list.r",
     "varRefreshCmd": "cat(var_dic_list()) "
    }
   },
   "types_to_exclude": [
    "module",
    "function",
    "builtin_function_or_method",
    "instance",
    "_Feature"
   ],
   "window_display": false
  },
  "widgets": {
   "application/vnd.jupyter.widget-state+json": {
    "state": {
     "017f41ae02bc433ea5cf488e301fa0b8": {
      "model_module": "@jupyter-widgets/controls",
      "model_module_version": "1.5.0",
      "model_name": "VBoxModel",
      "state": {
       "children": [
        "IPY_MODEL_480ee01312c442fab97ffa2b1df9cd9e",
        "IPY_MODEL_6b1c371e01af41d5ab15b0c1cacf90e4"
       ],
       "layout": "IPY_MODEL_8adde31587d44da9a48941a21182942e"
      }
     },
     "025373eeb2744fc2b6e8185b924a76c5": {
      "model_module": "@jupyter-widgets/base",
      "model_module_version": "1.2.0",
      "model_name": "LayoutModel",
      "state": {}
     },
     "03162c4f043e47cbab186f941171afa1": {
      "model_module": "@jupyter-widgets/controls",
      "model_module_version": "1.5.0",
      "model_name": "BoundedIntTextModel",
      "state": {
       "description": "Max time",
       "layout": "IPY_MODEL_323c47e3f47d4341b060e371c1915ba2",
       "max": 40,
       "style": "IPY_MODEL_4daac0fbd2a34f6b876dc5608a27cdac",
       "value": 40
      }
     },
     "045100bc07414e429f97f1344d462bac": {
      "model_module": "@jupyter-widgets/base",
      "model_module_version": "1.2.0",
      "model_name": "LayoutModel",
      "state": {}
     },
     "0473251d67eb431b8e750cccb6ad0c41": {
      "model_module": "@jupyter-widgets/base",
      "model_module_version": "1.2.0",
      "model_name": "LayoutModel",
      "state": {}
     },
     "04c2065d7a8a4d88a099dc5f0bbfd23a": {
      "model_module": "@jupyter-widgets/controls",
      "model_module_version": "1.5.0",
      "model_name": "HTMLModel",
      "state": {
       "layout": "IPY_MODEL_32d4706400114448a601061eec9f7a0f",
       "style": "IPY_MODEL_7ce0968d43f849a994a0f3d52b7b41d4",
       "value": "<br><font size=\"5\"><b>4. Computing type<b></font>                            <br><font size=\"3\"><b>If you run the software on a local computer, you can specify                                how many cores you want to use. If you run on a SLURM cluster, you can                                     specifiy how many parallel jobs you want to use.<b></font>"
      }
     },
     "050bb2345dbd4347bf67fbb5289b706e": {
      "model_module": "@jupyter-widgets/base",
      "model_module_version": "1.2.0",
      "model_name": "LayoutModel",
      "state": {}
     },
     "08bafbc442114631b1b22bff0e47e7b8": {
      "model_module": "@jupyter-widgets/base",
      "model_module_version": "1.2.0",
      "model_name": "LayoutModel",
      "state": {}
     },
     "0ae946ae93484a10b86fc0edecf183ab": {
      "model_module": "@jupyter-widgets/controls",
      "model_module_version": "1.5.0",
      "model_name": "SliderStyleModel",
      "state": {
       "description_width": ""
      }
     },
     "0aec4e5020fa4ac6940dfebc360e031d": {
      "model_module": "@jupyter-widgets/base",
      "model_module_version": "1.2.0",
      "model_name": "LayoutModel",
      "state": {}
     },
     "0b4e974797484b87a6c34c4f6d0ccbfd": {
      "model_module": "@jupyter-widgets/controls",
      "model_module_version": "1.5.0",
      "model_name": "DescriptionStyleModel",
      "state": {
       "description_width": ""
      }
     },
     "0c1787fb16a948369112881a07e94007": {
      "model_module": "@jupyter-widgets/controls",
      "model_module_version": "1.5.0",
      "model_name": "HBoxModel",
      "state": {
       "children": [
        "IPY_MODEL_374861e816bc435c9ae85ee19330ec79",
        "IPY_MODEL_52860709c3ac48268f0497ef98c08b84",
        "IPY_MODEL_6cad62b52c9b49489e278ab3ae259d14"
       ],
       "layout": "IPY_MODEL_42786c899f934897b7d81a97d5751073"
      }
     },
     "0d577943e1d64b78aa260d856b87fbe2": {
      "model_module": "@jupyter-widgets/controls",
      "model_module_version": "1.5.0",
      "model_name": "ButtonStyleModel",
      "state": {}
     },
     "0e769cced13f42159e6c96b94afafe04": {
      "model_module": "@jupyter-widgets/base",
      "model_module_version": "1.2.0",
      "model_name": "LayoutModel",
      "state": {}
     },
     "118d3b5772d04159be010ba4422191b3": {
      "model_module": "@jupyter-widgets/controls",
      "model_module_version": "1.5.0",
      "model_name": "ButtonStyleModel",
      "state": {
       "button_color": "lightgreen"
      }
     },
     "11fd646b05594424a1d054957bbc2dc6": {
      "model_module": "@jupyter-widgets/controls",
      "model_module_version": "1.5.0",
      "model_name": "VBoxModel",
      "state": {
       "children": [
        "IPY_MODEL_5fc6af5444644f7c9668ef2d7b0fd386",
        "IPY_MODEL_5f25dda78fb1410087bde48b5e68362f"
       ],
       "layout": "IPY_MODEL_050bb2345dbd4347bf67fbb5289b706e"
      }
     },
     "1799aa1338d24e0b87cb6e932a90f5d5": {
      "model_module": "@jupyter-widgets/base",
      "model_module_version": "1.2.0",
      "model_name": "LayoutModel",
      "state": {}
     },
     "181d276a263f4b90bf9e8e88efe072dc": {
      "model_module": "@jupyter-widgets/controls",
      "model_module_version": "1.5.0",
      "model_name": "ButtonModel",
      "state": {
       "description": "Refresh folder content",
       "layout": "IPY_MODEL_526b2b4bcd9147dda78c82615b6021f3",
       "style": "IPY_MODEL_9723d9f40dad4222a2a19e5a51f9f2b9"
      }
     },
     "18552777922e4239b9a011069daf106a": {
      "model_module": "jupyter-matplotlib",
      "model_module_version": "^0.10.2",
      "model_name": "MPLCanvasModel",
      "state": {
       "_cursor": "default",
       "_data_url": "data:image/png;base64,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",
       "_figure_label": "Figure 1",
       "_height": 500,
       "_image_mode": "diff",
       "_message": "x=8.2 y=24.6\n[0.0]",
       "_width": 500,
       "layout": "IPY_MODEL_898cb538f5d345f7aac7ae3fa54b563b",
       "toolbar": "IPY_MODEL_bcaee93ed24d4cd7b4539d82b986b95f",
       "toolbar_position": "left"
      }
     },
     "1e2c730cedab4ad9bacd23cd030a3b25": {
      "model_module": "@jupyter-widgets/controls",
      "model_module_version": "1.5.0",
      "model_name": "DescriptionStyleModel",
      "state": {
       "description_width": ""
      }
     },
     "1e5c42b8f86e431cbb31b5b120679a6a": {
      "model_module": "@jupyter-widgets/output",
      "model_module_version": "1.0.0",
      "model_name": "OutputModel",
      "state": {
       "layout": "IPY_MODEL_486ec860d24b4f8cbd45a987cf5f2a12",
       "outputs": [
        {
         "data": {
          "application/vnd.jupyter.widget-view+json": {
           "model_id": "",
           "version_major": 2,
           "version_minor": 0
          },
          "text/plain": "VBox(children=(HTML(value='<br><font size=\"5\"><b>1. Are you running a new analysis or loading one?<b></font>')…"
         },
         "metadata": {},
         "output_type": "display_data"
        }
       ]
      }
     },
     "20195eaa75fa4b05b8a5dc453765096e": {
      "model_module": "@jupyter-widgets/base",
      "model_module_version": "1.2.0",
      "model_name": "LayoutModel",
      "state": {}
     },
     "2774c2e9f95c434e8e31963449a77fc8": {
      "model_module": "@jupyter-widgets/controls",
      "model_module_version": "1.5.0",
      "model_name": "DescriptionStyleModel",
      "state": {
       "description_width": ""
      }
     },
     "27d31e1ac3564d9bb57f69c95cb29326": {
      "model_module": "@jupyter-widgets/base",
      "model_module_version": "1.2.0",
      "model_name": "LayoutModel",
      "state": {
       "width": "300px"
      }
     },
     "28595c10c199416da684a559854ed78f": {
      "model_module": "@jupyter-widgets/controls",
      "model_module_version": "1.5.0",
      "model_name": "HBoxModel",
      "state": {
       "children": [
        "IPY_MODEL_017f41ae02bc433ea5cf488e301fa0b8",
        "IPY_MODEL_7245c579f7114487a67a6dbfa419be22",
        "IPY_MODEL_a817f38a14ad4a4cb2c3d1ad5eb19fa8"
       ],
       "layout": "IPY_MODEL_d497b62d73544206bd2eafd44e7002e1"
      }
     },
     "28a8b556d63245258478aa66f3e42dee": {
      "model_module": "@jupyter-widgets/controls",
      "model_module_version": "1.5.0",
      "model_name": "HTMLModel",
      "state": {
       "layout": "IPY_MODEL_dd1e917baffb44669f9eb52e2b4dfcd7",
       "style": "IPY_MODEL_690d2b3e656e4ca7b0ca50790cc75a87",
       "value": "<br><font size=\"5\"><b>3. Choose channels<b></font>                        <br><font size=\"3\"><b>Select the channel that you want to use for (a) Segmentation                             and the channel(s) from which you want to extract (b) Signal.                                <br>Even if you use a pre-computed segmentation, specify a segmentation channel.                                    <p style=\"color:lightgreen;\">Once you are done, hit the Initialize button.</p><b></font>"
      }
     },
     "28fed721feb6412a996a0bd14b6f356f": {
      "model_module": "@jupyter-widgets/controls",
      "model_module_version": "1.5.0",
      "model_name": "HTMLModel",
      "state": {
       "layout": "IPY_MODEL_b158db0f1902476dac01c068e8f44a7b",
       "style": "IPY_MODEL_0b4e974797484b87a6c34c4f6d0ccbfd",
       "value": "<font size=\"3\"><b>(b) Results folder<b></font>"
      }
     },
     "297c5aed15944b33800fa57f2b9171a2": {
      "model_module": "@jupyter-widgets/base",
      "model_module_version": "1.2.0",
      "model_name": "LayoutModel",
      "state": {}
     },
     "29c25eee8f5f4a06b2e2ea299f947118": {
      "model_module": "@jupyter-widgets/controls",
      "model_module_version": "1.5.0",
      "model_name": "VBoxModel",
      "state": {
       "children": [
        "IPY_MODEL_acdf51f7c5ea46e289552858787da235",
        "IPY_MODEL_28595c10c199416da684a559854ed78f",
        "IPY_MODEL_28a8b556d63245258478aa66f3e42dee",
        "IPY_MODEL_4e7cd96aaff74c34896aa7ed6ce10fa0",
        "IPY_MODEL_9906bc4d97cf42a682d9d262f096139d",
        "IPY_MODEL_04c2065d7a8a4d88a099dc5f0bbfd23a",
        "IPY_MODEL_5ec81b8f1a8748de8ccf73b86976c31a",
        "IPY_MODEL_ccea87a7743a44b3920fc77a5bdb1803"
       ],
       "layout": "IPY_MODEL_d4cabceeb8b249febfbf3a96e3509863"
      }
     },
     "2a31df6da3bf47f981e80514842181d8": {
      "model_module": "@jupyter-widgets/output",
      "model_module_version": "1.0.0",
      "model_name": "OutputModel",
      "state": {
       "layout": "IPY_MODEL_4a4242a278404bf0976729de5d6aec0c"
      }
     },
     "2a92a3fd7ef6426cb511789fbf3f3bdc": {
      "model_module": "@jupyter-widgets/base",
      "model_module_version": "1.2.0",
      "model_name": "LayoutModel",
      "state": {
       "min_width": "500px"
      }
     },
     "2af3edcdbe4d48549008f2eb33e32aa1": {
      "model_module": "@jupyter-widgets/base",
      "model_module_version": "1.2.0",
      "model_name": "LayoutModel",
      "state": {}
     },
     "2e807b2dcd5341aeb3d25aaa4c4a4a65": {
      "model_module": "@jupyter-widgets/controls",
      "model_module_version": "1.5.0",
      "model_name": "VBoxModel",
      "state": {
       "children": [
        "IPY_MODEL_03162c4f043e47cbab186f941171afa1",
        "IPY_MODEL_7401a28ceee14f2d896fa2c9c892f37a",
        "IPY_MODEL_f8c8d34cf3824db3b92fadf0fb942e4a",
        "IPY_MODEL_d72a5e7982344f7fb14a55675edba8bd",
        "IPY_MODEL_54e57c918b164f27a52d6d9d52f4832a",
        "IPY_MODEL_722b1fd3395d4072a7aa150a8308ffb8",
        "IPY_MODEL_320c35da019146c59096acb1d87f8d96",
        "IPY_MODEL_6b286737bca642f9843f2bb68dafaa75",
        "IPY_MODEL_caa2d1f244cb4b3c931abdbf9b2b42d4",
        "IPY_MODEL_4d537f021b3b43e9821619cb8d051f91"
       ],
       "layout": "IPY_MODEL_818afd9d4bc047d48f92d9c5ca8107f0"
      }
     },
     "320c35da019146c59096acb1d87f8d96": {
      "model_module": "@jupyter-widgets/controls",
      "model_module_version": "1.5.0",
      "model_name": "FloatTextModel",
      "state": {
       "description": "Location Y",
       "layout": "IPY_MODEL_20195eaa75fa4b05b8a5dc453765096e",
       "step": null,
       "style": "IPY_MODEL_72b3c29fda404396b6bde8f54467e0aa",
       "value": 100
      }
     },
     "323c47e3f47d4341b060e371c1915ba2": {
      "model_module": "@jupyter-widgets/base",
      "model_module_version": "1.2.0",
      "model_name": "LayoutModel",
      "state": {}
     },
     "32d4706400114448a601061eec9f7a0f": {
      "model_module": "@jupyter-widgets/base",
      "model_module_version": "1.2.0",
      "model_name": "LayoutModel",
      "state": {}
     },
     "32ffda9cd102491196d5dc258de57e68": {
      "model_module": "@jupyter-widgets/base",
      "model_module_version": "1.2.0",
      "model_name": "LayoutModel",
      "state": {}
     },
     "35254cdf34d1420aaae1237510b02ead": {
      "model_module": "@jupyter-widgets/controls",
      "model_module_version": "1.5.0",
      "model_name": "SliderStyleModel",
      "state": {
       "description_width": ""
      }
     },
     "374861e816bc435c9ae85ee19330ec79": {
      "model_module": "@jupyter-widgets/controls",
      "model_module_version": "1.5.0",
      "model_name": "IntTextModel",
      "state": {
       "description": "Minimum",
       "layout": "IPY_MODEL_848a7ed8a3274b1d9cd4d2626cee5334",
       "step": 1,
       "style": "IPY_MODEL_b808963114294a9b9bfe962ad3f2efc7"
      }
     },
     "39d55b5ea977473ebdabc8dd4b3ab218": {
      "model_module": "@jupyter-widgets/base",
      "model_module_version": "1.2.0",
      "model_name": "LayoutModel",
      "state": {}
     },
     "3bbeb11838f149309d3ea7e74af21e03": {
      "model_module": "@jupyter-widgets/controls",
      "model_module_version": "1.5.0",
      "model_name": "ButtonStyleModel",
      "state": {}
     },
     "3d1941d6fcf042fdbd83f9e0510d1f26": {
      "model_module": "@jupyter-widgets/controls",
      "model_module_version": "1.5.0",
      "model_name": "CheckboxModel",
      "state": {
       "description": "Show windows",
       "disabled": false,
       "layout": "IPY_MODEL_297c5aed15944b33800fa57f2b9171a2",
       "style": "IPY_MODEL_d8f62aa028c1429ba0daa7c680ca1d59",
       "value": true
      }
     },
     "42685c336aa44f7ca363b58ed20256c9": {
      "model_module": "@jupyter-widgets/controls",
      "model_module_version": "1.5.0",
      "model_name": "RadioButtonsModel",
      "state": {
       "_options_labels": [
        "New analysis",
        "Load analysis"
       ],
       "description": "Usage type:",
       "index": 0,
       "layout": "IPY_MODEL_5e0f9408659043febf09d9778023f1cb",
       "style": "IPY_MODEL_8531f8220a954d53a00bbb1cd0627e94"
      }
     },
     "42786c899f934897b7d81a97d5751073": {
      "model_module": "@jupyter-widgets/base",
      "model_module_version": "1.2.0",
      "model_name": "LayoutModel",
      "state": {}
     },
     "476156fb80e94169909b6f2c34206d49": {
      "model_module": "@jupyter-widgets/base",
      "model_module_version": "1.2.0",
      "model_name": "LayoutModel",
      "state": {}
     },
     "47900778d51e4a9a9a22f3239851f31b": {
      "model_module": "@jupyter-widgets/base",
      "model_module_version": "1.2.0",
      "model_name": "LayoutModel",
      "state": {}
     },
     "480ee01312c442fab97ffa2b1df9cd9e": {
      "model_module": "@jupyter-widgets/controls",
      "model_module_version": "1.5.0",
      "model_name": "HTMLModel",
      "state": {
       "layout": "IPY_MODEL_025373eeb2744fc2b6e8185b924a76c5",
       "style": "IPY_MODEL_1e2c730cedab4ad9bacd23cd030a3b25",
       "value": "<font size=\"3\"><b>(a) Data folder<b></font>"
      }
     },
     "486ec860d24b4f8cbd45a987cf5f2a12": {
      "model_module": "@jupyter-widgets/base",
      "model_module_version": "1.2.0",
      "model_name": "LayoutModel",
      "state": {}
     },
     "489fabd894734589a0c813e1e19f53ea": {
      "model_module": "@jupyter-widgets/controls",
      "model_module_version": "1.5.0",
      "model_name": "DescriptionStyleModel",
      "state": {
       "description_width": ""
      }
     },
     "4a4242a278404bf0976729de5d6aec0c": {
      "model_module": "@jupyter-widgets/base",
      "model_module_version": "1.2.0",
      "model_name": "LayoutModel",
      "state": {}
     },
     "4cae6ce1365a4448a66177118f29fb6f": {
      "model_module": "@jupyter-widgets/controls",
      "model_module_version": "1.5.0",
      "model_name": "DescriptionStyleModel",
      "state": {
       "description_width": ""
      }
     },
     "4d537f021b3b43e9821619cb8d051f91": {
      "model_module": "@jupyter-widgets/controls",
      "model_module_version": "1.5.0",
      "model_name": "ButtonModel",
      "state": {
       "description": "Click to segment",
       "layout": "IPY_MODEL_2af3edcdbe4d48549008f2eb33e32aa1",
       "style": "IPY_MODEL_0d577943e1d64b78aa260d856b87fbe2"
      }
     },
     "4da26f9fcbf54b6a9bc49e753ba577a5": {
      "model_module": "@jupyter-widgets/base",
      "model_module_version": "1.2.0",
      "model_name": "LayoutModel",
      "state": {}
     },
     "4daac0fbd2a34f6b876dc5608a27cdac": {
      "model_module": "@jupyter-widgets/controls",
      "model_module_version": "1.5.0",
      "model_name": "DescriptionStyleModel",
      "state": {
       "description_width": ""
      }
     },
     "4e7cd96aaff74c34896aa7ed6ce10fa0": {
      "model_module": "@jupyter-widgets/controls",
      "model_module_version": "1.5.0",
      "model_name": "HBoxModel",
      "state": {
       "children": [
        "IPY_MODEL_11fd646b05594424a1d054957bbc2dc6",
        "IPY_MODEL_884f23beff5040f1a02adb20feacb283"
       ],
       "layout": "IPY_MODEL_905dd7f95f3247cc8639270632cfba03"
      }
     },
     "4f007ed9c62041fd85828eb375d5c805": {
      "model_module": "@jupyter-widgets/base",
      "model_module_version": "1.2.0",
      "model_name": "LayoutModel",
      "state": {}
     },
     "4f7a22a6d11340ca9ec0c049cbd70349": {
      "model_module": "@jupyter-widgets/base",
      "model_module_version": "1.2.0",
      "model_name": "LayoutModel",
      "state": {}
     },
     "4fa1e44533224fb4bf3b099e96798f95": {
      "model_module": "@jupyter-widgets/base",
      "model_module_version": "1.2.0",
      "model_name": "LayoutModel",
      "state": {}
     },
     "526b2b4bcd9147dda78c82615b6021f3": {
      "model_module": "@jupyter-widgets/base",
      "model_module_version": "1.2.0",
      "model_name": "LayoutModel",
      "state": {
       "width": "300px"
      }
     },
     "52860709c3ac48268f0497ef98c08b84": {
      "model_module": "@jupyter-widgets/controls",
      "model_module_version": "1.5.0",
      "model_name": "IntTextModel",
      "state": {
       "description": "Maximum",
       "layout": "IPY_MODEL_848a7ed8a3274b1d9cd4d2626cee5334",
       "step": 1,
       "style": "IPY_MODEL_b8eaf2e783e54f9bb0cd232d94c54431"
      }
     },
     "532ebd7bb2b9477abe6b10405a37f9c6": {
      "model_module": "@jupyter-widgets/base",
      "model_module_version": "1.2.0",
      "model_name": "LayoutModel",
      "state": {
       "width": "300px"
      }
     },
     "54be297e9ec444c7b17cca290c3d392f": {
      "model_module": "@jupyter-widgets/controls",
      "model_module_version": "1.5.0",
      "model_name": "DescriptionStyleModel",
      "state": {
       "description_width": ""
      }
     },
     "54e57c918b164f27a52d6d9d52f4832a": {
      "model_module": "@jupyter-widgets/controls",
      "model_module_version": "1.5.0",
      "model_name": "VBoxModel",
      "state": {
       "layout": "IPY_MODEL_47900778d51e4a9a9a22f3239851f31b"
      }
     },
     "555c3712376f4537867e7a3adfef2e1e": {
      "model_module": "@jupyter-widgets/controls",
      "model_module_version": "1.5.0",
      "model_name": "DescriptionStyleModel",
      "state": {
       "description_width": "initial"
      }
     },
     "57fb15b9307f4b5aaeefcbdf4284fb44": {
      "model_module": "@jupyter-widgets/base",
      "model_module_version": "1.2.0",
      "model_name": "LayoutModel",
      "state": {}
     },
     "582d9303bbec4bda898c18d284f12b50": {
      "model_module": "@jupyter-widgets/controls",
      "model_module_version": "1.5.0",
      "model_name": "IntRangeSliderModel",
      "state": {
       "_model_name": "IntRangeSliderModel",
       "_view_name": "IntRangeSliderView",
       "description": "Intensity range",
       "layout": "IPY_MODEL_f289232f69344d4ca14cf611b562b16c",
       "max": 255,
       "style": "IPY_MODEL_35254cdf34d1420aaae1237510b02ead",
       "value": [
        0,
        255
       ]
      }
     },
     "5ab881457bc242fdaf042c150bbdf85a": {
      "model_module": "@jupyter-widgets/controls",
      "model_module_version": "1.5.0",
      "model_name": "ButtonModel",
      "state": {
       "description": "Load parameters",
       "layout": "IPY_MODEL_ebb012e45eef48c9a2833bfe0476aabb",
       "style": "IPY_MODEL_649d8451e48445a78d0bafe174e16c67"
      }
     },
     "5b8eba5d15dc49f8863879f38132d659": {
      "model_module": "@jupyter-widgets/controls",
      "model_module_version": "1.5.0",
      "model_name": "DescriptionStyleModel",
      "state": {
       "description_width": ""
      }
     },
     "5e0f9408659043febf09d9778023f1cb": {
      "model_module": "@jupyter-widgets/base",
      "model_module_version": "1.2.0",
      "model_name": "LayoutModel",
      "state": {}
     },
     "5ec81b8f1a8748de8ccf73b86976c31a": {
      "model_module": "@jupyter-widgets/controls",
      "model_module_version": "1.5.0",
      "model_name": "SelectModel",
      "state": {
       "_options_labels": [
        "local",
        "cluster"
       ],
       "index": 0,
       "layout": "IPY_MODEL_4fa1e44533224fb4bf3b099e96798f95",
       "style": "IPY_MODEL_5b8eba5d15dc49f8863879f38132d659"
      }
     },
     "5f25dda78fb1410087bde48b5e68362f": {
      "model_module": "@jupyter-widgets/controls",
      "model_module_version": "1.5.0",
      "model_name": "SelectModel",
      "state": {
       "_options_labels": [
        "Ilastiksegmentation",
        "Result_test",
        "Results_cellpose",
        "Results_ilastik",
        "Results_step",
        "Parameters.yml",
        "Results.pkl",
        "synth.ilp",
        "synth_ch1.h5",
        "synth_ch2.h5",
        "synth_ch3.h5"
       ],
       "index": 8,
       "layout": "IPY_MODEL_39d55b5ea977473ebdabc8dd4b3ab218",
       "style": "IPY_MODEL_fbbd1be7ec55462aa02540e8126f9e25"
      }
     },
     "5fc6af5444644f7c9668ef2d7b0fd386": {
      "model_module": "@jupyter-widgets/controls",
      "model_module_version": "1.5.0",
      "model_name": "HTMLModel",
      "state": {
       "layout": "IPY_MODEL_dc35c9ad63cb45eeacd0188b2e7bb7f4",
       "style": "IPY_MODEL_621bed79ad99420d97f50d9b1336c07e",
       "value": "<font size=\"3\"><b>(a) Segmentation<b></font>"
      }
     },
     "61d8368794bb483caa966d079ccba998": {
      "model_module": "@jupyter-widgets/base",
      "model_module_version": "1.2.0",
      "model_name": "LayoutModel",
      "state": {}
     },
     "621bed79ad99420d97f50d9b1336c07e": {
      "model_module": "@jupyter-widgets/controls",
      "model_module_version": "1.5.0",
      "model_name": "DescriptionStyleModel",
      "state": {
       "description_width": ""
      }
     },
     "637f9b4975d44d349be60d57216c2221": {
      "model_module": "@jupyter-widgets/base",
      "model_module_version": "1.2.0",
      "model_name": "LayoutModel",
      "state": {}
     },
     "6386a91e9f6a4d748b4e015adc578a8b": {
      "model_module": "@jupyter-widgets/controls",
      "model_module_version": "1.5.0",
      "model_name": "FloatTextModel",
      "state": {
       "description": "Diameter:",
       "layout": "IPY_MODEL_f5e93d01c1ef4ca39660b37a818ae83a",
       "step": null,
       "style": "IPY_MODEL_98136662bc7343fe9e297237dc84034a",
       "value": 100
      }
     },
     "63f2475e766848ecafdc09dac4490a5a": {
      "model_module": "@jupyter-widgets/controls",
      "model_module_version": "1.5.0",
      "model_name": "HBoxModel",
      "state": {
       "children": [
        "IPY_MODEL_ab5653e3272d4e449152131fc1a2e622",
        "IPY_MODEL_ab03d991c133447eb87320e1c952a12a"
       ],
       "layout": "IPY_MODEL_4f007ed9c62041fd85828eb375d5c805"
      }
     },
     "649d8451e48445a78d0bafe174e16c67": {
      "model_module": "@jupyter-widgets/controls",
      "model_module_version": "1.5.0",
      "model_name": "ButtonStyleModel",
      "state": {}
     },
     "664d79564733412cab51f6b78cac8147": {
      "model_module": "@jupyter-widgets/base",
      "model_module_version": "1.2.0",
      "model_name": "LayoutModel",
      "state": {}
     },
     "66c95a54d4514caaaee32039a97558f6": {
      "model_module": "@jupyter-widgets/controls",
      "model_module_version": "1.5.0",
      "model_name": "VBoxModel",
      "state": {
       "children": [
        "IPY_MODEL_b3ae93307402402d891ec00185e5ed8b",
        "IPY_MODEL_858181328434471aaf9dfbcce1997a6b"
       ],
       "layout": "IPY_MODEL_ade70552fefc4fc9bb7e34bc12bbe0c8"
      }
     },
     "686311757a824b308199eaf1e5caeeaf": {
      "model_module": "@jupyter-widgets/controls",
      "model_module_version": "1.5.0",
      "model_name": "SelectModel",
      "state": {
       "_options_labels": [
        "synth_ch1.h5",
        "synth_ch2.h5",
        "synth_ch3.h5"
       ],
       "index": 0,
       "layout": "IPY_MODEL_57fb15b9307f4b5aaeefcbdf4284fb44",
       "style": "IPY_MODEL_d3ef9acbf9d94a16b5faaa55670a3be5"
      }
     },
     "690d2b3e656e4ca7b0ca50790cc75a87": {
      "model_module": "@jupyter-widgets/controls",
      "model_module_version": "1.5.0",
      "model_name": "DescriptionStyleModel",
      "state": {
       "description_width": ""
      }
     },
     "6b1c371e01af41d5ab15b0c1cacf90e4": {
      "model_module": "@jupyter-widgets/controls",
      "model_module_version": "1.5.0",
      "model_name": "SelectMultipleModel",
      "state": {
       "_options_labels": [
        "..",
        "Ilastiksegmentation",
        "Result_test",
        "Results_cellpose",
        "Results_ilastik",
        "Results_step",
        ".DS_Store",
        "Parameters.yml",
        "Results.pkl",
        "synth.ilp",
        "synth_ch1.h5",
        "synth_ch2.h5",
        "synth_ch3.h5"
       ],
       "index": [],
       "layout": "IPY_MODEL_e31d4d6055a245e084b4c66c377142c1",
       "rows": 10,
       "style": "IPY_MODEL_baeb918af5aa4f1b95176c68dcd6176d"
      }
     },
     "6b286737bca642f9843f2bb68dafaa75": {
      "model_module": "@jupyter-widgets/controls",
      "model_module_version": "1.5.0",
      "model_name": "IntTextModel",
      "state": {
       "description": "Window depth",
       "layout": "IPY_MODEL_8f24722c68684d759723518079019b9a",
       "step": 1,
       "style": "IPY_MODEL_555c3712376f4537867e7a3adfef2e1e",
       "value": 10
      }
     },
     "6b690de06c7e4e7fadbbf59881e285f4": {
      "model_module": "@jupyter-widgets/controls",
      "model_module_version": "1.5.0",
      "model_name": "HTMLModel",
      "state": {
       "layout": "IPY_MODEL_1799aa1338d24e0b87cb6e932a90f5d5",
       "style": "IPY_MODEL_cc895a9dbfa4417ea13d9777151bc118",
       "value": "<font size=\"3\"><b>(c) Segmentation folder<b></font>"
      }
     },
     "6cad62b52c9b49489e278ab3ae259d14": {
      "model_module": "@jupyter-widgets/controls",
      "model_module_version": "1.5.0",
      "model_name": "ButtonModel",
      "state": {
       "description": "Adapt",
       "layout": "IPY_MODEL_848a7ed8a3274b1d9cd4d2626cee5334",
       "style": "IPY_MODEL_966f4620aa32433291c4c2ed09be3ad7"
      }
     },
     "6ffd6319eb344174bf4c976023b0aba3": {
      "model_module": "@jupyter-widgets/controls",
      "model_module_version": "1.5.0",
      "model_name": "DescriptionStyleModel",
      "state": {
       "description_width": ""
      }
     },
     "7094a7584b55467e88d084c4845ab43c": {
      "model_module": "@jupyter-widgets/base",
      "model_module_version": "1.2.0",
      "model_name": "LayoutModel",
      "state": {}
     },
     "70fb411496954791bd615480b1c9d3e3": {
      "model_module": "@jupyter-widgets/base",
      "model_module_version": "1.2.0",
      "model_name": "LayoutModel",
      "state": {}
     },
     "722b1fd3395d4072a7aa150a8308ffb8": {
      "model_module": "@jupyter-widgets/controls",
      "model_module_version": "1.5.0",
      "model_name": "FloatTextModel",
      "state": {
       "description": "Location X",
       "layout": "IPY_MODEL_fc9153806fb34657a44cca46a1022e20",
       "step": null,
       "style": "IPY_MODEL_489fabd894734589a0c813e1e19f53ea",
       "value": 100
      }
     },
     "7245c579f7114487a67a6dbfa419be22": {
      "model_module": "@jupyter-widgets/controls",
      "model_module_version": "1.5.0",
      "model_name": "VBoxModel",
      "state": {
       "children": [
        "IPY_MODEL_28fed721feb6412a996a0bd14b6f356f",
        "IPY_MODEL_8234964a436f4c829307341e4da7809a"
       ],
       "layout": "IPY_MODEL_7094a7584b55467e88d084c4845ab43c"
      }
     },
     "72b3c29fda404396b6bde8f54467e0aa": {
      "model_module": "@jupyter-widgets/controls",
      "model_module_version": "1.5.0",
      "model_name": "DescriptionStyleModel",
      "state": {
       "description_width": ""
      }
     },
     "73a9ebf8bc4f4bcfad2aaaca8358c3c4": {
      "model_module": "@jupyter-widgets/controls",
      "model_module_version": "1.5.0",
      "model_name": "IntSliderModel",
      "state": {
       "description": "Time",
       "layout": "IPY_MODEL_045100bc07414e429f97f1344d462bac",
       "max": 39,
       "style": "IPY_MODEL_0ae946ae93484a10b86fc0edecf183ab",
       "value": 30
      }
     },
     "7401a28ceee14f2d896fa2c9c892f37a": {
      "model_module": "@jupyter-widgets/controls",
      "model_module_version": "1.5.0",
      "model_name": "IntTextModel",
      "state": {
       "description": "Step",
       "layout": "IPY_MODEL_70fb411496954791bd615480b1c9d3e3",
       "step": 1,
       "style": "IPY_MODEL_97329c4c36454175beee4b6010c1a1f2",
       "value": 1
      }
     },
     "74c75c7f93524b88a7374c447873bf6c": {
      "model_module": "@jupyter-widgets/output",
      "model_module_version": "1.0.0",
      "model_name": "OutputModel",
      "state": {
       "layout": "IPY_MODEL_f3625cbb4afd45cc8af03f130f01e1c6"
      }
     },
     "78deb9a12c414436b25c07c6c7ca1cb6": {
      "model_module": "@jupyter-widgets/controls",
      "model_module_version": "1.5.0",
      "model_name": "ButtonModel",
      "state": {
       "description": "Refresh folder content",
       "layout": "IPY_MODEL_532ebd7bb2b9477abe6b10405a37f9c6",
       "style": "IPY_MODEL_3bbeb11838f149309d3ea7e74af21e03"
      }
     },
     "7988cec872b843f09b8a58bd3578901d": {
      "model_module": "@jupyter-widgets/controls",
      "model_module_version": "1.5.0",
      "model_name": "HTMLModel",
      "state": {
       "layout": "IPY_MODEL_61d8368794bb483caa966d079ccba998",
       "style": "IPY_MODEL_6ffd6319eb344174bf4c976023b0aba3",
       "value": "<br><font size=\"5\"><b>1. Are you running a new analysis or loading one?<b></font>"
      }
     },
     "7c3cb21b9c7b4fd28f298043b4b14079": {
      "model_module": "@jupyter-widgets/base",
      "model_module_version": "1.2.0",
      "model_name": "LayoutModel",
      "state": {}
     },
     "7ce0968d43f849a994a0f3d52b7b41d4": {
      "model_module": "@jupyter-widgets/controls",
      "model_module_version": "1.5.0",
      "model_name": "DescriptionStyleModel",
      "state": {
       "description_width": ""
      }
     },
     "7f490449bc5f4bc7b766f980c9c38aa8": {
      "model_module": "@jupyter-widgets/base",
      "model_module_version": "1.2.0",
      "model_name": "LayoutModel",
      "state": {
       "width": "300px"
      }
     },
     "818afd9d4bc047d48f92d9c5ca8107f0": {
      "model_module": "@jupyter-widgets/base",
      "model_module_version": "1.2.0",
      "model_name": "LayoutModel",
      "state": {}
     },
     "81adf0973ffe490b82b97e5b5f2c42f5": {
      "model_module": "@jupyter-widgets/output",
      "model_module_version": "1.0.0",
      "model_name": "OutputModel",
      "state": {
       "layout": "IPY_MODEL_e47e301c14f94ad68d7605774e8fbc49",
       "outputs": [
        {
         "data": {
          "application/vnd.jupyter.widget-view+json": {
           "model_id": "",
           "version_major": 2,
           "version_minor": 0
          },
          "text/html": "\n            <div style=\"display: inline-block;\">\n                <div class=\"jupyter-widgets widget-label\" style=\"text-align: center;\">\n                    Figure\n                </div>\n                <img src='data:image/png;base64,iVBORw0KGgoAAAANSUhEUgAAAfQAAAH0CAYAAADL1t+KAAAAOXRFWHRTb2Z0d2FyZQBNYXRwbG90bGliIHZlcnNpb24zLjUuMCwgaHR0cHM6Ly9tYXRwbG90bGliLm9yZy8/fFQqAAAACXBIWXMAAA9hAAAPYQGoP6dpAAAva0lEQVR4nO3dfXRU9Z3H8c+QR0jJYAyEIBDQY5MNUBaCkEA1IhhAwbpbGzhiDK5r5Q+UuHpsUtdT2AfBXW1rFXR1KWlVHsQQtQWRsCZgTUCBgMcGFBQl1UQeJBPAEgJ8949d5jjmgSSQyfDj/Trne473N7/7y/dOJn64kzu5HjMzAQCAi1q3rm4AAACcPwIdAAAHEOgAADiAQAcAwAEEOgAADiDQAQBwAIEOAIADCHQAABxAoAMA4AACHQAABxDoAAA4gEAHAMABBDoAAA4g0AEAcACBDgCAAwh0AAAcQKADAOAAAh0AAAcQ6AAAOIBABwDAAQQ6AAAOINABAHAAgQ4AgAMIdAAAHECgAwDgAAIdAAAHEOgAADiAQAcAwAEEOgAADiDQAQBwAIEOAIADCHQAABxAoAMA4AACHQAABxDoAAA4gEAHAMABBDoAAA4g0AEAcACBDgCAAwh0IMR5PJ42VVlZmWbNmqVBgwZ1dcsAuoDHzKyrmwDQss2bNwds/+u//qtKS0v19ttvB4ynpqbq4MGDqq+v14gRI4LZIoAQEN7VDQBoXXp6esB279691a1btybjkhQbGxustgCEGN5yBxzS3FvuHo9Hc+bM0dKlS5WcnKzu3btr1KhR2rx5s8xM//mf/6nBgwfre9/7nm644Qbt3bu3ybobNmzQhAkTFBsbqx49emjcuHH6n//5nyAdFYC2INCBS8Af//hH/fd//7cWLlyo5cuX6+jRo7r55pv14IMP6t1339Uzzzyj559/XlVVVfrxj3+sb/8m7qWXXlJWVpZiY2P1u9/9Tq+88ori4uI0adKkJqHu8Xh0/fXXB/noAEi85Q5cEhoaGrR+/XrFxMRI+r/gvfXWW1VaWqrt27fL4/FIkg4ePKi8vDx9+OGHGjZsmL755hvNnTtXU6dOVXFxsX+9m266SSNHjtTPf/5zbdmyxT8eFhamsLCw4B4cAEmcoQOXhPHjx/vDXJL+5m/+RpI0ZcoUf5h/e/zzzz+XJJWXl+vrr79Wbm6uTp065a8zZ85o8uTJev/993X8+HH//qdOneKteKCLcIYOXALi4uICtiMjI1sdP3HihCTpq6++kiTddtttLa799ddfB/xjAUDXINABtCg+Pl6S9PTTTzd7Vb0kJSQkBLMlAC0g0AG0aNy4cerVq5eqqqo0Z86crm4HQCsIdAAt+t73vqenn35aubm5+vrrr3XbbbepT58+OnjwoHbu3KmDBw/q2Wef9c8PDw9XZmYmv0cHugCBDqBVd9xxhwYOHKj/+I//0L333qujR4+qT58++tu//VvNmjUrYO7p06d1+vTprmkUuMTxp18BAHAAH1sDAMABBDoAAA4g0AEAcECnB/qRI0eUk5Mjr9crr9ernJwc1dXVtbrPrFmzmtzr+bufgW1oaNB9992n+Ph4xcTE6JZbbtFf/vKXTjwSAABCV6cH+u23364dO3Zo3bp1WrdunXbs2KGcnJxz7jd58mTV1NT4a+3atQGP5+Xlqbi4WCtWrNCf/vQnHTt2TFOnTuUKWwDAJalTr3LftWuXUlNTtXnzZo0ZM0aStHnzZmVkZGj37t1KTk5udr9Zs2aprq5Or732WrOP+3w+9e7dWy+++KKmT58uSfryyy81YMAArV27VpMmTeqU4wEAIFR16ufQKyoq5PV6/WEuSenp6fJ6vSovL28x0CWprKxMffr0Ua9evZSZmal///d/V58+fSRJ27ZtU2Njo7Kysvzz+/Xrp6FDh6q8vLzFQG9oaFBDQ4N/+8yZM/r66691+eWXB9ygAgDgPjPT0aNH1a9fP3XrdvFfUtapgV5bW+sP4W/r06ePamtrW9xvypQp+slPfqKkpCTt27dPjz76qG644QZt27ZNUVFRqq2tVWRkpC677LKA/RISElpdd8GCBZo/f37HDwgA4Jzq6mr179+/q9s4bx36J8m8efOaXLT23dq6daskNXvma2atnhFPnz5dN998s4YOHapp06bpzTff1Mcff6w1a9a02te51i0oKJDP5/PX/v3723jEAABX9ezZs6tbuCA6dIY+Z84czZgxo9U5gwYN0gcffOC//eK3HTx4sF13aEpMTFRSUpL27NkjSerbt69OnjypI0eOBJylHzhwQGPHjm1xnaioKEVFRbX56wIA3OfMr1ytE1VVVZkk27Jli39s8+bNJsl2797d5nUOHTpkUVFR9rvf/c7MzOrq6iwiIsJWrlzpn/Pll19at27dbN26dW1e1+fzmSSKoijqEi6fz9fm3AhlnRroZmaTJ0+2H/zgB1ZRUWEVFRU2bNgwmzp1asCc5ORkW716tZmZHT161B588EErLy+3ffv2WWlpqWVkZNgVV1xh9fX1/n1mz55t/fv3tw0bNtj27dvthhtusOHDh9upU6fa3BuBTlEURRHobXT48GGbOXOm9ezZ03r27GkzZ860I0eOBDYh2dKlS83M7JtvvrGsrCzr3bu3RURE2MCBAy03N9f2798fsM9f//pXmzNnjsXFxVn37t1t6tSpTeacC4FOURRFuRLol/Td1urr6+X1eru6DQBAF/L5fIqNje3qNs7bxf/BOwAAQKADAOACAh0AAAcQ6AAAOIBABwDAAQQ6AAAOINABAHAAgQ4AgAMIdAAAHECgAwDgAAIdAAAHEOgAADiAQAcAwAEEOgAADiDQAQBwAIEOAIADCHQAABxAoAMA4AACHQAABxDoAAA4gEAHAMABBDoAAA4g0AEAcACBDgCAAwh0AAAcQKADAOAAAh0AAAcQ6AAAOIBABwDAAQQ6AAAOINABAHAAgQ4AgAMIdAAAHECgAwDgAAIdAAAHEOgAADiAQAcAwAGdHuhHjhxRTk6OvF6vvF6vcnJyVFdX1+L8xsZG/exnP9OwYcMUExOjfv366c4779SXX34ZMO/666+Xx+MJqBkzZnTy0QAAEJo6PdBvv/127dixQ+vWrdO6deu0Y8cO5eTktDj/m2++0fbt2/Xoo49q+/btWr16tT7++GPdcsstTebec889qqmp8dd//dd/deahAAAQuqwTVVVVmSTbvHmzf6yiosIk2e7du9u8znvvvWeS7PPPP/ePZWZm2ty5c8+rP5/PZ5IoiqKoS7h8Pt95ZUmo6NQz9IqKCnm9Xo0ZM8Y/lp6eLq/Xq/Ly8jav4/P55PF41KtXr4Dxl19+WfHx8RoyZIgeeughHT16tNV1GhoaVF9fH1AAALggvDMXr62tVZ8+fZqM9+nTR7W1tW1a48SJE8rPz9ftt9+u2NhY//jMmTM1ePBg9e3bVx9++KEKCgq0c+dOlZSUtLjWggULNH/+/PYfCAAAIa5DZ+jz5s1rckHad2vr1q2SJI/H02R/M2t2/LsaGxs1Y8YMnTlzRosXLw547J577tHEiRM1dOhQzZgxQ6+++qo2bNig7du3t7heQUGBfD6fv6qrq9t55AAAhKYOnaHPmTPnnFeUDxo0SB988IG++uqrJo8dPHhQCQkJre7f2Nio7Oxs7du3T2+//XbA2XlzRo4cqYiICO3Zs0cjR45sdk5UVJSioqJaXQcAgItRhwI9Pj5e8fHx55yXkZEhn8+n9957T6NHj5YkbdmyRT6fT2PHjm1xv7NhvmfPHpWWluryyy8/59f685//rMbGRiUmJrb9QAAAcITHzKwzv8CUKVP05Zdf+j9S9tOf/lRJSUn6wx/+4J+TkpKiBQsW6O/+7u906tQp/fjHP9b27dv1xz/+MeBMPi4uTpGRkfrkk0/08ssv66abblJ8fLyqqqr04IMPqnv37nr//fcVFhbWpt7q6+vl9Xov7AEDAC4qPp/vnO8CXxQ6+zL6w4cP28yZM61nz57Ws2dPmzlzph05ciRgjiRbunSpmZnt27evxY8WlJaWmpnZ/v377brrrrO4uDiLjIy0q666yu6//347fPhwu3rjY2sURVGUKx9b6/Qz9FDGGToAwJUzdP6WOwAADiDQAQBwAIEOAIADCHQAABxAoAMA4AACHQAABxDoAAA4gEAHAMABBDoAAA4g0AEAcACBDgCAAwh0AAAcQKADAOAAAh0AAAcQ6AAAOIBABwDAAQQ6AAAOINABAHAAgQ4AgAMIdAAAHECgAwDgAAIdAAAHEOgAADiAQAcAwAEEOgAADiDQAQBwAIEOAIADCHQAABxAoAMA4AACHQAABxDoAAA4gEAHAMABBDoAAA4g0AEAcACBDgCAAwh0AAAcQKADAOCAoAX64sWLNXjwYEVHRystLU3vvPNOq/M3btyotLQ0RUdH68orr9Rzzz3XZE5RUZFSU1MVFRWl1NRUFRcXd1b7AACENguCFStWWEREhL3wwgtWVVVlc+fOtZiYGPv888+bnf/pp59ajx49bO7cuVZVVWUvvPCCRURE2KuvvuqfU15ebmFhYfbYY4/Zrl277LHHHrPw8HDbvHlzm/vy+XwmiaIoirqEy+fznXfOhYKgBPro0aNt9uzZAWMpKSmWn5/f7PyHH37YUlJSAsbuvfdeS09P929nZ2fb5MmTA+ZMmjTJZsyY0ea+CHSKoijKlUDv9LfcT548qW3btikrKytgPCsrS+Xl5c3uU1FR0WT+pEmTtHXrVjU2NrY6p6U1JamhoUH19fUBBQCACzo90A8dOqTTp08rISEhYDwhIUG1tbXN7lNbW9vs/FOnTunQoUOtzmlpTUlasGCBvF6vvwYMGNCRQwIAIOQE7aI4j8cTsG1mTcbONf+74+1ds6CgQD6fz1/V1dVt7h8AgFAW3tlfID4+XmFhYU3OnA8cONDkDPusvn37Njs/PDxcl19+eatzWlpTkqKiohQVFdWRwwAAIKR1+hl6ZGSk0tLSVFJSEjBeUlKisWPHNrtPRkZGk/nr16/XqFGjFBER0eqcltYEAMBpwbjy7uzH1pYsWWJVVVWWl5dnMTEx9tlnn5mZWX5+vuXk5Pjnn/3Y2gMPPGBVVVW2ZMmSJh9be/fddy0sLMwWLlxou3btsoULF/KxNYqiKKrd5cpV7kEJdDOzRYsWWVJSkkVGRtrIkSNt48aN/sdyc3MtMzMzYH5ZWZmNGDHCIiMjbdCgQfbss882WXPVqlWWnJxsERERlpKSYkVFRe3qiUCnKIqiXAl0j9n/X212Caqvr5fX6+3qNgAAXcjn8yk2Nrar2zhv/C13AAAcQKADAOAAAh0AAAcQ6AAAOIBABwDAAQQ6AAAOINABAHAAgQ4AgAMIdAAAHECgAwDgAAIdAAAHEOgAADiAQAcAwAEEOgAADiDQAQBwAIEOAIADCHQAABxAoAMA4AACHQAABxDoAAA4gEAHAMABBDoAAA4g0AEAcACBDgCAAwh0AAAcQKADAOAAAh0AAAcQ6AAAOIBABwDAAQQ6AAAOINABAHAAgQ4AgAMIdAAAHECgAwDgAAIdAAAHEOgAADiAQAcAwAFBC/TFixdr8ODBio6OVlpamt55550W565evVo33nijevfurdjYWGVkZOitt94KmFNYWCiPx9OkTpw40dmHAgBAyAlKoK9cuVJ5eXl65JFHVFlZqWuvvVZTpkzR/v37m52/adMm3XjjjVq7dq22bdum8ePHa9q0aaqsrAyYFxsbq5qamoCKjo4OxiEBABBaLAhGjx5ts2fPDhhLSUmx/Pz8Nq+Rmppq8+fP928vXbrUvF7vefXl8/lMEkVRFHUJl8/nO68sCRWdfoZ+8uRJbdu2TVlZWQHjWVlZKi8vb9MaZ86c0dGjRxUXFxcwfuzYMSUlJal///6aOnVqkzP472poaFB9fX1AAQDggk4P9EOHDun06dNKSEgIGE9ISFBtbW2b1njyySd1/PhxZWdn+8dSUlJUWFioN954Q8uXL1d0dLTGjRunPXv2tLjOggUL5PV6/TVgwICOHRQAAKGms98C+OKLL0ySlZeXB4z/27/9myUnJ59z/2XLllmPHj2spKSk1XmnT5+24cOH23333dfinBMnTpjP5/NXdXV1l7/VQ1EURXVtufKWe7g6WXx8vMLCwpqcjR84cKDJWft3rVy5UnfffbdWrVqliRMntjq3W7duuuaaa1o9Q4+KilJUVFTbmwcA4CLR6W+5R0ZGKi0tTSUlJQHjJSUlGjt2bIv7LV++XLNmzdKyZct08803n/PrmJl27NihxMTE8+4ZAICLTjDeBlixYoVFRETYkiVLrKqqyvLy8iwmJsY+++wzMzPLz8+3nJwc//xly5ZZeHi4LVq0yGpqavxVV1fnnzNv3jxbt26dffLJJ1ZZWWl33XWXhYeH25YtW9rcF1e5UxRFUa685R6UQDczW7RokSUlJVlkZKSNHDnSNm7c6H8sNzfXMjMz/duZmZnNPum5ubn+OXl5eTZw4ECLjIy03r17W1ZWVpPf058LgU5RFEW5EugeMzNdourr6+X1eru6DQBAF/L5fIqNje3qNs4bf8sdAAAHEOgAADiAQAcAwAEEOgAADiDQAQBwAIEOAIADCHQAABxAoAMA4AACHQAABxDoAAA4gEAHAMABBDoAAA4g0AEAcACBDgCAAwh0AAAcQKADAOAAAh0AAAcQ6AAAOIBABwDAAQQ6AAAOINABAHAAgQ4AgAMIdAAAHECgAwDgAAIdAAAHEOgAADiAQAcAwAEEOgAADiDQAQBwAIEOAIADCHQAABxAoAMA4AACHQAABxDoAAA4gEAHAMABBDoAAA4g0AEAcEDQAn3x4sUaPHiwoqOjlZaWpnfeeafFuWVlZfJ4PE1q9+7dAfOKioqUmpqqqKgopaamqri4uLMPAwCAkBSUQF+5cqXy8vL0yCOPqLKyUtdee62mTJmi/fv3t7rfRx99pJqaGn9dffXV/scqKio0ffp05eTkaOfOncrJyVF2dra2bNnS2YcDAEDosSAYPXq0zZ49O2AsJSXF8vPzm51fWlpqkuzIkSMtrpmdnW2TJ08OGJs0aZLNmDGjzX35fD6TRFEURV3C5fP52pwboazTz9BPnjypbdu2KSsrK2A8KytL5eXlre47YsQIJSYmasKECSotLQ14rKKiosmakyZNOueaAAC4KLyzv8ChQ4d0+vRpJSQkBIwnJCSotra22X0SExP1/PPPKy0tTQ0NDXrxxRc1YcIElZWV6brrrpMk1dbWtmtNSWpoaFBDQ4N/u76+vqOHBQBASOn0QD/L4/EEbJtZk7GzkpOTlZyc7N/OyMhQdXW1nnjiCX+gt3dNSVqwYIHmz5/fkfYBAAhpnf6We3x8vMLCwpqcOR84cKDJGXZr0tPTtWfPHv923759271mQUGBfD6fv6qrq9v89QEACGWdHuiRkZFKS0tTSUlJwHhJSYnGjh3b5nUqKyuVmJjo387IyGiy5vr161tdMyoqSrGxsQEFAIATgnHl3YoVKywiIsKWLFliVVVVlpeXZzExMfbZZ5+ZmVl+fr7l5OT45//qV7+y4uJi+/jjj+3DDz+0/Px8k2RFRUX+Oe+++66FhYXZwoULbdeuXbZw4UILDw+3zZs3t7kvrnKnKIqiXLnKPSiBbma2aNEiS0pKssjISBs5cqRt3LjR/1hubq5lZmb6tx9//HG76qqrLDo62i677DL74Q9/aGvWrGmy5qpVqyw5OdkiIiIsJSUlIPDbgkCnKIqiXAl0j5mZLlH19fXyer1d3QYAoAv5fD4nfgXL33IHAMABBDoAAA4g0AEAcACBDgCAAwh0AAAcQKADAOAAAh0AAAcQ6AAAOIBABwDAAQQ6AAAOINABAHAAgQ4AgAMIdAAAHECgAwDgAAIdAAAHEOgAADiAQAcAwAEEOgAADiDQAQBwAIEOAIADCHQAABxAoAMA4AACHQAABxDoAAA4gEAHAMABBDoAAA4g0AEAcACBDgCAAwh0AAAcQKADAOAAAh0AAAcQ6AAAOIBABwDAAQQ6AAAOINABAHAAgQ4AgAMIdAAAHBC0QF+8eLEGDx6s6OhopaWl6Z133mlx7qxZs+TxeJrUkCFD/HMKCwubnXPixIlgHA4AACElKIG+cuVK5eXl6ZFHHlFlZaWuvfZaTZkyRfv37292/lNPPaWamhp/VVdXKy4uTj/5yU8C5sXGxgbMq6mpUXR0dDAOCQCA0GJBMHr0aJs9e3bAWEpKiuXn57dp/+LiYvN4PPbZZ5/5x5YuXWper/e8+vL5fCaJoiiKuoTL5/OdV5aEik4/Qz958qS2bdumrKysgPGsrCyVl5e3aY0lS5Zo4sSJSkpKChg/duyYkpKS1L9/f02dOlWVlZUXrG8AAC4m4Z39BQ4dOqTTp08rISEhYDwhIUG1tbXn3L+mpkZvvvmmli1bFjCekpKiwsJCDRs2TPX19Xrqqac0btw47dy5U1dffXWzazU0NKihocG/XV9f34EjAgAg9ATtojiPxxOwbWZNxppTWFioXr166dZbbw0YT09P1x133KHhw4fr2muv1SuvvKLvf//7evrpp1tca8GCBfJ6vf4aMGBAh44FAIBQ0+mBHh8fr7CwsCZn4wcOHGhy1v5dZqbf/va3ysnJUWRkZKtzu3XrpmuuuUZ79uxpcU5BQYF8Pp+/qqur234gAACEsE4P9MjISKWlpamkpCRgvKSkRGPHjm11340bN2rv3r26++67z/l1zEw7duxQYmJii3OioqIUGxsbUAAAOCEYV96tWLHCIiIibMmSJVZVVWV5eXkWExPjv2o9Pz/fcnJymux3xx132JgxY5pdc968ebZu3Tr75JNPrLKy0u666y4LDw+3LVu2tLkvrnKnKIqiXLnKvdMvipOk6dOn6/Dhw/qXf/kX1dTUaOjQoVq7dq3/qvWampomn0n3+XwqKirSU0891eyadXV1+ulPf6ra2lp5vV6NGDFCmzZt0ujRozv9eAAACDUeM7OubqKr1NfXy+v1dnUbAIAu5PP5nPgVLH/LHQAABxDoAAA4gEAHAMABBDoAAA4g0AEAcACBDgCAAwh0AAAcQKADAOAAAh0AAAcQ6AAAOIBABwDAAQQ6AAAOINABAHAAgQ4AgAMIdAAAHECgAwDgAAIdAAAHEOgAADiAQAcAwAEEOgAADiDQAQBwAIEOAIADCHQAABxAoAMA4AACHQAABxDoAAA4gEAHAMABBDoAAA4g0AEAcACBDgCAAwh0AAAcQKADAOAAAh0AAAcQ6AAAOIBABwDAAQQ6AAAOINABAHBAUAJ906ZNmjZtmvr16yePx6PXXnvtnPts3LhRaWlpio6O1pVXXqnnnnuuyZyioiKlpqYqKipKqampKi4u7oTuAQAIfUEJ9OPHj2v48OF65pln2jR/3759uummm3TttdeqsrJSP//5z3X//ferqKjIP6eiokLTp09XTk6Odu7cqZycHGVnZ2vLli2ddRgAAIQuCzJJVlxc3Oqchx9+2FJSUgLG7r33XktPT/dvZ2dn2+TJkwPmTJo0yWbMmNHmXnw+n0miKIqiLuHy+Xxtzo1QFpK/Q6+oqFBWVlbA2KRJk7R161Y1Nja2Oqe8vDxofQIAECrCu7qB5tTW1iohISFgLCEhQadOndKhQ4eUmJjY4pza2toW121oaFBDQ4N/u76+/sI2DgBAFwnJM3RJ8ng8Adtm1mS8uTnfHfu2BQsWyOv1+mvAgAEXsGMAALpOSAZ63759m5xpHzhwQOHh4br88stbnfPds/ZvKygokM/n81d1dfWFbx4AgC4QkoGekZGhkpKSgLH169dr1KhRioiIaHXO2LFjW1w3KipKsbGxAQUAgBOCceXd0aNHrbKy0iorK02S/fKXv7TKykr7/PPPzcwsPz/fcnJy/PM//fRT69Gjhz3wwANWVVVlS5YssYiICHv11Vf9c959910LCwuzhQsX2q5du2zhwoUWHh5umzdvbnNfXOVOURRFuXKVe1ACvbS0tNknMTc318zMcnNzLTMzM2CfsrIyGzFihEVGRtqgQYPs2WefbbLuqlWrLDk52SIiIiwlJcWKiora1ReBTlEURbkS6B6z/7/a7BJUX18vr9fb1W0AALqQz+dz4lewIfk7dAAA0D4EOgAADiDQAQBwAIEOAIADCHQAABxAoAMA4AACHQAABxDoAAA4gEAHAMABBDoAAA4g0AEAcACBDgCAAwh0AAAcQKADAOAAAh0AAAcQ6AAAOIBABwDAAQQ6AAAOINABAHAAgQ4AgAMIdAAAHECgAwDgAAIdAAAHEOgAADiAQAcAwAEEOgAADiDQAQBwAIEOAIADCHQAABxAoAMA4AACHQAABxDoAAA4gEAHAMABBDoAAA4g0AEAcACBDgCAAwh0AAAcEJRA37Rpk6ZNm6Z+/frJ4/Hotddea3X+6tWrdeONN6p3796KjY1VRkaG3nrrrYA5hYWF8ng8TerEiROdeCQAAISmoAT68ePHNXz4cD3zzDNtmr9p0ybdeOONWrt2rbZt26bx48dr2rRpqqysDJgXGxurmpqagIqOju6MQwAAIKSFB+OLTJkyRVOmTGnz/F//+tcB24899phef/11/eEPf9CIESP84x6PR3379r1QbQIAcNG6KH6HfubMGR09elRxcXEB48eOHVNSUpL69++vqVOnNjmDBwDgUnFRBPqTTz6p48ePKzs72z+WkpKiwsJCvfHGG1q+fLmio6M1btw47dmzp8V1GhoaVF9fH1AAADjBgkySFRcXt3n+smXLrEePHlZSUtLqvNOnT9vw4cPtvvvua3HOL37xC5NEURRFUf7y+XxtzqRQFtJn6CtXrtTdd9+tV155RRMnTmx1brdu3XTNNde0eoZeUFAgn8/nr+rq6gvdMgAAXSIoF8V1xPLly/UP//APWr58uW6++eZzzjcz7dixQ8OGDWtxTlRUlKKioi5kmwAAhISgBPqxY8e0d+9e//a+ffu0Y8cOxcXFaeDAgSooKNAXX3yh3//+95L+L8zvvPNOPfXUU0pPT1dtba0kqXv37vJ6vZKk+fPnKz09XVdffbXq6+v1m9/8Rjt27NCiRYuCcUgAAISWYLyvX1pa2uzvLXJzc83MLDc31zIzM/3zMzMzW51vZpaXl2cDBw60yMhI6927t2VlZVl5eXm7+vL5fF3+uxuKoiiqa8uV36F7zMx0iaqvr/ef8QMALk0+n0+xsbFd3cZ5C+mL4gAAQNsQ6AAAOIBABwDAAQQ6AAAOINABAHAAgQ4AgAMIdAAAHECgAwDgAAIdAAAHEOgAADiAQAcAwAEEOgAADiDQAQBwAIEOAIADCHQAABxAoAMA4AACHQAABxDoAAA4gEAHAMABBDoAAA4g0AEAcACBDgCAAwh0AAAcQKADAOAAAh0AAAcQ6AAAOIBABwDAAQQ6AAAOINABAHAAgQ4AgAMIdAAAHECgAwDgAAIdAAAHEOgAADiAQAcAwAEEOgAADiDQAQBwQFACfdOmTZo2bZr69esnj8ej1157rdX5ZWVl8ng8TWr37t0B84qKipSamqqoqCilpqaquLi4E48CAIDQFZRAP378uIYPH65nnnmmXft99NFHqqmp8dfVV1/tf6yiokLTp09XTk6Odu7cqZycHGVnZ2vLli0Xun0AAEKex8wsqF/Q41FxcbFuvfXWFueUlZVp/PjxOnLkiHr16tXsnOnTp6u+vl5vvvmmf2zy5Mm67LLLtHz58jb1Ul9fL6/X2572AQCO8fl8io2N7eo2zltI/w59xIgRSkxM1IQJE1RaWhrwWEVFhbKysgLGJk2apPLy8mC2CABASAjv6gaak5iYqOeff15paWlqaGjQiy++qAkTJqisrEzXXXedJKm2tlYJCQkB+yUkJKi2trbFdRsaGtTQ0ODf9vl8nXMAAICLRpDfqO40IRnoycnJSk5O9m9nZGSourpaTzzxhD/Qpf97+/7bzKzJ2LctWLBA8+fPv/ANAwAuWocPH3bi168hGejNSU9P10svveTf7tu3b5Oz8QMHDjQ5a/+2goIC/dM//ZN/u66uTklJSdq/f/9F+c2sr6/XgAEDVF1dfVH+/of+uxb9d72L/Rgu9v59Pp8GDhyouLi4rm7lgrhoAr2yslKJiYn+7YyMDJWUlOiBBx7wj61fv15jx45tcY2oqChFRUU1Gfd6vRfli/Gs2NhY+u9C9N+1Lvb+pYv/GC72/rt1C+nLydosKIF+7Ngx7d2717+9b98+7dixQ3FxcRo4cKAKCgr0xRdf6Pe//70k6de//rUGDRqkIUOG6OTJk3rppZdUVFSkoqIi/xpz587Vddddp8cff1w/+tGP9Prrr2vDhg3605/+FIxDAgAgpAQl0Ldu3arx48f7t8++7Z2bm6vCwkLV1NRo//79/sdPnjyphx56SF988YW6d++uIUOGaM2aNbrpppv8c8aOHasVK1bon//5n/Xoo4/qqquu0sqVKzVmzJhgHBIAACElKIF+/fXXt3oVYWFhYcD2ww8/rIcffvic695222267bbbOtxXVFSUfvGLXzT7NvzFgP67Fv13rYu9f+niPwb6Dy1B/8MyAADgwnPjSgAAAC5xBDoAAA4g0AEAcACBDgCAA5wO9CNHjignJ0der1der1c5OTmqq6trdZ9Zs2Y1uQ97enp6wJyGhgbdd999io+PV0xMjG655Rb95S9/6fL+Gxsb9bOf/UzDhg1TTEyM+vXrpzvvvFNffvllwLzrr7++yTHOmDHjvPtdvHixBg8erOjoaKWlpemdd95pdf7GjRuVlpam6OhoXXnllXruueeazAn2Pe/bcwyrV6/WjTfeqN69eys2NlYZGRl66623AuYUFhY2ea49Ho9OnDjR5f2XlZU129vu3bsD5gXze9Ce/pv7WfV4PBoyZIh/TjCf/02bNmnatGnq16+fPB6PXnvttXPuE0o/A+3tP9Re/+3tPxRf/+fNHDZ58mQbOnSolZeXW3l5uQ0dOtSmTp3a6j65ubk2efJkq6mp8dfhw4cD5syePduuuOIKKykpse3bt9v48eNt+PDhdurUqS7tv66uziZOnGgrV6603bt3W0VFhY0ZM8bS0tIC5mVmZto999wTcIx1dXXn1euKFSssIiLCXnjhBauqqrK5c+daTEyMff75583O//TTT61Hjx42d+5cq6qqshdeeMEiIiLs1Vdf9c8pLy+3sLAwe+yxx2zXrl322GOPWXh4uG3evPm8er1QxzB37lx7/PHH7b333rOPP/7YCgoKLCIiwrZv3+6fs3TpUouNjQ14rmtqakKi/9LSUpNkH330UUBv334dB/N70N7+6+rqAvqurq62uLg4+8UvfuGfE8znf+3atfbII49YUVGRSbLi4uJW54faz0B7+w+11397+w+11/+F4GygV1VVmaSAJ76iosIk2e7du1vcLzc31370ox+1+HhdXZ1FRETYihUr/GNffPGFdevWzdatW3dBejfreP/f9d5775mkgP8pZmZm2ty5cy9Yr2Zmo0ePttmzZweMpaSkWH5+frPzH374YUtJSQkYu/feey09Pd2/nZ2dbZMnTw6YM2nSJJsxY8YF6jpQe4+hOampqTZ//nz/9tKlS83r9V6oFlvV3v7P/g/tyJEjLa4ZzO/B+T7/xcXF5vF47LPPPvOPBfP5/7a2BEoo/gyc1Zb+m9OVr/9va0+gh8rr/0Jw9i33iooKeb3egL8cl56eLq/Xe857ppeVlalPnz76/ve/r3vuuUcHDhzwP7Zt2zY1NjYG3Iu9X79+Gjp06AW9F/v59P9tPp9PHo9HvXr1Chh/+eWXFR8fryFDhuihhx7S0aNHO9zryZMntW3btib3p8/Kymqx15buZ79161Y1Nja2Oqcz7nnfkWP4rjNnzujo0aNNbvRw7NgxJSUlqX///po6daoqKysvWN9nnU//I0aMUGJioiZMmKDS0tKAx4L1PbgQz/+SJUs0ceJEJSUlBYwH4/nviFD7GThfXfn6Px+h8Pq/UJwN9NraWvXp06fJeJ8+fVq9Z/qUKVP08ssv6+2339aTTz6p999/XzfccIP/Puq1tbWKjIzUZZddFrDfue7FHqz+v+3EiRPKz8/X7bffHnDjhJkzZ2r58uUqKyvTo48+qqKiIv393/99h3s9dOiQTp8+3a7707d0P/tTp07p0KFDrc65kM/zWR05hu968skndfz4cWVnZ/vHUlJSVFhYqDfeeEPLly9XdHS0xo0bpz179nR5/4mJiXr++edVVFSk1atXKzk5WRMmTNCmTZv8c4L1PTjf57+mpkZvvvmm/vEf/zFgPFjPf0eE2s/A+erK139HhNLr/0K5aO62dta8efPOeU/z999/X1LT+6VL575n+vTp0/3/PXToUI0aNUpJSUlas2ZNq6F3rnXP6uz+z2psbNSMGTN05swZLV68OOCxe+65x//fQ4cO1dVXX61Ro0Zp+/btGjly5DnXbkl770/f3Pzvjrd3zfPV0a+3fPlyzZs3T6+//nrAP8TS09MDLqocN26cRo4cqaefflq/+c1vLlzj/689/ScnJys5Odm/nZGRoerqaj3xxBO67rrrOrTm+ero1yosLFSvXr106623BowH+/lvr1D8GeiIUHn9t0covv7P10UX6HPmzDnnFdmDBg3SBx98oK+++qrJYwcPHmz1nunflZiYqKSkJP+/KPv27auTJ0/qyJEjAWfpBw4caPXWrcHsv7GxUdnZ2dq3b5/efvvtc97WcOTIkYqIiNCePXs6FOjx8fEKCwtr1/3pW7qffXh4uC6//PJW57Tn+9dWHTmGs1auXKm7775bq1at0sSJE1ud261bN11zzTUX/AzlfPr/tvT0dL300kv+7WB9D86nfzPTb3/7W+Xk5CgyMrLVuZ31/HdEqP0MdFQovP4vlK56/V8oF91b7vHx8UpJSWm1oqOjlZGRIZ/Pp/fee8+/75YtW+Tz+doUvGcdPnxY1dXV/nuxp6WlKSIiQiUlJf45NTU1+vDDD9u0bmf3fzbM9+zZow0bNvj/x9CaP//5z2psbAy433x7REZGKi0tLeA5kaSSkpIWez17P/tvW79+vUaNGqWIiIhW57Tn+9dWHTkG6f/OTGbNmqVly5bp5ptvPufXMTPt2LGjw891Szra/3dVVlYG9Bas78H59L9x40bt3btXd9999zm/Tmc9/x0Raj8DHREqr/8Lpate/xdM0C/DC6LJkyfbD37wA6uoqLCKigobNmxYk499JScn2+rVq83M7OjRo/bggw9aeXm57du3z0pLSy0jI8OuuOIKq6+v9+8ze/Zs69+/v23YsMG2b99uN9xwQ6d9bK09/Tc2Ntott9xi/fv3tx07dgR8FKOhocHMzPbu3Wvz58+3999/3/bt22dr1qyxlJQUGzFixHn1f/YjR0uWLLGqqirLy8uzmJgY/xXH+fn5lpOT459/9iM7DzzwgFVVVdmSJUuafGTn3XfftbCwMFu4cKHt2rXLFi5cGJSPrbX1GJYtW2bh4eG2aNGiFj8COG/ePFu3bp198sknVllZaXfddZeFh4fbli1burz/X/3qV1ZcXGwff/yxffjhh5afn2+SrKioyD8nmN+D9vZ/1h133GFjxoxpds1gPv9Hjx61yspKq6ysNEn2y1/+0iorK/2fMAn1n4H29h9qr//29h9qr/8LwelAP3z4sM2cOdN69uxpPXv2tJkzZzb5iIIkW7p0qZmZffPNN5aVlWW9e/e2iIgIGzhwoOXm5tr+/fsD9vnrX/9qc+bMsbi4OOvevbtNnTq1yZyu6H/fvn0mqdkqLS01M7P9+/fbddddZ3FxcRYZGWlXXXWV3X///U0+a98RixYtsqSkJIuMjLSRI0faxo0b/Y/l5uZaZmZmwPyysjIbMWKERUZG2qBBg+zZZ59tsuaqVassOTnZIiIiLCUlJeCHrTO05xgyMzObfa5zc3P9c/Ly8mzgwIEWGRlpvXv3tqysLCsvLw+J/h9//HG76qqrLDo62i677DL74Q9/aGvWrGmyZjC/B+19DdXV1Vn37t3t+eefb3a9YD7/Zz8G1dLrIdR/Btrbf6i9/tvbfyi+/s8Xt08FAMABF93v0AEAQFMEOgAADiDQAQBwAIEOAIADCHQAABxAoAMA4AACHQAABxDoAAA4gEAHAMABBDoAAA4g0AEAcACBDgCAAwh0AAAcQKADAOAAAh0AAAcQ6AAAOIBABwDAAQQ6AAAOINABAHAAgQ4AgAMIdAAAHECgAwDgAAIdAAAHEOgAADiAQAcAwAEEOgAADiDQAQBwAIEOAIADCHQAABxAoAMA4AACHQAABxDoAAA4gEAHAMAB/wtNtBhc1KziRQAAAABJRU5ErkJggg==' width=500.0/>\n            </div>\n        ",
          "text/plain": "Canvas(toolbar=Toolbar(toolitems=[('Home', 'Reset original view', 'home', 'home'), ('Back', 'Back to previous …"
         },
         "metadata": {},
         "output_type": "display_data"
        }
       ]
      }
     },
     "8234964a436f4c829307341e4da7809a": {
      "model_module": "@jupyter-widgets/controls",
      "model_module_version": "1.5.0",
      "model_name": "SelectMultipleModel",
      "state": {
       "_options_labels": [
        "..",
        "segmented",
        ".DS_Store",
        "Curvature.pdf",
        "Parameters.yml",
        "Results.pkl"
       ],
       "index": [],
       "layout": "IPY_MODEL_27d31e1ac3564d9bb57f69c95cb29326",
       "rows": 10,
       "style": "IPY_MODEL_a6a2f430b78e4c24ac108cf664c60e21"
      }
     },
     "83861dae241f419b91bc91f25e94373f": {
      "model_module": "@jupyter-widgets/base",
      "model_module_version": "1.2.0",
      "model_name": "LayoutModel",
      "state": {}
     },
     "848a7ed8a3274b1d9cd4d2626cee5334": {
      "model_module": "@jupyter-widgets/base",
      "model_module_version": "1.2.0",
      "model_name": "LayoutModel",
      "state": {
       "width": "150px"
      }
     },
     "8531f8220a954d53a00bbb1cd0627e94": {
      "model_module": "@jupyter-widgets/controls",
      "model_module_version": "1.5.0",
      "model_name": "DescriptionStyleModel",
      "state": {
       "description_width": ""
      }
     },
     "858181328434471aaf9dfbcce1997a6b": {
      "model_module": "@jupyter-widgets/controls",
      "model_module_version": "1.5.0",
      "model_name": "AccordionModel",
      "state": {
       "_titles": {
        "0": "Manual Scaling",
        "1": "Adaptive Scaling"
       },
       "children": [
        "IPY_MODEL_63f2475e766848ecafdc09dac4490a5a",
        "IPY_MODEL_0c1787fb16a948369112881a07e94007"
       ],
       "layout": "IPY_MODEL_2a92a3fd7ef6426cb511789fbf3f3bdc",
       "selected_index": null
      }
     },
     "881a969fbb264c10a5b8bcaae945e51f": {
      "model_module": "@jupyter-widgets/controls",
      "model_module_version": "1.5.0",
      "model_name": "ButtonStyleModel",
      "state": {}
     },
     "884f23beff5040f1a02adb20feacb283": {
      "model_module": "@jupyter-widgets/controls",
      "model_module_version": "1.5.0",
      "model_name": "VBoxModel",
      "state": {
       "children": [
        "IPY_MODEL_ec0256901df44ffc9ae279f5eefb6134",
        "IPY_MODEL_b05ccdb4386a4c3b970d5a98d83239a0"
       ],
       "layout": "IPY_MODEL_4f7a22a6d11340ca9ec0c049cbd70349"
      }
     },
     "898cb538f5d345f7aac7ae3fa54b563b": {
      "model_module": "@jupyter-widgets/base",
      "model_module_version": "1.2.0",
      "model_name": "LayoutModel",
      "state": {}
     },
     "89a5ca4ab9ab441a8ea38d4670a3e705": {
      "model_module": "@jupyter-widgets/base",
      "model_module_version": "1.2.0",
      "model_name": "LayoutModel",
      "state": {
       "width": "300px"
      }
     },
     "8adde31587d44da9a48941a21182942e": {
      "model_module": "@jupyter-widgets/base",
      "model_module_version": "1.2.0",
      "model_name": "LayoutModel",
      "state": {}
     },
     "8ccd8b93564d4b5ab76d0ca1c9588c4d": {
      "model_module": "@jupyter-widgets/controls",
      "model_module_version": "1.5.0",
      "model_name": "DescriptionStyleModel",
      "state": {
       "description_width": ""
      }
     },
     "8ebb79a47e3a46b39dc135938579ffb6": {
      "model_module": "@jupyter-widgets/controls",
      "model_module_version": "1.5.0",
      "model_name": "DescriptionStyleModel",
      "state": {
       "description_width": ""
      }
     },
     "8f24722c68684d759723518079019b9a": {
      "model_module": "@jupyter-widgets/base",
      "model_module_version": "1.2.0",
      "model_name": "LayoutModel",
      "state": {
       "width": "300px"
      }
     },
     "905dd7f95f3247cc8639270632cfba03": {
      "model_module": "@jupyter-widgets/base",
      "model_module_version": "1.2.0",
      "model_name": "LayoutModel",
      "state": {}
     },
     "90e350447ccf464f86a9dbb8d70ac8c3": {
      "model_module": "@jupyter-widgets/controls",
      "model_module_version": "1.5.0",
      "model_name": "DescriptionStyleModel",
      "state": {
       "description_width": "initial"
      }
     },
     "939f2d6d9d6a41e9995b885b85368e27": {
      "model_module": "@jupyter-widgets/controls",
      "model_module_version": "1.5.0",
      "model_name": "HTMLModel",
      "state": {
       "layout": "IPY_MODEL_f60b0bf9d6a1499ea928e5b3069498ff",
       "style": "IPY_MODEL_97fb3c201d5f4481a008886728c16727",
       "value": "<div class=\"jp-RenderedHTMLCommon jp-RenderedHTML jp-mod-trusted jp-OutputArea-output\">\n    <div style=\"width: 24px; height: 24px; background-color: #e1e1e1; border: 3px solid #9D9D9D; border-radius: 5px; position: absolute;\">\n    </div>\n    <div style=\"margin-left: 48px;\">\n        <h3 style=\"margin-bottom: 0px; margin-top: 0px;\">LocalCluster</h3>\n        <p style=\"color: #9D9D9D; margin-bottom: 0px;\">62f9b5c1</p>\n        <table style=\"width: 100%; text-align: left;\">\n            <tr>\n                <td style=\"text-align: left;\">\n                    <strong>Dashboard:</strong> <a href=\"http://127.0.0.1:53288/status\" target=\"_blank\">http://127.0.0.1:53288/status</a>\n                </td>\n                <td style=\"text-align: left;\">\n                    <strong>Workers:</strong> 4\n                </td>\n            </tr>\n            <tr>\n                <td style=\"text-align: left;\">\n                    <strong>Total threads:</strong> 4\n                </td>\n                <td style=\"text-align: left;\">\n                    <strong>Total memory:</strong> 16.00 GiB\n                </td>\n            </tr>\n            \n            <tr>\n    <td style=\"text-align: left;\"><strong>Status:</strong> running</td>\n    <td style=\"text-align: left;\"><strong>Using processes:</strong> True</td>\n</tr>\n\n            \n        </table>\n\n        <details>\n            <summary style=\"margin-bottom: 20px;\">\n                <h3 style=\"display: inline;\">Scheduler Info</h3>\n            </summary>\n\n            <div style=\"\">\n    <div>\n        <div style=\"width: 24px; height: 24px; background-color: #FFF7E5; border: 3px solid #FF6132; border-radius: 5px; position: absolute;\"> </div>\n        <div style=\"margin-left: 48px;\">\n            <h3 style=\"margin-bottom: 0px;\">Scheduler</h3>\n            <p style=\"color: #9D9D9D; margin-bottom: 0px;\">Scheduler-c84442e2-0c09-438e-87da-6d37f487b3ce</p>\n            <table style=\"width: 100%; text-align: left;\">\n                <tr>\n                    <td style=\"text-align: left;\">\n                        <strong>Comm:</strong> tcp://127.0.0.1:53289\n                    </td>\n                    <td style=\"text-align: left;\">\n                        <strong>Workers:</strong> 4\n                    </td>\n                </tr>\n                <tr>\n                    <td style=\"text-align: left;\">\n                        <strong>Dashboard:</strong> <a href=\"http://127.0.0.1:53288/status\" target=\"_blank\">http://127.0.0.1:53288/status</a>\n                    </td>\n                    <td style=\"text-align: left;\">\n                        <strong>Total threads:</strong> 4\n                    </td>\n                </tr>\n                <tr>\n                    <td style=\"text-align: left;\">\n                        <strong>Started:</strong> 4 minutes ago\n                    </td>\n                    <td style=\"text-align: left;\">\n                        <strong>Total memory:</strong> 16.00 GiB\n                    </td>\n                </tr>\n            </table>\n        </div>\n    </div>\n\n    <details style=\"margin-left: 48px;\">\n        <summary style=\"margin-bottom: 20px;\">\n            <h3 style=\"display: inline;\">Workers</h3>\n        </summary>\n\n        \n        <div style=\"margin-bottom: 20px;\">\n            <div style=\"width: 24px; height: 24px; background-color: #DBF5FF; border: 3px solid #4CC9FF; border-radius: 5px; position: absolute;\"> </div>\n            <div style=\"margin-left: 48px;\">\n            <details>\n                <summary>\n                    <h4 style=\"margin-bottom: 0px; display: inline;\">Worker: 0</h4>\n                </summary>\n                <table style=\"width: 100%; text-align: left;\">\n                    <tr>\n                        <td style=\"text-align: left;\">\n                            <strong>Comm: </strong> tcp://127.0.0.1:53309\n                        </td>\n                        <td style=\"text-align: left;\">\n                            <strong>Total threads: </strong> 1\n                        </td>\n                    </tr>\n                    <tr>\n                        <td style=\"text-align: left;\">\n                            <strong>Dashboard: </strong> <a href=\"http://127.0.0.1:53310/status\" target=\"_blank\">http://127.0.0.1:53310/status</a>\n                        </td>\n                        <td style=\"text-align: left;\">\n                            <strong>Memory: </strong> 4.00 GiB\n                        </td>\n                    </tr>\n                    <tr>\n                        <td style=\"text-align: left;\">\n                            <strong>Nanny: </strong> tcp://127.0.0.1:53294\n                        </td>\n                        <td style=\"text-align: left;\"></td>\n                    </tr>\n                    <tr>\n                        <td colspan=\"2\" style=\"text-align: left;\">\n                            <strong>Local directory: </strong> /Users/gw18g940/GoogleDrive/BernMIC/Projects/MorphoDynamics/synthetic/dask-worker-space/worker-y8pqixff\n                        </td>\n                    </tr>\n\n                    \n\n                    \n\n                </table>\n            </details>\n            </div>\n        </div>\n        \n        <div style=\"margin-bottom: 20px;\">\n            <div style=\"width: 24px; height: 24px; background-color: #DBF5FF; border: 3px solid #4CC9FF; border-radius: 5px; position: absolute;\"> </div>\n            <div style=\"margin-left: 48px;\">\n            <details>\n                <summary>\n                    <h4 style=\"margin-bottom: 0px; display: inline;\">Worker: 1</h4>\n                </summary>\n                <table style=\"width: 100%; text-align: left;\">\n                    <tr>\n                        <td style=\"text-align: left;\">\n                            <strong>Comm: </strong> tcp://127.0.0.1:53300\n                        </td>\n                        <td style=\"text-align: left;\">\n                            <strong>Total threads: </strong> 1\n                        </td>\n                    </tr>\n                    <tr>\n                        <td style=\"text-align: left;\">\n                            <strong>Dashboard: </strong> <a href=\"http://127.0.0.1:53304/status\" target=\"_blank\">http://127.0.0.1:53304/status</a>\n                        </td>\n                        <td style=\"text-align: left;\">\n                            <strong>Memory: </strong> 4.00 GiB\n                        </td>\n                    </tr>\n                    <tr>\n                        <td style=\"text-align: left;\">\n                            <strong>Nanny: </strong> tcp://127.0.0.1:53295\n                        </td>\n                        <td style=\"text-align: left;\"></td>\n                    </tr>\n                    <tr>\n                        <td colspan=\"2\" style=\"text-align: left;\">\n                            <strong>Local directory: </strong> /Users/gw18g940/GoogleDrive/BernMIC/Projects/MorphoDynamics/synthetic/dask-worker-space/worker-pqck_4kz\n                        </td>\n                    </tr>\n\n                    \n\n                    \n\n                </table>\n            </details>\n            </div>\n        </div>\n        \n        <div style=\"margin-bottom: 20px;\">\n            <div style=\"width: 24px; height: 24px; background-color: #DBF5FF; border: 3px solid #4CC9FF; border-radius: 5px; position: absolute;\"> </div>\n            <div style=\"margin-left: 48px;\">\n            <details>\n                <summary>\n                    <h4 style=\"margin-bottom: 0px; display: inline;\">Worker: 2</h4>\n                </summary>\n                <table style=\"width: 100%; text-align: left;\">\n                    <tr>\n                        <td style=\"text-align: left;\">\n                            <strong>Comm: </strong> tcp://127.0.0.1:53302\n                        </td>\n                        <td style=\"text-align: left;\">\n                            <strong>Total threads: </strong> 1\n                        </td>\n                    </tr>\n                    <tr>\n                        <td style=\"text-align: left;\">\n                            <strong>Dashboard: </strong> <a href=\"http://127.0.0.1:53305/status\" target=\"_blank\">http://127.0.0.1:53305/status</a>\n                        </td>\n                        <td style=\"text-align: left;\">\n                            <strong>Memory: </strong> 4.00 GiB\n                        </td>\n                    </tr>\n                    <tr>\n                        <td style=\"text-align: left;\">\n                            <strong>Nanny: </strong> tcp://127.0.0.1:53293\n                        </td>\n                        <td style=\"text-align: left;\"></td>\n                    </tr>\n                    <tr>\n                        <td colspan=\"2\" style=\"text-align: left;\">\n                            <strong>Local directory: </strong> /Users/gw18g940/GoogleDrive/BernMIC/Projects/MorphoDynamics/synthetic/dask-worker-space/worker-flyu0ps3\n                        </td>\n                    </tr>\n\n                    \n\n                    \n\n                </table>\n            </details>\n            </div>\n        </div>\n        \n        <div style=\"margin-bottom: 20px;\">\n            <div style=\"width: 24px; height: 24px; background-color: #DBF5FF; border: 3px solid #4CC9FF; border-radius: 5px; position: absolute;\"> </div>\n            <div style=\"margin-left: 48px;\">\n            <details>\n                <summary>\n                    <h4 style=\"margin-bottom: 0px; display: inline;\">Worker: 3</h4>\n                </summary>\n                <table style=\"width: 100%; text-align: left;\">\n                    <tr>\n                        <td style=\"text-align: left;\">\n                            <strong>Comm: </strong> tcp://127.0.0.1:53301\n                        </td>\n                        <td style=\"text-align: left;\">\n                            <strong>Total threads: </strong> 1\n                        </td>\n                    </tr>\n                    <tr>\n                        <td style=\"text-align: left;\">\n                            <strong>Dashboard: </strong> <a href=\"http://127.0.0.1:53303/status\" target=\"_blank\">http://127.0.0.1:53303/status</a>\n                        </td>\n                        <td style=\"text-align: left;\">\n                            <strong>Memory: </strong> 4.00 GiB\n                        </td>\n                    </tr>\n                    <tr>\n                        <td style=\"text-align: left;\">\n                            <strong>Nanny: </strong> tcp://127.0.0.1:53292\n                        </td>\n                        <td style=\"text-align: left;\"></td>\n                    </tr>\n                    <tr>\n                        <td colspan=\"2\" style=\"text-align: left;\">\n                            <strong>Local directory: </strong> /Users/gw18g940/GoogleDrive/BernMIC/Projects/MorphoDynamics/synthetic/dask-worker-space/worker-ppwe_ihz\n                        </td>\n                    </tr>\n\n                    \n\n                    \n\n                </table>\n            </details>\n            </div>\n        </div>\n        \n\n    </details>\n</div>\n\n        </details>\n    </div>\n</div>"
      }
     },
     "94e830e601164969a3b0f10893d5e081": {
      "model_module": "@jupyter-widgets/output",
      "model_module_version": "1.0.0",
      "model_name": "OutputModel",
      "state": {
       "layout": "IPY_MODEL_0e769cced13f42159e6c96b94afafe04"
      }
     },
     "966f4620aa32433291c4c2ed09be3ad7": {
      "model_module": "@jupyter-widgets/controls",
      "model_module_version": "1.5.0",
      "model_name": "ButtonStyleModel",
      "state": {}
     },
     "967d962a650f4767b96f09b67abcf54e": {
      "model_module": "@jupyter-widgets/controls",
      "model_module_version": "1.5.0",
      "model_name": "DescriptionStyleModel",
      "state": {
       "description_width": ""
      }
     },
     "9723d9f40dad4222a2a19e5a51f9f2b9": {
      "model_module": "@jupyter-widgets/controls",
      "model_module_version": "1.5.0",
      "model_name": "ButtonStyleModel",
      "state": {}
     },
     "97329c4c36454175beee4b6010c1a1f2": {
      "model_module": "@jupyter-widgets/controls",
      "model_module_version": "1.5.0",
      "model_name": "DescriptionStyleModel",
      "state": {
       "description_width": ""
      }
     },
     "97fb3c201d5f4481a008886728c16727": {
      "model_module": "@jupyter-widgets/controls",
      "model_module_version": "1.5.0",
      "model_name": "DescriptionStyleModel",
      "state": {
       "description_width": ""
      }
     },
     "98136662bc7343fe9e297237dc84034a": {
      "model_module": "@jupyter-widgets/controls",
      "model_module_version": "1.5.0",
      "model_name": "DescriptionStyleModel",
      "state": {
       "description_width": ""
      }
     },
     "983ef16823604568983f292cf1eee663": {
      "model_module": "@jupyter-widgets/controls",
      "model_module_version": "1.5.0",
      "model_name": "HBoxModel",
      "state": {
       "children": [
        "IPY_MODEL_81adf0973ffe490b82b97e5b5f2c42f5",
        "IPY_MODEL_b65d0ebb3d8f46629a0e263328d01c46"
       ],
       "layout": "IPY_MODEL_32ffda9cd102491196d5dc258de57e68"
      }
     },
     "9906bc4d97cf42a682d9d262f096139d": {
      "model_module": "@jupyter-widgets/controls",
      "model_module_version": "1.5.0",
      "model_name": "ButtonModel",
      "state": {
       "description": "Initialize data",
       "layout": "IPY_MODEL_a8ac6b46076f44c2a6e82ff7ac9b2ddc",
       "style": "IPY_MODEL_118d3b5772d04159be010ba4422191b3"
      }
     },
     "9f31c1f8290844ee90533f8215de3802": {
      "model_module": "@jupyter-widgets/controls",
      "model_module_version": "1.5.0",
      "model_name": "DescriptionStyleModel",
      "state": {
       "description_width": ""
      }
     },
     "a0c87adab04a4648bf8c556e47c80683": {
      "model_module": "@jupyter-widgets/base",
      "model_module_version": "1.2.0",
      "model_name": "LayoutModel",
      "state": {}
     },
     "a1d16b3aec294ba58c6741bee71003c4": {
      "model_module": "@jupyter-widgets/controls",
      "model_module_version": "1.5.0",
      "model_name": "DescriptionStyleModel",
      "state": {
       "description_width": ""
      }
     },
     "a3c924fc8fad453e988947c31bef2529": {
      "model_module": "@jupyter-widgets/controls",
      "model_module_version": "1.5.0",
      "model_name": "ButtonStyleModel",
      "state": {}
     },
     "a6a2f430b78e4c24ac108cf664c60e21": {
      "model_module": "@jupyter-widgets/controls",
      "model_module_version": "1.5.0",
      "model_name": "DescriptionStyleModel",
      "state": {
       "description_width": ""
      }
     },
     "a79e8a12500d43109e160f30f6838cb9": {
      "model_module": "@jupyter-widgets/output",
      "model_module_version": "1.0.0",
      "model_name": "OutputModel",
      "state": {
       "layout": "IPY_MODEL_0473251d67eb431b8e750cccb6ad0c41"
      }
     },
     "a817f38a14ad4a4cb2c3d1ad5eb19fa8": {
      "model_module": "@jupyter-widgets/controls",
      "model_module_version": "1.5.0",
      "model_name": "VBoxModel",
      "state": {
       "children": [
        "IPY_MODEL_6b690de06c7e4e7fadbbf59881e285f4",
        "IPY_MODEL_e6972f2ba195460086560f01836f580b"
       ],
       "layout": "IPY_MODEL_bb4b725572cc44fab146ebaa7676f43c"
      }
     },
     "a8ac6b46076f44c2a6e82ff7ac9b2ddc": {
      "model_module": "@jupyter-widgets/base",
      "model_module_version": "1.2.0",
      "model_name": "LayoutModel",
      "state": {}
     },
     "ab03d991c133447eb87320e1c952a12a": {
      "model_module": "@jupyter-widgets/controls",
      "model_module_version": "1.5.0",
      "model_name": "ButtonModel",
      "state": {
       "description": "Scale",
       "layout": "IPY_MODEL_848a7ed8a3274b1d9cd4d2626cee5334",
       "style": "IPY_MODEL_ed5c11d1c62e48818de6e8bcdf9f5985"
      }
     },
     "ab5653e3272d4e449152131fc1a2e622": {
      "model_module": "@jupyter-widgets/controls",
      "model_module_version": "1.5.0",
      "model_name": "IntTextModel",
      "state": {
       "description": "Workers",
       "layout": "IPY_MODEL_848a7ed8a3274b1d9cd4d2626cee5334",
       "step": 1,
       "style": "IPY_MODEL_c5c9514cf5b444e08c827c9d6deee9c0"
      }
     },
     "acdf51f7c5ea46e289552858787da235": {
      "model_module": "@jupyter-widgets/controls",
      "model_module_version": "1.5.0",
      "model_name": "HTMLModel",
      "state": {
       "layout": "IPY_MODEL_476156fb80e94169909b6f2c34206d49",
       "style": "IPY_MODEL_a1d16b3aec294ba58c6741bee71003c4",
       "value": "<br><font size=\"5\"><b>2. Select locations.<b></font>                        <br><font size=\"3\"><b>Select the folders (a) containing your data, (b) where your results                     should be saved, and (c) where the segmentation either is already available or should be saved.<b></font>"
      }
     },
     "ade70552fefc4fc9bb7e34bc12bbe0c8": {
      "model_module": "@jupyter-widgets/base",
      "model_module_version": "1.2.0",
      "model_name": "LayoutModel",
      "state": {}
     },
     "aecd1a7393534677b40f61118e389ef2": {
      "model_module": "@jupyter-widgets/controls",
      "model_module_version": "1.5.0",
      "model_name": "CheckboxModel",
      "state": {
       "description": "Show labels",
       "disabled": false,
       "layout": "IPY_MODEL_08bafbc442114631b1b22bff0e47e7b8",
       "style": "IPY_MODEL_54be297e9ec444c7b17cca290c3d392f",
       "value": true
      }
     },
     "b05ccdb4386a4c3b970d5a98d83239a0": {
      "model_module": "@jupyter-widgets/controls",
      "model_module_version": "1.5.0",
      "model_name": "SelectMultipleModel",
      "state": {
       "_options_labels": [
        "Ilastiksegmentation",
        "Result_test",
        "Results_cellpose",
        "Results_ilastik",
        "Results_step",
        "Parameters.yml",
        "Results.pkl",
        "synth.ilp",
        "synth_ch1.h5",
        "synth_ch2.h5",
        "synth_ch3.h5"
       ],
       "index": [
        9,
        10
       ],
       "layout": "IPY_MODEL_f64f0fa4d74947b4ab00277237c7b23f",
       "rows": 5,
       "style": "IPY_MODEL_8ccd8b93564d4b5ab76d0ca1c9588c4d"
      }
     },
     "b158db0f1902476dac01c068e8f44a7b": {
      "model_module": "@jupyter-widgets/base",
      "model_module_version": "1.2.0",
      "model_name": "LayoutModel",
      "state": {}
     },
     "b31bead95751463698cecaed66e146a6": {
      "model_module": "@jupyter-widgets/base",
      "model_module_version": "1.2.0",
      "model_name": "LayoutModel",
      "state": {}
     },
     "b3ae93307402402d891ec00185e5ed8b": {
      "model_module": "@jupyter-widgets/controls",
      "model_module_version": "1.5.0",
      "model_name": "HTMLModel",
      "state": {
       "layout": "IPY_MODEL_db2d070e7f47493aa83081145c2f2d95",
       "style": "IPY_MODEL_c98d10a66ff04bd4b69db8b9494364df",
       "value": "\n        <table>\n            <tr><td style=\"text-align: left;\">Scaling mode: Manual</td></tr>\n            <tr><td style=\"text-align: left;\">Workers: 4</td></tr>\n        </table>\n        "
      }
     },
     "b4e9a35c837045aca932820ed0df6e78": {
      "model_module": "@jupyter-widgets/controls",
      "model_module_version": "1.5.0",
      "model_name": "ButtonModel",
      "state": {
       "description": "Refresh folder content",
       "layout": "IPY_MODEL_89a5ca4ab9ab441a8ea38d4670a3e705",
       "style": "IPY_MODEL_881a969fbb264c10a5b8bcaae945e51f"
      }
     },
     "b65d0ebb3d8f46629a0e263328d01c46": {
      "model_module": "@jupyter-widgets/controls",
      "model_module_version": "1.5.0",
      "model_name": "VBoxModel",
      "state": {
       "children": [
        "IPY_MODEL_73a9ebf8bc4f4bcfad2aaaca8358c3c4",
        "IPY_MODEL_582d9303bbec4bda898c18d284f12b50",
        "IPY_MODEL_686311757a824b308199eaf1e5caeeaf",
        "IPY_MODEL_3d1941d6fcf042fdbd83f9e0510d1f26",
        "IPY_MODEL_aecd1a7393534677b40f61118e389ef2"
       ],
       "layout": "IPY_MODEL_e3a49a2dc88f406c91149c6d3dc9c67b"
      }
     },
     "b808963114294a9b9bfe962ad3f2efc7": {
      "model_module": "@jupyter-widgets/controls",
      "model_module_version": "1.5.0",
      "model_name": "DescriptionStyleModel",
      "state": {
       "description_width": ""
      }
     },
     "b8a121217fc64ff588c7a6d0707c5e89": {
      "model_module": "@jupyter-widgets/controls",
      "model_module_version": "1.5.0",
      "model_name": "HBoxModel",
      "state": {
       "children": [
        "IPY_MODEL_2e807b2dcd5341aeb3d25aaa4c4a4a65",
        "IPY_MODEL_f26e4a49b68c482e856c7aaaded2a80c"
       ],
       "layout": "IPY_MODEL_0aec4e5020fa4ac6940dfebc360e031d"
      }
     },
     "b8eaf2e783e54f9bb0cd232d94c54431": {
      "model_module": "@jupyter-widgets/controls",
      "model_module_version": "1.5.0",
      "model_name": "DescriptionStyleModel",
      "state": {
       "description_width": ""
      }
     },
     "b8f3b55b5df94c3e994da22717d5623c": {
      "model_module": "@jupyter-widgets/controls",
      "model_module_version": "1.5.0",
      "model_name": "RadioButtonsModel",
      "state": {
       "_options_labels": [
        "New segmentation",
        "Re-use segmentation"
       ],
       "description": "Segmentation computation:",
       "index": 0,
       "layout": "IPY_MODEL_7c3cb21b9c7b4fd28f298043b4b14079",
       "style": "IPY_MODEL_9f31c1f8290844ee90533f8215de3802"
      }
     },
     "ba46ea11b2074a68b9cb2a0d9d0de45f": {
      "model_module": "@jupyter-widgets/base",
      "model_module_version": "1.2.0",
      "model_name": "LayoutModel",
      "state": {}
     },
     "baeb918af5aa4f1b95176c68dcd6176d": {
      "model_module": "@jupyter-widgets/controls",
      "model_module_version": "1.5.0",
      "model_name": "DescriptionStyleModel",
      "state": {
       "description_width": ""
      }
     },
     "baf757ab67dd4f6c947582abe274c422": {
      "model_module": "@jupyter-widgets/controls",
      "model_module_version": "1.5.0",
      "model_name": "HTMLModel",
      "state": {
       "layout": "IPY_MODEL_c6a1b2524328485696dffef16f3b54c4",
       "style": "IPY_MODEL_4cae6ce1365a4448a66177118f29fb6f",
       "value": "<br><font size=\"5\"><b>Run or visualize segmentation<b></font>"
      }
     },
     "bb4b725572cc44fab146ebaa7676f43c": {
      "model_module": "@jupyter-widgets/base",
      "model_module_version": "1.2.0",
      "model_name": "LayoutModel",
      "state": {}
     },
     "bcaee93ed24d4cd7b4539d82b986b95f": {
      "model_module": "jupyter-matplotlib",
      "model_module_version": "^0.10.2",
      "model_name": "ToolbarModel",
      "state": {
       "layout": "IPY_MODEL_b31bead95751463698cecaed66e146a6",
       "toolitems": [
        [
         "Home",
         "Reset original view",
         "home",
         "home"
        ],
        [
         "Back",
         "Back to previous view",
         "arrow-left",
         "back"
        ],
        [
         "Forward",
         "Forward to next view",
         "arrow-right",
         "forward"
        ],
        [
         "Pan",
         "Left button pans, Right button zooms\nx/y fixes axis, CTRL fixes aspect",
         "arrows",
         "pan"
        ],
        [
         "Zoom",
         "Zoom to rectangle\nx/y fixes axis",
         "square-o",
         "zoom"
        ],
        [
         "Download",
         "Download plot",
         "floppy-o",
         "save_figure"
        ]
       ]
      }
     },
     "c1e46b91e15449a29100c1dfe04b671b": {
      "model_module": "@jupyter-widgets/controls",
      "model_module_version": "1.5.0",
      "model_name": "TabModel",
      "state": {
       "_titles": {
        "0": "Status",
        "1": "Scaling"
       },
       "children": [
        "IPY_MODEL_939f2d6d9d6a41e9995b885b85368e27",
        "IPY_MODEL_66c95a54d4514caaaee32039a97558f6"
       ],
       "layout": "IPY_MODEL_664d79564733412cab51f6b78cac8147"
      }
     },
     "c1ebec05186340f69d134b2836268d8a": {
      "model_module": "@jupyter-widgets/controls",
      "model_module_version": "1.5.0",
      "model_name": "ButtonModel",
      "state": {
       "description": "Save analysis",
       "layout": "IPY_MODEL_4da26f9fcbf54b6a9bc49e753ba577a5",
       "style": "IPY_MODEL_a3c924fc8fad453e988947c31bef2529"
      }
     },
     "c33624f5a27a4a6d9871b751b8e95ed4": {
      "model_module": "@jupyter-widgets/base",
      "model_module_version": "1.2.0",
      "model_name": "LayoutModel",
      "state": {
       "width": "300px"
      }
     },
     "c5c9514cf5b444e08c827c9d6deee9c0": {
      "model_module": "@jupyter-widgets/controls",
      "model_module_version": "1.5.0",
      "model_name": "DescriptionStyleModel",
      "state": {
       "description_width": ""
      }
     },
     "c6a1b2524328485696dffef16f3b54c4": {
      "model_module": "@jupyter-widgets/base",
      "model_module_version": "1.2.0",
      "model_name": "LayoutModel",
      "state": {}
     },
     "c8b8b8e41e75494e8dba58d0ae39d93f": {
      "model_module": "@jupyter-widgets/controls",
      "model_module_version": "1.5.0",
      "model_name": "FloatTextModel",
      "state": {
       "description": "Threshold:",
       "layout": "IPY_MODEL_f55243700f7b4ee9a0806ee0a65ea78f",
       "step": null,
       "style": "IPY_MODEL_8ebb79a47e3a46b39dc135938579ffb6",
       "value": 100
      }
     },
     "c910162fa43341a8ad2fec10e88db43f": {
      "model_module": "@jupyter-widgets/base",
      "model_module_version": "1.2.0",
      "model_name": "LayoutModel",
      "state": {}
     },
     "c98d10a66ff04bd4b69db8b9494364df": {
      "model_module": "@jupyter-widgets/controls",
      "model_module_version": "1.5.0",
      "model_name": "DescriptionStyleModel",
      "state": {
       "description_width": ""
      }
     },
     "caa2d1f244cb4b3c931abdbf9b2b42d4": {
      "model_module": "@jupyter-widgets/controls",
      "model_module_version": "1.5.0",
      "model_name": "IntTextModel",
      "state": {
       "description": "Window width",
       "layout": "IPY_MODEL_7f490449bc5f4bc7b766f980c9c38aa8",
       "step": 1,
       "style": "IPY_MODEL_90e350447ccf464f86a9dbb8d70ac8c3",
       "value": 10
      }
     },
     "caa6b7212b1d4fe79b7207850cd1ac60": {
      "model_module": "@jupyter-widgets/base",
      "model_module_version": "1.2.0",
      "model_name": "LayoutModel",
      "state": {}
     },
     "cc895a9dbfa4417ea13d9777151bc118": {
      "model_module": "@jupyter-widgets/controls",
      "model_module_version": "1.5.0",
      "model_name": "DescriptionStyleModel",
      "state": {
       "description_width": ""
      }
     },
     "ccea87a7743a44b3920fc77a5bdb1803": {
      "model_module": "@jupyter-widgets/output",
      "model_module_version": "1.0.0",
      "model_name": "OutputModel",
      "state": {
       "layout": "IPY_MODEL_fbd30ff7f18b459688de1ebfb765a209",
       "outputs": [
        {
         "data": {
          "application/vnd.jupyter.widget-view+json": {
           "model_id": "",
           "version_major": 2,
           "version_minor": 0
          },
          "text/plain": "Tab(children=(HTML(value='<div class=\"jp-RenderedHTMLCommon jp-RenderedHTML jp-mod-trusted jp-OutputArea-outpu…"
         },
         "metadata": {},
         "output_type": "display_data"
        }
       ]
      }
     },
     "ce037c0f5d1941e88352e28a5dd8ef81": {
      "model_module": "@jupyter-widgets/controls",
      "model_module_version": "1.5.0",
      "model_name": "VBoxModel",
      "state": {
       "children": [
        "IPY_MODEL_7988cec872b843f09b8a58bd3578901d",
        "IPY_MODEL_42685c336aa44f7ca363b58ed20256c9",
        "IPY_MODEL_29c25eee8f5f4a06b2e2ea299f947118",
        "IPY_MODEL_baf757ab67dd4f6c947582abe274c422",
        "IPY_MODEL_b8a121217fc64ff588c7a6d0707c5e89",
        "IPY_MODEL_c1ebec05186340f69d134b2836268d8a"
       ],
       "layout": "IPY_MODEL_637f9b4975d44d349be60d57216c2221"
      }
     },
     "ce518841a04a456c9deac5f2a4ce08dc": {
      "model_module": "@jupyter-widgets/controls",
      "model_module_version": "1.5.0",
      "model_name": "DescriptionStyleModel",
      "state": {
       "description_width": ""
      }
     },
     "d36e6e897c034e1a930b85c4670b8549": {
      "model_module": "@jupyter-widgets/output",
      "model_module_version": "1.0.0",
      "model_name": "OutputModel",
      "state": {
       "layout": "IPY_MODEL_c910162fa43341a8ad2fec10e88db43f"
      }
     },
     "d3ef9acbf9d94a16b5faaa55670a3be5": {
      "model_module": "@jupyter-widgets/controls",
      "model_module_version": "1.5.0",
      "model_name": "DescriptionStyleModel",
      "state": {
       "description_width": ""
      }
     },
     "d497b62d73544206bd2eafd44e7002e1": {
      "model_module": "@jupyter-widgets/base",
      "model_module_version": "1.2.0",
      "model_name": "LayoutModel",
      "state": {}
     },
     "d4cabceeb8b249febfbf3a96e3509863": {
      "model_module": "@jupyter-widgets/base",
      "model_module_version": "1.2.0",
      "model_name": "LayoutModel",
      "state": {}
     },
     "d72a5e7982344f7fb14a55675edba8bd": {
      "model_module": "@jupyter-widgets/controls",
      "model_module_version": "1.5.0",
      "model_name": "RadioButtonsModel",
      "state": {
       "_options_labels": [
        "farid",
        "cellpose",
        "ilastik"
       ],
       "description": "Segmentation:",
       "index": 2,
       "layout": "IPY_MODEL_ef4628b5b4074f089bf3f88f6a9e32a8",
       "style": "IPY_MODEL_ce518841a04a456c9deac5f2a4ce08dc"
      }
     },
     "d8f62aa028c1429ba0daa7c680ca1d59": {
      "model_module": "@jupyter-widgets/controls",
      "model_module_version": "1.5.0",
      "model_name": "DescriptionStyleModel",
      "state": {
       "description_width": ""
      }
     },
     "db2d070e7f47493aa83081145c2f2d95": {
      "model_module": "@jupyter-widgets/base",
      "model_module_version": "1.2.0",
      "model_name": "LayoutModel",
      "state": {}
     },
     "dc35c9ad63cb45eeacd0188b2e7bb7f4": {
      "model_module": "@jupyter-widgets/base",
      "model_module_version": "1.2.0",
      "model_name": "LayoutModel",
      "state": {}
     },
     "dd1e917baffb44669f9eb52e2b4dfcd7": {
      "model_module": "@jupyter-widgets/base",
      "model_module_version": "1.2.0",
      "model_name": "LayoutModel",
      "state": {}
     },
     "e1ab54fb76a747ef832b9aa5b4251a8e": {
      "model_module": "@jupyter-widgets/controls",
      "model_module_version": "1.5.0",
      "model_name": "ButtonModel",
      "state": {
       "description": "Load analysis",
       "layout": "IPY_MODEL_83861dae241f419b91bc91f25e94373f",
       "style": "IPY_MODEL_e3762e9216e94100ab6da7fd7947d037"
      }
     },
     "e31d4d6055a245e084b4c66c377142c1": {
      "model_module": "@jupyter-widgets/base",
      "model_module_version": "1.2.0",
      "model_name": "LayoutModel",
      "state": {
       "width": "300px"
      }
     },
     "e3762e9216e94100ab6da7fd7947d037": {
      "model_module": "@jupyter-widgets/controls",
      "model_module_version": "1.5.0",
      "model_name": "ButtonStyleModel",
      "state": {
       "button_color": "lightgreen"
      }
     },
     "e3a49a2dc88f406c91149c6d3dc9c67b": {
      "model_module": "@jupyter-widgets/base",
      "model_module_version": "1.2.0",
      "model_name": "LayoutModel",
      "state": {}
     },
     "e47e301c14f94ad68d7605774e8fbc49": {
      "model_module": "@jupyter-widgets/base",
      "model_module_version": "1.2.0",
      "model_name": "LayoutModel",
      "state": {}
     },
     "e60af934d7a74d98a4f3a52ca94f709a": {
      "model_module": "@jupyter-widgets/controls",
      "model_module_version": "1.5.0",
      "model_name": "DescriptionStyleModel",
      "state": {
       "description_width": ""
      }
     },
     "e6972f2ba195460086560f01836f580b": {
      "model_module": "@jupyter-widgets/controls",
      "model_module_version": "1.5.0",
      "model_name": "SelectMultipleModel",
      "state": {
       "_options_labels": [
        "..",
        "segmented_k_00.tif",
        "segmented_k_01.tif",
        "segmented_k_02.tif",
        "segmented_k_03.tif",
        "segmented_k_04.tif",
        "segmented_k_05.tif",
        "segmented_k_06.tif",
        "segmented_k_07.tif",
        "segmented_k_08.tif",
        "segmented_k_09.tif",
        "segmented_k_10.tif",
        "segmented_k_11.tif",
        "segmented_k_12.tif",
        "segmented_k_13.tif",
        "segmented_k_14.tif",
        "segmented_k_15.tif",
        "segmented_k_16.tif",
        "segmented_k_17.tif",
        "segmented_k_18.tif",
        "segmented_k_19.tif",
        "segmented_k_20.tif",
        "segmented_k_21.tif",
        "segmented_k_22.tif",
        "segmented_k_23.tif",
        "segmented_k_24.tif",
        "segmented_k_25.tif",
        "segmented_k_26.tif",
        "segmented_k_27.tif",
        "segmented_k_28.tif",
        "segmented_k_29.tif",
        "segmented_k_30.tif",
        "segmented_k_31.tif",
        "segmented_k_32.tif",
        "segmented_k_33.tif",
        "segmented_k_34.tif",
        "segmented_k_35.tif",
        "segmented_k_36.tif",
        "segmented_k_37.tif",
        "segmented_k_38.tif",
        "segmented_k_39.tif"
       ],
       "index": [],
       "layout": "IPY_MODEL_c33624f5a27a4a6d9871b751b8e95ed4",
       "rows": 10,
       "style": "IPY_MODEL_e60af934d7a74d98a4f3a52ca94f709a"
      }
     },
     "ebb012e45eef48c9a2833bfe0476aabb": {
      "model_module": "@jupyter-widgets/base",
      "model_module_version": "1.2.0",
      "model_name": "LayoutModel",
      "state": {}
     },
     "ec0256901df44ffc9ae279f5eefb6134": {
      "model_module": "@jupyter-widgets/controls",
      "model_module_version": "1.5.0",
      "model_name": "HTMLModel",
      "state": {
       "layout": "IPY_MODEL_ba46ea11b2074a68b9cb2a0d9d0de45f",
       "style": "IPY_MODEL_967d962a650f4767b96f09b67abcf54e",
       "value": "<font size=\"3\"><b>(b) Signal<b></font>"
      }
     },
     "ed5c11d1c62e48818de6e8bcdf9f5985": {
      "model_module": "@jupyter-widgets/controls",
      "model_module_version": "1.5.0",
      "model_name": "ButtonStyleModel",
      "state": {}
     },
     "ef4628b5b4074f089bf3f88f6a9e32a8": {
      "model_module": "@jupyter-widgets/base",
      "model_module_version": "1.2.0",
      "model_name": "LayoutModel",
      "state": {}
     },
     "f26e4a49b68c482e856c7aaaded2a80c": {
      "model_module": "@jupyter-widgets/output",
      "model_module_version": "1.0.0",
      "model_name": "OutputModel",
      "state": {
       "layout": "IPY_MODEL_a0c87adab04a4648bf8c556e47c80683",
       "outputs": [
        {
         "data": {
          "application/vnd.jupyter.widget-view+json": {
           "model_id": "",
           "version_major": 2,
           "version_minor": 0
          },
          "text/plain": "HBox(children=(Output(outputs=({'output_type': 'display_data', 'data': {'text/plain': \"Canvas(toolbar=Toolbar(…"
         },
         "metadata": {},
         "output_type": "display_data"
        }
       ]
      }
     },
     "f289232f69344d4ca14cf611b562b16c": {
      "model_module": "@jupyter-widgets/base",
      "model_module_version": "1.2.0",
      "model_name": "LayoutModel",
      "state": {}
     },
     "f3625cbb4afd45cc8af03f130f01e1c6": {
      "model_module": "@jupyter-widgets/base",
      "model_module_version": "1.2.0",
      "model_name": "LayoutModel",
      "state": {}
     },
     "f55243700f7b4ee9a0806ee0a65ea78f": {
      "model_module": "@jupyter-widgets/base",
      "model_module_version": "1.2.0",
      "model_name": "LayoutModel",
      "state": {}
     },
     "f5e93d01c1ef4ca39660b37a818ae83a": {
      "model_module": "@jupyter-widgets/base",
      "model_module_version": "1.2.0",
      "model_name": "LayoutModel",
      "state": {}
     },
     "f60b0bf9d6a1499ea928e5b3069498ff": {
      "model_module": "@jupyter-widgets/base",
      "model_module_version": "1.2.0",
      "model_name": "LayoutModel",
      "state": {}
     },
     "f64f0fa4d74947b4ab00277237c7b23f": {
      "model_module": "@jupyter-widgets/base",
      "model_module_version": "1.2.0",
      "model_name": "LayoutModel",
      "state": {}
     },
     "f8c8d34cf3824db3b92fadf0fb942e4a": {
      "model_module": "@jupyter-widgets/controls",
      "model_module_version": "1.5.0",
      "model_name": "TextModel",
      "state": {
       "description": "Bad frames (e.g. 1,2,5-8,12)",
       "layout": "IPY_MODEL_caa6b7212b1d4fe79b7207850cd1ac60",
       "style": "IPY_MODEL_2774c2e9f95c434e8e31963449a77fc8"
      }
     },
     "fbbd1be7ec55462aa02540e8126f9e25": {
      "model_module": "@jupyter-widgets/controls",
      "model_module_version": "1.5.0",
      "model_name": "DescriptionStyleModel",
      "state": {
       "description_width": ""
      }
     },
     "fbd30ff7f18b459688de1ebfb765a209": {
      "model_module": "@jupyter-widgets/base",
      "model_module_version": "1.2.0",
      "model_name": "LayoutModel",
      "state": {}
     },
     "fc9153806fb34657a44cca46a1022e20": {
      "model_module": "@jupyter-widgets/base",
      "model_module_version": "1.2.0",
      "model_name": "LayoutModel",
      "state": {}
     }
    },
    "version_major": 2,
    "version_minor": 0
   }
  }
 },
 "nbformat": 4,
 "nbformat_minor": 4
}
